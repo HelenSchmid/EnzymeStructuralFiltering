{
 "cells": [
  {
   "cell_type": "code",
   "execution_count": 1,
   "id": "7957e3bb",
   "metadata": {},
   "outputs": [
    {
     "data": {
      "application/vnd.microsoft.datawrangler.viewer.v0+json": {
       "columns": [
        {
         "name": "index",
         "rawType": "int64",
         "type": "integer"
        },
        {
         "name": "Entry",
         "rawType": "object",
         "type": "string"
        },
        {
         "name": "tool",
         "rawType": "object",
         "type": "string"
        },
        {
         "name": "best_structure",
         "rawType": "object",
         "type": "string"
        },
        {
         "name": "avg_ligandRMSD",
         "rawType": "float64",
         "type": "float"
        },
        {
         "name": "method",
         "rawType": "object",
         "type": "string"
        },
        {
         "name": "enzyme_name",
         "rawType": "object",
         "type": "string"
        },
        {
         "name": "protein_ID",
         "rawType": "object",
         "type": "string"
        },
        {
         "name": "Sequence",
         "rawType": "object",
         "type": "string"
        },
        {
         "name": "reaction_smiles",
         "rawType": "object",
         "type": "string"
        },
        {
         "name": "reaction_ID",
         "rawType": "object",
         "type": "string"
        },
        {
         "name": "dataset",
         "rawType": "object",
         "type": "string"
        },
        {
         "name": "substrate_smiles",
         "rawType": "object",
         "type": "string"
        },
        {
         "name": "cofactor_smiles",
         "rawType": "object",
         "type": "string"
        },
        {
         "name": "substrate_name",
         "rawType": "object",
         "type": "string"
        },
        {
         "name": "substrate_moiety",
         "rawType": "object",
         "type": "string"
        },
        {
         "name": "cofactor_moiety",
         "rawType": "object",
         "type": "string"
        },
        {
         "name": "vina_residues",
         "rawType": "object",
         "type": "unknown"
        },
        {
         "name": "Squidly_CR_Position",
         "rawType": "object",
         "type": "string"
        },
        {
         "name": "catalytic_residues",
         "rawType": "object",
         "type": "string"
        },
        {
         "name": "chai_dir",
         "rawType": "object",
         "type": "string"
        },
        {
         "name": "boltz_dir",
         "rawType": "object",
         "type": "string"
        },
        {
         "name": "structure",
         "rawType": "object",
         "type": "unknown"
        },
        {
         "name": "vina_dir",
         "rawType": "object",
         "type": "string"
        },
        {
         "name": "vina_files_for_superimposition",
         "rawType": "object",
         "type": "unknown"
        },
        {
         "name": "chai_files_for_superimposition",
         "rawType": "object",
         "type": "unknown"
        },
        {
         "name": "boltz_files_for_superimposition",
         "rawType": "object",
         "type": "unknown"
        },
        {
         "name": "superimposedstructure_dir",
         "rawType": "object",
         "type": "unknown"
        },
        {
         "name": "pdb_file",
         "rawType": "object",
         "type": "string"
        },
        {
         "name": "proteinRMSD",
         "rawType": "float64",
         "type": "float"
        },
        {
         "name": "chai-chai_mean_proteinRMSD",
         "rawType": "float64",
         "type": "float"
        },
        {
         "name": "chai-chai_std_proteinRMSD",
         "rawType": "float64",
         "type": "float"
        },
        {
         "name": "chai-vina_mean_proteinRMSD",
         "rawType": "float64",
         "type": "float"
        },
        {
         "name": "chai-vina_std_proteinRMSD",
         "rawType": "float64",
         "type": "float"
        },
        {
         "name": "boltz-chai_mean_proteinRMSD",
         "rawType": "float64",
         "type": "float"
        },
        {
         "name": "boltz-chai_std_proteinRMSD",
         "rawType": "float64",
         "type": "float"
        },
        {
         "name": "vina-vina_mean_proteinRMSD",
         "rawType": "float64",
         "type": "float"
        },
        {
         "name": "vina-vina_std_proteinRMSD",
         "rawType": "float64",
         "type": "float"
        },
        {
         "name": "boltz-vina_mean_proteinRMSD",
         "rawType": "float64",
         "type": "float"
        },
        {
         "name": "boltz-vina_std_proteinRMSD",
         "rawType": "float64",
         "type": "float"
        },
        {
         "name": "boltz-boltz_mean_proteinRMSD",
         "rawType": "float64",
         "type": "float"
        },
        {
         "name": "boltz-boltz_std_proteinRMSD",
         "rawType": "float64",
         "type": "float"
        },
        {
         "name": "entry_overall_mean_proteinRMSD",
         "rawType": "float64",
         "type": "float"
        },
        {
         "name": "entry_overall_std_proteinRMSD",
         "rawType": "float64",
         "type": "float"
        },
        {
         "name": "ligand_rmsd",
         "rawType": "float64",
         "type": "float"
        },
        {
         "name": "boltz_boltz_mean_ligandRMSD",
         "rawType": "float64",
         "type": "float"
        },
        {
         "name": "boltz_boltz_std_ligandRMSD",
         "rawType": "float64",
         "type": "float"
        },
        {
         "name": "boltz_chai_mean_ligandRMSD",
         "rawType": "float64",
         "type": "float"
        },
        {
         "name": "boltz_chai_std_ligandRMSD",
         "rawType": "float64",
         "type": "float"
        },
        {
         "name": "boltz_vina_mean_ligandRMSD",
         "rawType": "float64",
         "type": "float"
        },
        {
         "name": "boltz_vina_std_ligandRMSD",
         "rawType": "float64",
         "type": "float"
        },
        {
         "name": "chai_chai_mean_ligandRMSD",
         "rawType": "float64",
         "type": "float"
        },
        {
         "name": "chai_chai_std_ligandRMSD",
         "rawType": "float64",
         "type": "float"
        },
        {
         "name": "chai_vina_mean_ligandRMSD",
         "rawType": "float64",
         "type": "float"
        },
        {
         "name": "chai_vina_std_ligandRMSD",
         "rawType": "float64",
         "type": "float"
        },
        {
         "name": "vina_vina_mean_ligandRMSD",
         "rawType": "float64",
         "type": "float"
        },
        {
         "name": "vina_vina_std_ligandRMSD",
         "rawType": "float64",
         "type": "float"
        },
        {
         "name": "overall_ligandRMSD_mean",
         "rawType": "float64",
         "type": "float"
        },
        {
         "name": "overall_ligandRMSD_std",
         "rawType": "float64",
         "type": "float"
        },
        {
         "name": "chai_aggregate_score",
         "rawType": "float64",
         "type": "float"
        },
        {
         "name": "chai_ptm",
         "rawType": "float64",
         "type": "float"
        },
        {
         "name": "chai_iptm",
         "rawType": "float64",
         "type": "float"
        },
        {
         "name": "chai_per_chain_ptm",
         "rawType": "object",
         "type": "unknown"
        },
        {
         "name": "chai_per_chain_pair_iptm",
         "rawType": "object",
         "type": "unknown"
        },
        {
         "name": "chai_has_clashes",
         "rawType": "object",
         "type": "unknown"
        },
        {
         "name": "chai_chain_chain_clashes",
         "rawType": "object",
         "type": "unknown"
        },
        {
         "name": "boltz2_confidence_score",
         "rawType": "float64",
         "type": "float"
        },
        {
         "name": "boltz2_ptm",
         "rawType": "float64",
         "type": "float"
        },
        {
         "name": "boltz2_iptm",
         "rawType": "float64",
         "type": "float"
        },
        {
         "name": "boltz2_ligand_iptm",
         "rawType": "float64",
         "type": "float"
        },
        {
         "name": "boltz2_protein_iptm",
         "rawType": "float64",
         "type": "float"
        },
        {
         "name": "boltz2_complex_plddt",
         "rawType": "float64",
         "type": "float"
        },
        {
         "name": "boltz2_complex_iplddt",
         "rawType": "float64",
         "type": "float"
        },
        {
         "name": "boltz2_complex_pde",
         "rawType": "float64",
         "type": "float"
        },
        {
         "name": "boltz2_complex_ipde",
         "rawType": "float64",
         "type": "float"
        },
        {
         "name": "boltz2_chains_ptm",
         "rawType": "object",
         "type": "unknown"
        },
        {
         "name": "boltz2_pair_chains_iptm",
         "rawType": "object",
         "type": "unknown"
        },
        {
         "name": "vina_affinity",
         "rawType": "float64",
         "type": "float"
        },
        {
         "name": "distance_ligand_to_cofactor",
         "rawType": "float64",
         "type": "float"
        },
        {
         "name": "distance_ligand_to_catalytic_residues",
         "rawType": "object",
         "type": "unknown"
        },
        {
         "name": "distance_cofactor_to_catalytic_residues",
         "rawType": "object",
         "type": "unknown"
        },
        {
         "name": "distance_ligand_to_closest_nuc",
         "rawType": "object",
         "type": "unknown"
        },
        {
         "name": "ASvolume_dir",
         "rawType": "object",
         "type": "string"
        },
        {
         "name": "fpocket_Pocket_Score",
         "rawType": "float64",
         "type": "float"
        },
        {
         "name": "fpocket_Drug_Score",
         "rawType": "float64",
         "type": "float"
        },
        {
         "name": "fpocket_Num_alpha_spheres",
         "rawType": "int64",
         "type": "integer"
        },
        {
         "name": "fpocket_Mean_alpha_sphere_radius",
         "rawType": "float64",
         "type": "float"
        },
        {
         "name": "fpocket_Mean_alpha_sphere_Solvent_Acc",
         "rawType": "float64",
         "type": "float"
        },
        {
         "name": "fpocket_Mean_B_factor",
         "rawType": "float64",
         "type": "float"
        },
        {
         "name": "fpocket_Hydrophobicity_Score",
         "rawType": "float64",
         "type": "float"
        },
        {
         "name": "fpocket_Polarity_Score",
         "rawType": "int64",
         "type": "integer"
        },
        {
         "name": "fpocket_Amino_Acid_based_volume_Score",
         "rawType": "float64",
         "type": "float"
        },
        {
         "name": "fpocket_Pocket_volume_Monte_Carlo",
         "rawType": "float64",
         "type": "float"
        },
        {
         "name": "fpocket_Pocket_volume_convex_hull",
         "rawType": "float64",
         "type": "float"
        },
        {
         "name": "fpocket_Charge_Score",
         "rawType": "int64",
         "type": "integer"
        },
        {
         "name": "fpocket_Local_hydrophobic_density_Score",
         "rawType": "float64",
         "type": "float"
        },
        {
         "name": "fpocket_Num_apolar_alpha_sphere",
         "rawType": "int64",
         "type": "integer"
        },
        {
         "name": "fpocket_Proportion_apolar_alpha_sphere",
         "rawType": "float64",
         "type": "float"
        },
        {
         "name": "total_sasa",
         "rawType": "float64",
         "type": "float"
        },
        {
         "name": "polar_sasa",
         "rawType": "float64",
         "type": "float"
        },
        {
         "name": "apolar_sasa",
         "rawType": "float64",
         "type": "float"
        },
        {
         "name": "sasa_ligand_in_complex",
         "rawType": "float64",
         "type": "float"
        },
        {
         "name": "sasa_ligand_alone",
         "rawType": "float64",
         "type": "float"
        },
        {
         "name": "buried_sasa",
         "rawType": "float64",
         "type": "float"
        },
        {
         "name": "percentage_buried_sasa",
         "rawType": "float64",
         "type": "float"
        },
        {
         "name": "plip_hydrogen_nbonds",
         "rawType": "int64",
         "type": "integer"
        },
        {
         "name": "plip_hydrophobic_contacts",
         "rawType": "int64",
         "type": "integer"
        },
        {
         "name": "plip_salt_bridges",
         "rawType": "int64",
         "type": "integer"
        },
        {
         "name": "plip_pi_stacking",
         "rawType": "int64",
         "type": "integer"
        },
        {
         "name": "plip_pi_cation",
         "rawType": "int64",
         "type": "integer"
        },
        {
         "name": "plip_halogen_bonds",
         "rawType": "int64",
         "type": "integer"
        },
        {
         "name": "plip_water_bridges",
         "rawType": "int64",
         "type": "integer"
        },
        {
         "name": "plip_metal_complexes",
         "rawType": "int64",
         "type": "integer"
        }
       ],
       "ref": "4de75147-5076-4951-b601-64d4a32d4945",
       "rows": [
        [
         "0",
         "P3R5",
         "boltz",
         "P3R5_model_0_boltz",
         "7.983860083622787",
         "inter_tool_weighted_avg",
         "INC_5186",
         "P3",
         "MTIKEMPQPKTFGELKNLPLLNTDKPVQALMKIADELGEIFKFEAPGRVTRYLSSQRLIKEACDESRFDKSLSQGLKFLRDFLGDGLATSWTHEKNWKKAHNILLPSFSQQAMKGYHAMMVDIAVQLVQKWERLNADEHIEVSEDMTRLTLDTIGLCGFNYRFNSFYRDQPHPFIISLVRALDEVMNKLQRANPDDPAYDENKRQFQEDIKVMNDLVDKIIADRKARGEQSDDLLTQMLNGKDPETGEPLDDGNIRYQIITFLMAGHEGTSGLLSFALYFLVKNPHVLQKVAEEAARVLVDPVPSYKQVKQLKYVGMVLNEALRLWPPVPAFSLYAKEDTVLGGEYPLEKGDEVMVLIPQLHRDKTVWGDDVEEFRPERFENPSAIPQHAFKPFGNGQRASIGQQFALHEATLVLGMMLKHFDFEDHTNYELDIKELVTLKPKGFVVKAKSKKIPLGGIPSPSTEQSAKKVRKKAENAHNTPLLVLYGSNMGTAEGTARDLADIAMSKGFAPQVATLDSHAGNLPREGAVLIVTASYNGHPPDNAKQFVDWLDQASADEVKGVRYSVFGCGDKNWATTYQKVPAFIDETLAAKGAENIADRGEADASDDFEGTYEEWREHMWSDVAAYFNLDIENSEDNKSTLSLQFVDSAADMPLAKMHGAFST",
         "CC/C=C(O[Si](C)(C)C)\\C1=CC=CC=C1.CC/C=C(O[Si](C)(C)C)/C2=CC=CC=C2.[N2]CC#N>>O=C([C@H](CC#N)CC)C3=CC=CC=C3",
         "R5",
         "native_substrate",
         "CC/C=C(O[Si](C)(C)C)/C1=CC=CC=C1",
         "CC1=C(/C2=C/C3=N/C(C(C)=C3CCC(O)=O)=C\\C4=C(C(C=C)=C(/C=C5N=C(C(C=C)=C\\5C)/C=C1\\N2/6)N4[Fe]6=C\\C#N)C)CCC(O)=O",
         "R5",
         "CCC",
         "C#N",
         null,
         "400",
         "400",
         "pipeline_output_test/docking/chai/P3R5/",
         "pipeline_output_test/docking/boltz/P3R5/",
         null,
         "pipeline_output_test/docking/vina/P3R5/P3R5.pdb",
         "['pipeline_output_test/superimposition/preparedfiles_for_superimposition/P3R5_1_vina.pdb', 'pipeline_output_test/superimposition/preparedfiles_for_superimposition/P3R5_2_vina.pdb', 'pipeline_output_test/superimposition/preparedfiles_for_superimposition/P3R5_3_vina.pdb', 'pipeline_output_test/superimposition/preparedfiles_for_superimposition/P3R5_4_vina.pdb', 'pipeline_output_test/superimposition/preparedfiles_for_superimposition/P3R5_5_vina.pdb', 'pipeline_output_test/superimposition/preparedfiles_for_superimposition/P3R5_6_vina.pdb', 'pipeline_output_test/superimposition/preparedfiles_for_superimposition/P3R5_7_vina.pdb', 'pipeline_output_test/superimposition/preparedfiles_for_superimposition/P3R5_8_vina.pdb', 'pipeline_output_test/superimposition/preparedfiles_for_superimposition/P3R5_9_vina.pdb']",
         "['pipeline_output_test/superimposition/preparedfiles_for_superimposition/P3R5_3_chai.pdb', 'pipeline_output_test/superimposition/preparedfiles_for_superimposition/P3R5_2_chai.pdb', 'pipeline_output_test/superimposition/preparedfiles_for_superimposition/P3R5_1_chai.pdb', 'pipeline_output_test/superimposition/preparedfiles_for_superimposition/P3R5_0_chai.pdb', 'pipeline_output_test/superimposition/preparedfiles_for_superimposition/P3R5_4_chai.pdb']",
         "['pipeline_output_test/superimposition/preparedfiles_for_superimposition/P3R5_model_1_boltz.pdb', 'pipeline_output_test/superimposition/preparedfiles_for_superimposition/P3R5_model_3_boltz.pdb', 'pipeline_output_test/superimposition/preparedfiles_for_superimposition/P3R5_model_2_boltz.pdb', 'pipeline_output_test/superimposition/preparedfiles_for_superimposition/P3R5_model_0_boltz.pdb']",
         "['pipeline_output_test/superimposition/superimposed_structures/P3R5/P3R5_3_chai__P3R5_2_chai.pdb', 'pipeline_output_test/superimposition/superimposed_structures/P3R5/P3R5_2_chai__P3R5_1_chai.pdb', 'pipeline_output_test/superimposition/superimposed_structures/P3R5/P3R5_2_chai__P3R5_0_chai.pdb', 'pipeline_output_test/superimposition/superimposed_structures/P3R5/P3R5_2_chai__P3R5_4_chai.pdb', 'pipeline_output_test/superimposition/superimposed_structures/P3R5/P3R5_2_chai__P3R5_1_chai.pdb', 'pipeline_output_test/superimposition/superimposed_structures/P3R5/P3R5_2_chai__P3R5_0_chai.pdb', 'pipeline_output_test/superimposition/superimposed_structures/P3R5/P3R5_2_chai__P3R5_4_chai.pdb', 'pipeline_output_test/superimposition/superimposed_structures/P3R5/P3R5_1_chai__P3R5_0_chai.pdb', 'pipeline_output_test/superimposition/superimposed_structures/P3R5/P3R5_2_chai__P3R5_4_chai.pdb', 'pipeline_output_test/superimposition/superimposed_structures/P3R5/P3R5_0_chai__P3R5_4_chai.pdb', 'pipeline_output_test/superimposition/superimposed_structures/P3R5/P3R5_model_1_boltz__P3R5_model_3_boltz.pdb', 'pipeline_output_test/superimposition/superimposed_structures/P3R5/P3R5_model_3_boltz__P3R5_model_2_boltz.pdb', 'pipeline_output_test/superimposition/superimposed_structures/P3R5/P3R5_model_3_boltz__P3R5_model_0_boltz.pdb', 'pipeline_output_test/superimposition/superimposed_structures/P3R5/P3R5_model_3_boltz__P3R5_model_2_boltz.pdb', 'pipeline_output_test/superimposition/superimposed_structures/P3R5/P3R5_model_3_boltz__P3R5_model_0_boltz.pdb', 'pipeline_output_test/superimposition/superimposed_structures/P3R5/P3R5_model_2_boltz__P3R5_model_0_boltz.pdb', 'pipeline_output_test/superimposition/superimposed_structures/P3R5/P3R5_3_chai__P3R5_model_1_boltz.pdb', 'pipeline_output_test/superimposition/superimposed_structures/P3R5/P3R5_3_chai__P3R5_model_3_boltz.pdb', 'pipeline_output_test/superimposition/superimposed_structures/P3R5/P3R5_3_chai__P3R5_model_2_boltz.pdb', 'pipeline_output_test/superimposition/superimposed_structures/P3R5/P3R5_3_chai__P3R5_model_0_boltz.pdb', 'pipeline_output_test/superimposition/superimposed_structures/P3R5/P3R5_2_chai__P3R5_model_1_boltz.pdb', 'pipeline_output_test/superimposition/superimposed_structures/P3R5/P3R5_2_chai__P3R5_model_3_boltz.pdb', 'pipeline_output_test/superimposition/superimposed_structures/P3R5/P3R5_2_chai__P3R5_model_2_boltz.pdb', 'pipeline_output_test/superimposition/superimposed_structures/P3R5/P3R5_2_chai__P3R5_model_0_boltz.pdb', 'pipeline_output_test/superimposition/superimposed_structures/P3R5/P3R5_1_chai__P3R5_model_1_boltz.pdb', 'pipeline_output_test/superimposition/superimposed_structures/P3R5/P3R5_1_chai__P3R5_model_3_boltz.pdb', 'pipeline_output_test/superimposition/superimposed_structures/P3R5/P3R5_1_chai__P3R5_model_2_boltz.pdb', 'pipeline_output_test/superimposition/superimposed_structures/P3R5/P3R5_1_chai__P3R5_model_0_boltz.pdb', 'pipeline_output_test/superimposition/superimposed_structures/P3R5/P3R5_0_chai__P3R5_model_1_boltz.pdb', 'pipeline_output_test/superimposition/superimposed_structures/P3R5/P3R5_0_chai__P3R5_model_3_boltz.pdb', 'pipeline_output_test/superimposition/superimposed_structures/P3R5/P3R5_0_chai__P3R5_model_2_boltz.pdb', 'pipeline_output_test/superimposition/superimposed_structures/P3R5/P3R5_0_chai__P3R5_model_0_boltz.pdb', 'pipeline_output_test/superimposition/superimposed_structures/P3R5/P3R5_4_chai__P3R5_model_1_boltz.pdb', 'pipeline_output_test/superimposition/superimposed_structures/P3R5/P3R5_4_chai__P3R5_model_3_boltz.pdb', 'pipeline_output_test/superimposition/superimposed_structures/P3R5/P3R5_4_chai__P3R5_model_2_boltz.pdb', 'pipeline_output_test/superimposition/superimposed_structures/P3R5/P3R5_4_chai__P3R5_model_0_boltz.pdb']",
         "P3R5_7_vina__P3R5_1_chai.pdb",
         "7.656917501549855",
         "5.64020349821818",
         "1.9774505993649654",
         "8.739325075600686",
         "1.6336889950179694",
         "8.718359500928775",
         "2.229484301046506",
         "9.299575632459526e-15",
         "0.0",
         "3.6669397383673137",
         "3.126872876368906",
         "5.709033373380441",
         "2.7397345718769732",
         "6.002571456227466",
         "3.8444958851000455",
         "15.795867987124565",
         "5.68262992379307",
         "3.6447617707990503",
         "5.892096994661654",
         "2.2810112111734826",
         "12.558628081533817",
         "3.1827118925833924",
         "4.89025731667556",
         "0.6616081158233886",
         "12.072491902502007",
         "2.8295635858283403",
         "3.1588320417063134",
         "2.0906951473029705",
         "9.624358973506832",
         "4.57066630490256",
         null,
         null,
         null,
         null,
         null,
         null,
         null,
         "0.90805",
         "0.86851",
         "0.98334",
         "0.98334",
         "0.0",
         "0.88923",
         "0.91587",
         "0.64152",
         "0.86139",
         "{'0': 0.8585150241851807, '1': 0.9592821002006531, '2': 0.9489037394523621}",
         "{'0': {'0': 0.8585150241851807, '1': 0.5268316268920898, '2': 0.6074713468551636}, '1': {'0': 0.9772336483001709, '1': 0.9592821002006531, '2': 0.8600769639015198}, '2': {'0': 0.9860979318618774, '1': 0.7876513600349426, '2': 0.9489037394523621}}",
         null,
         "5.412115391775094",
         "{'SER_401': 8.973695928935857}",
         "{'SER_401': 5.012787802765598}",
         "{'SER_401': 8.973695928935857}",
         "pipeline_output_test/geometricfiltering/ASVolume/P3R5_model_0_boltz_fpocket_output",
         "0.4499",
         "1.0",
         "84",
         "4.269",
         "0.4553",
         "0.0",
         "40.1154",
         "9",
         "3.7692",
         "956.6254",
         "303.741",
         "1",
         "46.8966",
         "58",
         "0.6905",
         "39.356",
         "13.995",
         "25.36",
         "8.83814458609655",
         "412.01314506454275",
         "403.1750004784462",
         "97.85488771609167",
         "0",
         "7",
         "0",
         "0",
         "0",
         "0",
         "0",
         "0"
        ],
        [
         "1",
         "P3R5",
         "boltz",
         "P3R5_model_0_boltz",
         "5.8250585357940325",
         "inter_tool_min_per_tool",
         "INC_5186",
         "P3",
         "MTIKEMPQPKTFGELKNLPLLNTDKPVQALMKIADELGEIFKFEAPGRVTRYLSSQRLIKEACDESRFDKSLSQGLKFLRDFLGDGLATSWTHEKNWKKAHNILLPSFSQQAMKGYHAMMVDIAVQLVQKWERLNADEHIEVSEDMTRLTLDTIGLCGFNYRFNSFYRDQPHPFIISLVRALDEVMNKLQRANPDDPAYDENKRQFQEDIKVMNDLVDKIIADRKARGEQSDDLLTQMLNGKDPETGEPLDDGNIRYQIITFLMAGHEGTSGLLSFALYFLVKNPHVLQKVAEEAARVLVDPVPSYKQVKQLKYVGMVLNEALRLWPPVPAFSLYAKEDTVLGGEYPLEKGDEVMVLIPQLHRDKTVWGDDVEEFRPERFENPSAIPQHAFKPFGNGQRASIGQQFALHEATLVLGMMLKHFDFEDHTNYELDIKELVTLKPKGFVVKAKSKKIPLGGIPSPSTEQSAKKVRKKAENAHNTPLLVLYGSNMGTAEGTARDLADIAMSKGFAPQVATLDSHAGNLPREGAVLIVTASYNGHPPDNAKQFVDWLDQASADEVKGVRYSVFGCGDKNWATTYQKVPAFIDETLAAKGAENIADRGEADASDDFEGTYEEWREHMWSDVAAYFNLDIENSEDNKSTLSLQFVDSAADMPLAKMHGAFST",
         "CC/C=C(O[Si](C)(C)C)\\C1=CC=CC=C1.CC/C=C(O[Si](C)(C)C)/C2=CC=CC=C2.[N2]CC#N>>O=C([C@H](CC#N)CC)C3=CC=CC=C3",
         "R5",
         "native_substrate",
         "CC/C=C(O[Si](C)(C)C)/C1=CC=CC=C1",
         "CC1=C(/C2=C/C3=N/C(C(C)=C3CCC(O)=O)=C\\C4=C(C(C=C)=C(/C=C5N=C(C(C=C)=C\\5C)/C=C1\\N2/6)N4[Fe]6=C\\C#N)C)CCC(O)=O",
         "R5",
         "CCC",
         "C#N",
         null,
         "400",
         "400",
         "pipeline_output_test/docking/chai/P3R5/",
         "pipeline_output_test/docking/boltz/P3R5/",
         null,
         "pipeline_output_test/docking/vina/P3R5/P3R5.pdb",
         "['pipeline_output_test/superimposition/preparedfiles_for_superimposition/P3R5_1_vina.pdb', 'pipeline_output_test/superimposition/preparedfiles_for_superimposition/P3R5_2_vina.pdb', 'pipeline_output_test/superimposition/preparedfiles_for_superimposition/P3R5_3_vina.pdb', 'pipeline_output_test/superimposition/preparedfiles_for_superimposition/P3R5_4_vina.pdb', 'pipeline_output_test/superimposition/preparedfiles_for_superimposition/P3R5_5_vina.pdb', 'pipeline_output_test/superimposition/preparedfiles_for_superimposition/P3R5_6_vina.pdb', 'pipeline_output_test/superimposition/preparedfiles_for_superimposition/P3R5_7_vina.pdb', 'pipeline_output_test/superimposition/preparedfiles_for_superimposition/P3R5_8_vina.pdb', 'pipeline_output_test/superimposition/preparedfiles_for_superimposition/P3R5_9_vina.pdb']",
         "['pipeline_output_test/superimposition/preparedfiles_for_superimposition/P3R5_3_chai.pdb', 'pipeline_output_test/superimposition/preparedfiles_for_superimposition/P3R5_2_chai.pdb', 'pipeline_output_test/superimposition/preparedfiles_for_superimposition/P3R5_1_chai.pdb', 'pipeline_output_test/superimposition/preparedfiles_for_superimposition/P3R5_0_chai.pdb', 'pipeline_output_test/superimposition/preparedfiles_for_superimposition/P3R5_4_chai.pdb']",
         "['pipeline_output_test/superimposition/preparedfiles_for_superimposition/P3R5_model_1_boltz.pdb', 'pipeline_output_test/superimposition/preparedfiles_for_superimposition/P3R5_model_3_boltz.pdb', 'pipeline_output_test/superimposition/preparedfiles_for_superimposition/P3R5_model_2_boltz.pdb', 'pipeline_output_test/superimposition/preparedfiles_for_superimposition/P3R5_model_0_boltz.pdb']",
         "['pipeline_output_test/superimposition/superimposed_structures/P3R5/P3R5_3_chai__P3R5_2_chai.pdb', 'pipeline_output_test/superimposition/superimposed_structures/P3R5/P3R5_2_chai__P3R5_1_chai.pdb', 'pipeline_output_test/superimposition/superimposed_structures/P3R5/P3R5_2_chai__P3R5_0_chai.pdb', 'pipeline_output_test/superimposition/superimposed_structures/P3R5/P3R5_2_chai__P3R5_4_chai.pdb', 'pipeline_output_test/superimposition/superimposed_structures/P3R5/P3R5_2_chai__P3R5_1_chai.pdb', 'pipeline_output_test/superimposition/superimposed_structures/P3R5/P3R5_2_chai__P3R5_0_chai.pdb', 'pipeline_output_test/superimposition/superimposed_structures/P3R5/P3R5_2_chai__P3R5_4_chai.pdb', 'pipeline_output_test/superimposition/superimposed_structures/P3R5/P3R5_1_chai__P3R5_0_chai.pdb', 'pipeline_output_test/superimposition/superimposed_structures/P3R5/P3R5_2_chai__P3R5_4_chai.pdb', 'pipeline_output_test/superimposition/superimposed_structures/P3R5/P3R5_0_chai__P3R5_4_chai.pdb', 'pipeline_output_test/superimposition/superimposed_structures/P3R5/P3R5_model_1_boltz__P3R5_model_3_boltz.pdb', 'pipeline_output_test/superimposition/superimposed_structures/P3R5/P3R5_model_3_boltz__P3R5_model_2_boltz.pdb', 'pipeline_output_test/superimposition/superimposed_structures/P3R5/P3R5_model_3_boltz__P3R5_model_0_boltz.pdb', 'pipeline_output_test/superimposition/superimposed_structures/P3R5/P3R5_model_3_boltz__P3R5_model_2_boltz.pdb', 'pipeline_output_test/superimposition/superimposed_structures/P3R5/P3R5_model_3_boltz__P3R5_model_0_boltz.pdb', 'pipeline_output_test/superimposition/superimposed_structures/P3R5/P3R5_model_2_boltz__P3R5_model_0_boltz.pdb', 'pipeline_output_test/superimposition/superimposed_structures/P3R5/P3R5_3_chai__P3R5_model_1_boltz.pdb', 'pipeline_output_test/superimposition/superimposed_structures/P3R5/P3R5_3_chai__P3R5_model_3_boltz.pdb', 'pipeline_output_test/superimposition/superimposed_structures/P3R5/P3R5_3_chai__P3R5_model_2_boltz.pdb', 'pipeline_output_test/superimposition/superimposed_structures/P3R5/P3R5_3_chai__P3R5_model_0_boltz.pdb', 'pipeline_output_test/superimposition/superimposed_structures/P3R5/P3R5_2_chai__P3R5_model_1_boltz.pdb', 'pipeline_output_test/superimposition/superimposed_structures/P3R5/P3R5_2_chai__P3R5_model_3_boltz.pdb', 'pipeline_output_test/superimposition/superimposed_structures/P3R5/P3R5_2_chai__P3R5_model_2_boltz.pdb', 'pipeline_output_test/superimposition/superimposed_structures/P3R5/P3R5_2_chai__P3R5_model_0_boltz.pdb', 'pipeline_output_test/superimposition/superimposed_structures/P3R5/P3R5_1_chai__P3R5_model_1_boltz.pdb', 'pipeline_output_test/superimposition/superimposed_structures/P3R5/P3R5_1_chai__P3R5_model_3_boltz.pdb', 'pipeline_output_test/superimposition/superimposed_structures/P3R5/P3R5_1_chai__P3R5_model_2_boltz.pdb', 'pipeline_output_test/superimposition/superimposed_structures/P3R5/P3R5_1_chai__P3R5_model_0_boltz.pdb', 'pipeline_output_test/superimposition/superimposed_structures/P3R5/P3R5_0_chai__P3R5_model_1_boltz.pdb', 'pipeline_output_test/superimposition/superimposed_structures/P3R5/P3R5_0_chai__P3R5_model_3_boltz.pdb', 'pipeline_output_test/superimposition/superimposed_structures/P3R5/P3R5_0_chai__P3R5_model_2_boltz.pdb', 'pipeline_output_test/superimposition/superimposed_structures/P3R5/P3R5_0_chai__P3R5_model_0_boltz.pdb', 'pipeline_output_test/superimposition/superimposed_structures/P3R5/P3R5_4_chai__P3R5_model_1_boltz.pdb', 'pipeline_output_test/superimposition/superimposed_structures/P3R5/P3R5_4_chai__P3R5_model_3_boltz.pdb', 'pipeline_output_test/superimposition/superimposed_structures/P3R5/P3R5_4_chai__P3R5_model_2_boltz.pdb', 'pipeline_output_test/superimposition/superimposed_structures/P3R5/P3R5_4_chai__P3R5_model_0_boltz.pdb']",
         "P3R5_7_vina__P3R5_1_chai.pdb",
         "7.656917501549855",
         "5.64020349821818",
         "1.9774505993649654",
         "8.739325075600686",
         "1.6336889950179694",
         "8.718359500928775",
         "2.229484301046506",
         "9.299575632459526e-15",
         "0.0",
         "3.6669397383673137",
         "3.126872876368906",
         "5.709033373380441",
         "2.7397345718769732",
         "6.002571456227466",
         "3.8444958851000455",
         "15.795867987124565",
         "5.68262992379307",
         "3.6447617707990503",
         "5.892096994661654",
         "2.2810112111734826",
         "12.558628081533817",
         "3.1827118925833924",
         "4.89025731667556",
         "0.6616081158233886",
         "12.072491902502007",
         "2.8295635858283403",
         "3.1588320417063134",
         "2.0906951473029705",
         "9.624358973506832",
         "4.57066630490256",
         null,
         null,
         null,
         null,
         null,
         null,
         null,
         "0.90805",
         "0.86851",
         "0.98334",
         "0.98334",
         "0.0",
         "0.88923",
         "0.91587",
         "0.64152",
         "0.86139",
         "{'0': 0.8585150241851807, '1': 0.9592821002006531, '2': 0.9489037394523621}",
         "{'0': {'0': 0.8585150241851807, '1': 0.5268316268920898, '2': 0.6074713468551636}, '1': {'0': 0.9772336483001709, '1': 0.9592821002006531, '2': 0.8600769639015198}, '2': {'0': 0.9860979318618774, '1': 0.7876513600349426, '2': 0.9489037394523621}}",
         null,
         "5.412115391775094",
         "{'SER_401': 8.973695928935857}",
         "{'SER_401': 5.012787802765598}",
         "{'SER_401': 8.973695928935857}",
         "pipeline_output_test/geometricfiltering/ASVolume/P3R5_model_0_boltz_fpocket_output",
         "0.4499",
         "1.0",
         "84",
         "4.269",
         "0.4553",
         "0.0",
         "40.1154",
         "9",
         "3.7692",
         "957.6761",
         "303.741",
         "1",
         "46.8966",
         "58",
         "0.6905",
         "39.356",
         "13.995",
         "25.36",
         "8.83814458609655",
         "412.01314506454275",
         "403.1750004784462",
         "97.85488771609167",
         "0",
         "7",
         "0",
         "0",
         "0",
         "0",
         "0",
         "0"
        ],
        [
         "2",
         "P3R5",
         "vina",
         "P3R5_2_vina",
         "0.5626024521147682",
         "vina_avg_intra_tool",
         "INC_5186",
         "P3",
         "MTIKEMPQPKTFGELKNLPLLNTDKPVQALMKIADELGEIFKFEAPGRVTRYLSSQRLIKEACDESRFDKSLSQGLKFLRDFLGDGLATSWTHEKNWKKAHNILLPSFSQQAMKGYHAMMVDIAVQLVQKWERLNADEHIEVSEDMTRLTLDTIGLCGFNYRFNSFYRDQPHPFIISLVRALDEVMNKLQRANPDDPAYDENKRQFQEDIKVMNDLVDKIIADRKARGEQSDDLLTQMLNGKDPETGEPLDDGNIRYQIITFLMAGHEGTSGLLSFALYFLVKNPHVLQKVAEEAARVLVDPVPSYKQVKQLKYVGMVLNEALRLWPPVPAFSLYAKEDTVLGGEYPLEKGDEVMVLIPQLHRDKTVWGDDVEEFRPERFENPSAIPQHAFKPFGNGQRASIGQQFALHEATLVLGMMLKHFDFEDHTNYELDIKELVTLKPKGFVVKAKSKKIPLGGIPSPSTEQSAKKVRKKAENAHNTPLLVLYGSNMGTAEGTARDLADIAMSKGFAPQVATLDSHAGNLPREGAVLIVTASYNGHPPDNAKQFVDWLDQASADEVKGVRYSVFGCGDKNWATTYQKVPAFIDETLAAKGAENIADRGEADASDDFEGTYEEWREHMWSDVAAYFNLDIENSEDNKSTLSLQFVDSAADMPLAKMHGAFST",
         "CC/C=C(O[Si](C)(C)C)\\C1=CC=CC=C1.CC/C=C(O[Si](C)(C)C)/C2=CC=CC=C2.[N2]CC#N>>O=C([C@H](CC#N)CC)C3=CC=CC=C3",
         "R5",
         "native_substrate",
         "CC/C=C(O[Si](C)(C)C)/C1=CC=CC=C1",
         "CC1=C(/C2=C/C3=N/C(C(C)=C3CCC(O)=O)=C\\C4=C(C(C=C)=C(/C=C5N=C(C(C=C)=C\\5C)/C=C1\\N2/6)N4[Fe]6=C\\C#N)C)CCC(O)=O",
         "R5",
         "CCC",
         "C#N",
         null,
         "400",
         "400",
         "pipeline_output_test/docking/chai/P3R5/",
         "pipeline_output_test/docking/boltz/P3R5/",
         null,
         "pipeline_output_test/docking/vina/P3R5/P3R5.pdb",
         "['pipeline_output_test/superimposition/preparedfiles_for_superimposition/P3R5_1_vina.pdb', 'pipeline_output_test/superimposition/preparedfiles_for_superimposition/P3R5_2_vina.pdb', 'pipeline_output_test/superimposition/preparedfiles_for_superimposition/P3R5_3_vina.pdb', 'pipeline_output_test/superimposition/preparedfiles_for_superimposition/P3R5_4_vina.pdb', 'pipeline_output_test/superimposition/preparedfiles_for_superimposition/P3R5_5_vina.pdb', 'pipeline_output_test/superimposition/preparedfiles_for_superimposition/P3R5_6_vina.pdb', 'pipeline_output_test/superimposition/preparedfiles_for_superimposition/P3R5_7_vina.pdb', 'pipeline_output_test/superimposition/preparedfiles_for_superimposition/P3R5_8_vina.pdb', 'pipeline_output_test/superimposition/preparedfiles_for_superimposition/P3R5_9_vina.pdb']",
         "['pipeline_output_test/superimposition/preparedfiles_for_superimposition/P3R5_3_chai.pdb', 'pipeline_output_test/superimposition/preparedfiles_for_superimposition/P3R5_2_chai.pdb', 'pipeline_output_test/superimposition/preparedfiles_for_superimposition/P3R5_1_chai.pdb', 'pipeline_output_test/superimposition/preparedfiles_for_superimposition/P3R5_0_chai.pdb', 'pipeline_output_test/superimposition/preparedfiles_for_superimposition/P3R5_4_chai.pdb']",
         "['pipeline_output_test/superimposition/preparedfiles_for_superimposition/P3R5_model_1_boltz.pdb', 'pipeline_output_test/superimposition/preparedfiles_for_superimposition/P3R5_model_3_boltz.pdb', 'pipeline_output_test/superimposition/preparedfiles_for_superimposition/P3R5_model_2_boltz.pdb', 'pipeline_output_test/superimposition/preparedfiles_for_superimposition/P3R5_model_0_boltz.pdb']",
         "['pipeline_output_test/superimposition/superimposed_structures/P3R5/P3R5_3_chai__P3R5_2_chai.pdb', 'pipeline_output_test/superimposition/superimposed_structures/P3R5/P3R5_2_chai__P3R5_1_chai.pdb', 'pipeline_output_test/superimposition/superimposed_structures/P3R5/P3R5_2_chai__P3R5_0_chai.pdb', 'pipeline_output_test/superimposition/superimposed_structures/P3R5/P3R5_2_chai__P3R5_4_chai.pdb', 'pipeline_output_test/superimposition/superimposed_structures/P3R5/P3R5_2_chai__P3R5_1_chai.pdb', 'pipeline_output_test/superimposition/superimposed_structures/P3R5/P3R5_2_chai__P3R5_0_chai.pdb', 'pipeline_output_test/superimposition/superimposed_structures/P3R5/P3R5_2_chai__P3R5_4_chai.pdb', 'pipeline_output_test/superimposition/superimposed_structures/P3R5/P3R5_1_chai__P3R5_0_chai.pdb', 'pipeline_output_test/superimposition/superimposed_structures/P3R5/P3R5_2_chai__P3R5_4_chai.pdb', 'pipeline_output_test/superimposition/superimposed_structures/P3R5/P3R5_0_chai__P3R5_4_chai.pdb', 'pipeline_output_test/superimposition/superimposed_structures/P3R5/P3R5_model_1_boltz__P3R5_model_3_boltz.pdb', 'pipeline_output_test/superimposition/superimposed_structures/P3R5/P3R5_model_3_boltz__P3R5_model_2_boltz.pdb', 'pipeline_output_test/superimposition/superimposed_structures/P3R5/P3R5_model_3_boltz__P3R5_model_0_boltz.pdb', 'pipeline_output_test/superimposition/superimposed_structures/P3R5/P3R5_model_3_boltz__P3R5_model_2_boltz.pdb', 'pipeline_output_test/superimposition/superimposed_structures/P3R5/P3R5_model_3_boltz__P3R5_model_0_boltz.pdb', 'pipeline_output_test/superimposition/superimposed_structures/P3R5/P3R5_model_2_boltz__P3R5_model_0_boltz.pdb', 'pipeline_output_test/superimposition/superimposed_structures/P3R5/P3R5_3_chai__P3R5_model_1_boltz.pdb', 'pipeline_output_test/superimposition/superimposed_structures/P3R5/P3R5_3_chai__P3R5_model_3_boltz.pdb', 'pipeline_output_test/superimposition/superimposed_structures/P3R5/P3R5_3_chai__P3R5_model_2_boltz.pdb', 'pipeline_output_test/superimposition/superimposed_structures/P3R5/P3R5_3_chai__P3R5_model_0_boltz.pdb', 'pipeline_output_test/superimposition/superimposed_structures/P3R5/P3R5_2_chai__P3R5_model_1_boltz.pdb', 'pipeline_output_test/superimposition/superimposed_structures/P3R5/P3R5_2_chai__P3R5_model_3_boltz.pdb', 'pipeline_output_test/superimposition/superimposed_structures/P3R5/P3R5_2_chai__P3R5_model_2_boltz.pdb', 'pipeline_output_test/superimposition/superimposed_structures/P3R5/P3R5_2_chai__P3R5_model_0_boltz.pdb', 'pipeline_output_test/superimposition/superimposed_structures/P3R5/P3R5_1_chai__P3R5_model_1_boltz.pdb', 'pipeline_output_test/superimposition/superimposed_structures/P3R5/P3R5_1_chai__P3R5_model_3_boltz.pdb', 'pipeline_output_test/superimposition/superimposed_structures/P3R5/P3R5_1_chai__P3R5_model_2_boltz.pdb', 'pipeline_output_test/superimposition/superimposed_structures/P3R5/P3R5_1_chai__P3R5_model_0_boltz.pdb', 'pipeline_output_test/superimposition/superimposed_structures/P3R5/P3R5_0_chai__P3R5_model_1_boltz.pdb', 'pipeline_output_test/superimposition/superimposed_structures/P3R5/P3R5_0_chai__P3R5_model_3_boltz.pdb', 'pipeline_output_test/superimposition/superimposed_structures/P3R5/P3R5_0_chai__P3R5_model_2_boltz.pdb', 'pipeline_output_test/superimposition/superimposed_structures/P3R5/P3R5_0_chai__P3R5_model_0_boltz.pdb', 'pipeline_output_test/superimposition/superimposed_structures/P3R5/P3R5_4_chai__P3R5_model_1_boltz.pdb', 'pipeline_output_test/superimposition/superimposed_structures/P3R5/P3R5_4_chai__P3R5_model_3_boltz.pdb', 'pipeline_output_test/superimposition/superimposed_structures/P3R5/P3R5_4_chai__P3R5_model_2_boltz.pdb', 'pipeline_output_test/superimposition/superimposed_structures/P3R5/P3R5_4_chai__P3R5_model_0_boltz.pdb']",
         "P3R5_7_vina__P3R5_1_chai.pdb",
         "7.656917501549855",
         "5.64020349821818",
         "1.9774505993649654",
         "8.739325075600686",
         "1.6336889950179694",
         "8.718359500928775",
         "2.229484301046506",
         "9.299575632459526e-15",
         "0.0",
         "3.6669397383673137",
         "3.126872876368906",
         "5.709033373380441",
         "2.7397345718769732",
         "6.002571456227466",
         "3.8444958851000455",
         "15.795867987124565",
         "5.68262992379307",
         "3.6447617707990503",
         "5.892096994661654",
         "2.2810112111734826",
         "12.558628081533817",
         "3.1827118925833924",
         "4.89025731667556",
         "0.6616081158233886",
         "12.072491902502007",
         "2.8295635858283403",
         "3.1588320417063134",
         "2.0906951473029705",
         "9.624358973506832",
         "4.57066630490256",
         "0.82887",
         "0.84147",
         "0.82572",
         "[0.83276, 0.93767, 0.1943]",
         "[[0.83276, 0.85346, 0.021067], [0.82768, 0.93767, 0.018744], [0.26038, 0.11792, 0.1943]]",
         "False",
         "[[0, 0, 0], [0, 1, 0], [0, 0, 0]]",
         null,
         null,
         null,
         null,
         null,
         null,
         null,
         null,
         null,
         null,
         null,
         "-5.574",
         null,
         "{'SER_401': 5.175867131457298}",
         "{'SER_401': 5.012787802765598}",
         "{'SER_401': 5.175867131457298}",
         "pipeline_output_test/geometricfiltering/ASVolume/P3R5_2_vina_fpocket_output",
         "-0.1702",
         "1.0",
         "105",
         "4.1974",
         "0.451",
         "0.0",
         "44.12",
         "7",
         "4.0",
         "956.5031",
         "294.6313",
         "3",
         "48.2",
         "60",
         "0.5714",
         "189.838",
         "26.809",
         "163.03",
         "60.229960568297",
         "413.6824359316383",
         "353.45247536334125",
         "85.44053231734254",
         "1",
         "10",
         "0",
         "0",
         "0",
         "0",
         "0",
         "0"
        ]
       ],
       "shape": {
        "columns": 112,
        "rows": 3
       }
      },
      "text/html": [
       "<div>\n",
       "<style scoped>\n",
       "    .dataframe tbody tr th:only-of-type {\n",
       "        vertical-align: middle;\n",
       "    }\n",
       "\n",
       "    .dataframe tbody tr th {\n",
       "        vertical-align: top;\n",
       "    }\n",
       "\n",
       "    .dataframe thead th {\n",
       "        text-align: right;\n",
       "    }\n",
       "</style>\n",
       "<table border=\"1\" class=\"dataframe\">\n",
       "  <thead>\n",
       "    <tr style=\"text-align: right;\">\n",
       "      <th></th>\n",
       "      <th>Entry</th>\n",
       "      <th>tool</th>\n",
       "      <th>best_structure</th>\n",
       "      <th>avg_ligandRMSD</th>\n",
       "      <th>method</th>\n",
       "      <th>enzyme_name</th>\n",
       "      <th>protein_ID</th>\n",
       "      <th>Sequence</th>\n",
       "      <th>reaction_smiles</th>\n",
       "      <th>reaction_ID</th>\n",
       "      <th>...</th>\n",
       "      <th>buried_sasa</th>\n",
       "      <th>percentage_buried_sasa</th>\n",
       "      <th>plip_hydrogen_nbonds</th>\n",
       "      <th>plip_hydrophobic_contacts</th>\n",
       "      <th>plip_salt_bridges</th>\n",
       "      <th>plip_pi_stacking</th>\n",
       "      <th>plip_pi_cation</th>\n",
       "      <th>plip_halogen_bonds</th>\n",
       "      <th>plip_water_bridges</th>\n",
       "      <th>plip_metal_complexes</th>\n",
       "    </tr>\n",
       "  </thead>\n",
       "  <tbody>\n",
       "    <tr>\n",
       "      <th>0</th>\n",
       "      <td>P3R5</td>\n",
       "      <td>boltz</td>\n",
       "      <td>P3R5_model_0_boltz</td>\n",
       "      <td>7.983860</td>\n",
       "      <td>inter_tool_weighted_avg</td>\n",
       "      <td>INC_5186</td>\n",
       "      <td>P3</td>\n",
       "      <td>MTIKEMPQPKTFGELKNLPLLNTDKPVQALMKIADELGEIFKFEAP...</td>\n",
       "      <td>CC/C=C(O[Si](C)(C)C)\\C1=CC=CC=C1.CC/C=C(O[Si](...</td>\n",
       "      <td>R5</td>\n",
       "      <td>...</td>\n",
       "      <td>403.175000</td>\n",
       "      <td>97.854888</td>\n",
       "      <td>0</td>\n",
       "      <td>7</td>\n",
       "      <td>0</td>\n",
       "      <td>0</td>\n",
       "      <td>0</td>\n",
       "      <td>0</td>\n",
       "      <td>0</td>\n",
       "      <td>0</td>\n",
       "    </tr>\n",
       "    <tr>\n",
       "      <th>1</th>\n",
       "      <td>P3R5</td>\n",
       "      <td>boltz</td>\n",
       "      <td>P3R5_model_0_boltz</td>\n",
       "      <td>5.825059</td>\n",
       "      <td>inter_tool_min_per_tool</td>\n",
       "      <td>INC_5186</td>\n",
       "      <td>P3</td>\n",
       "      <td>MTIKEMPQPKTFGELKNLPLLNTDKPVQALMKIADELGEIFKFEAP...</td>\n",
       "      <td>CC/C=C(O[Si](C)(C)C)\\C1=CC=CC=C1.CC/C=C(O[Si](...</td>\n",
       "      <td>R5</td>\n",
       "      <td>...</td>\n",
       "      <td>403.175000</td>\n",
       "      <td>97.854888</td>\n",
       "      <td>0</td>\n",
       "      <td>7</td>\n",
       "      <td>0</td>\n",
       "      <td>0</td>\n",
       "      <td>0</td>\n",
       "      <td>0</td>\n",
       "      <td>0</td>\n",
       "      <td>0</td>\n",
       "    </tr>\n",
       "    <tr>\n",
       "      <th>2</th>\n",
       "      <td>P3R5</td>\n",
       "      <td>vina</td>\n",
       "      <td>P3R5_2_vina</td>\n",
       "      <td>0.562602</td>\n",
       "      <td>vina_avg_intra_tool</td>\n",
       "      <td>INC_5186</td>\n",
       "      <td>P3</td>\n",
       "      <td>MTIKEMPQPKTFGELKNLPLLNTDKPVQALMKIADELGEIFKFEAP...</td>\n",
       "      <td>CC/C=C(O[Si](C)(C)C)\\C1=CC=CC=C1.CC/C=C(O[Si](...</td>\n",
       "      <td>R5</td>\n",
       "      <td>...</td>\n",
       "      <td>353.452475</td>\n",
       "      <td>85.440532</td>\n",
       "      <td>1</td>\n",
       "      <td>10</td>\n",
       "      <td>0</td>\n",
       "      <td>0</td>\n",
       "      <td>0</td>\n",
       "      <td>0</td>\n",
       "      <td>0</td>\n",
       "      <td>0</td>\n",
       "    </tr>\n",
       "  </tbody>\n",
       "</table>\n",
       "<p>3 rows × 112 columns</p>\n",
       "</div>"
      ],
      "text/plain": [
       "  Entry   tool      best_structure  avg_ligandRMSD                   method  \\\n",
       "0  P3R5  boltz  P3R5_model_0_boltz        7.983860  inter_tool_weighted_avg   \n",
       "1  P3R5  boltz  P3R5_model_0_boltz        5.825059  inter_tool_min_per_tool   \n",
       "2  P3R5   vina         P3R5_2_vina        0.562602      vina_avg_intra_tool   \n",
       "\n",
       "  enzyme_name protein_ID                                           Sequence  \\\n",
       "0    INC_5186         P3  MTIKEMPQPKTFGELKNLPLLNTDKPVQALMKIADELGEIFKFEAP...   \n",
       "1    INC_5186         P3  MTIKEMPQPKTFGELKNLPLLNTDKPVQALMKIADELGEIFKFEAP...   \n",
       "2    INC_5186         P3  MTIKEMPQPKTFGELKNLPLLNTDKPVQALMKIADELGEIFKFEAP...   \n",
       "\n",
       "                                     reaction_smiles reaction_ID  ...  \\\n",
       "0  CC/C=C(O[Si](C)(C)C)\\C1=CC=CC=C1.CC/C=C(O[Si](...          R5  ...   \n",
       "1  CC/C=C(O[Si](C)(C)C)\\C1=CC=CC=C1.CC/C=C(O[Si](...          R5  ...   \n",
       "2  CC/C=C(O[Si](C)(C)C)\\C1=CC=CC=C1.CC/C=C(O[Si](...          R5  ...   \n",
       "\n",
       "  buried_sasa percentage_buried_sasa plip_hydrogen_nbonds  \\\n",
       "0  403.175000              97.854888                    0   \n",
       "1  403.175000              97.854888                    0   \n",
       "2  353.452475              85.440532                    1   \n",
       "\n",
       "  plip_hydrophobic_contacts plip_salt_bridges plip_pi_stacking plip_pi_cation  \\\n",
       "0                         7                 0                0              0   \n",
       "1                         7                 0                0              0   \n",
       "2                        10                 0                0              0   \n",
       "\n",
       "  plip_halogen_bonds plip_water_bridges plip_metal_complexes  \n",
       "0                  0                  0                    0  \n",
       "1                  0                  0                    0  \n",
       "2                  0                  0                    0  \n",
       "\n",
       "[3 rows x 112 columns]"
      ]
     },
     "execution_count": 1,
     "metadata": {},
     "output_type": "execute_result"
    }
   ],
   "source": [
    "import pandas as pd\n",
    "\n",
    "super_df = pd.read_pickle('/nvme2/helen/EnzymeStructuralFiltering/pipeline_output_test/geometricfiltering/plip_interactions.pkl')\n",
    "super_df['cofactor_moiety'] = 'C#N'\n",
    "super_df['substrate_moiety'] = 'CCC'\n",
    "#print(\"\\n\".join(map(str, super_df.columns)))\n",
    "super_df\n",
    "\n"
   ]
  },
  {
   "cell_type": "code",
   "execution_count": 27,
   "id": "38e77cb3",
   "metadata": {},
   "outputs": [],
   "source": [
    "import os\n",
    "import pandas as pd\n",
    "from pathlib import Path\n",
    "import logging\n",
    "from multiprocessing.dummy import Pool as ThreadPool\n",
    "import numpy as np\n",
    "import math\n",
    "import re\n",
    "from Bio.PDB import PDBIO\n",
    "from Bio.PDB import PDBParser, Select, PDBIO\n",
    "from biotite.structure.io.pdb import PDBFile\n",
    "from biotite.structure import AtomArrayStack\n",
    "from rdkit import Chem\n",
    "from rdkit.Chem import AllChem, rdFMCS\n",
    "from rdkit.Chem.rdchem import Mol\n",
    "from rdkit.Chem.Draw import MolToImage\n",
    "from rdkit.Chem.Draw import rdMolDraw2D # You'll need this for MolDraw2DCairo/SVG\n",
    "from rdkit.Chem.Draw.rdMolDraw2D import MolDrawOptions\n",
    "from rdkit.Geometry import Point3D\n",
    "from rdkit import RDLogger\n",
    "from itertools import product\n",
    "from io import StringIO\n",
    "import tempfile\n",
    "from collections import Counter\n",
    "\n",
    "\n",
    "def get_hetatm_chain_ids(pdb_path):\n",
    "    with open(pdb_path, \"r\") as f:\n",
    "        pdb_file = PDBFile.read(f)\n",
    "    structure = pdb_file.get_structure()\n",
    "    structure = structure[0]\n",
    "\n",
    "    hetatm_chains = set(structure.chain_id[structure.hetero])\n",
    "    atom_chains = set(structure.chain_id[~structure.hetero])\n",
    "\n",
    "    # Exclude chains that also have ATOM records (i.e., protein chains)\n",
    "    ligand_only_chains = hetatm_chains - atom_chains\n",
    "\n",
    "    return list(ligand_only_chains)\n",
    "\n",
    "def _norm_l1_dist(fp_a, fp_b, keys=None):\n",
    "    \"\"\"\n",
    "    Normalized L1 distance on element counts. Used to pick the closest element-count vector\n",
    "    of all ligands to the reference ligand. \n",
    "    \"\"\"\n",
    "    if keys is None:\n",
    "        keys = set(fp_a) | set(fp_b)\n",
    "    num = 0.0\n",
    "    den = 0.0\n",
    "    for k in keys:\n",
    "        a = fp_a.get(k, 0)\n",
    "        b = fp_b.get(k, 0)\n",
    "        num += abs(a - b)\n",
    "        den += a + b\n",
    "    return 0.0 if den == 0 else num / den\n",
    "\n",
    "def extract_chain_as_rdkit_mol(pdb_path, chain_id, sanitize=False):\n",
    "    '''\n",
    "    Extract ligand chain as RDKit mol objects given their chain ID. \n",
    "    '''\n",
    "    # Read full structure\n",
    "    with open(pdb_path, \"r\") as f:\n",
    "        pdb_file = PDBFile.read(f)\n",
    "    structure = pdb_file.get_structure()\n",
    "    if isinstance(structure, AtomArrayStack):\n",
    "        structure = structure[0]  # first model only\n",
    "\n",
    "    # Extract chain\n",
    "    mask = structure.chain_id == chain_id\n",
    "\n",
    "    if len(mask) != structure.array_length():\n",
    "        raise ValueError(f\"Mask shape {mask.shape} doesn't match atom array length {structure.array_length()}\")\n",
    "\n",
    "    chain = structure[mask]\n",
    "\n",
    "    if chain.shape[0] == 0:\n",
    "        raise ValueError(f\"No atoms found for chain {chain_id} in {pdb_path}\")\n",
    "\n",
    "    # Convert to PDB string using Biotite\n",
    "    temp_pdb = PDBFile()\n",
    "    temp_pdb.set_structure(chain)\n",
    "    pdb_str_io = StringIO()\n",
    "    temp_pdb.write(pdb_str_io)\n",
    "    pdb_str = pdb_str_io.getvalue()\n",
    "\n",
    "    # Convert to RDKit mol from PDB string\n",
    "    mol = Chem.MolFromPDBBlock(pdb_str, sanitize=sanitize)\n",
    "\n",
    "    return mol\n",
    "\n",
    "def atom_composition_fingerprint(mol):\n",
    "    \"\"\"\n",
    "    Returns a Counter of atom symbols in the molecule (e.g., {'C': 10, 'N': 2}).\n",
    "    \"\"\"\n",
    "    return Counter([atom.GetSymbol() for atom in mol.GetAtoms()])\n",
    "\n",
    "\n",
    "def closest_ligands_by_element_composition(ligand_mols, reference_smiles, include_h=False, top_k = 2):\n",
    "    \"\"\"\n",
    "    Filters a list of RDKit Mol objects based on atom element composition\n",
    "    matching a reference SMILES. It returns a mol object that matches the element composition. \n",
    "    Because sometimes some atoms especially hydrogens can get lost in conversions, I pick the ligand\n",
    "    with the closest atom composition to the reference; doesn't have to match perfectly. \n",
    "    \"\"\"\n",
    "    ref_mol = Chem.MolFromSmiles(reference_smiles)\n",
    "    if ref_mol is None:\n",
    "        raise ValueError(\"Reference SMILES could not be parsed.\")\n",
    "\n",
    "    # calculate atom composition of the reference smile string i.e. the ligand of interest\n",
    "    ref_fp = atom_composition_fingerprint(ref_mol)\n",
    "\n",
    "    out = []\n",
    "    for mol in ligand_mols:\n",
    "        if mol is None:\n",
    "            continue\n",
    "        try:\n",
    "            fp = atom_composition_fingerprint(mol)\n",
    "            dist = _norm_l1_dist(ref_fp, fp)\n",
    "            score = 1.0 - dist\n",
    "            out.append((mol, score))\n",
    "        except Exception as e:\n",
    "            print(f\"Error processing ligand: {e}\")\n",
    "            continue\n",
    "    # return closest matching lgiands\n",
    "    out.sort(key=lambda t: t[1], reverse=True)\n",
    "    return [mol for mol, _ in out[:top_k]]\n",
    "\n",
    "def as_mol(x):\n",
    "    # In case anything returns (mol, score) or a dict\n",
    "    if isinstance(x, Mol): return x\n",
    "    if isinstance(x, tuple) and x and isinstance(x[0], Mol): return x[0]\n",
    "    if isinstance(x, dict) and isinstance(x.get(\"mol\"), Mol): return x[\"mol\"]\n",
    "    return None\n",
    "\n",
    "\n",
    "METAL_ATOMIC_NUMS = {\n",
    "    3,4,11,12,13,19,20,25,26,27,28,29,30, # Li Be Na Mg Al K Ca Mn Fe Co Ni Cu Zn\n",
    "    47,48,49,50, # Ag Cd In Sn\n",
    "    80, # Hg\n",
    "    24,40, # Cr Zr\n",
    "    14,5   # Si B if you consider them \"metals\" for mapping purposes\n",
    "}\n",
    "\n",
    "\n",
    "from rdkit.Chem import rdmolops, rdFMCS\n",
    "from rdkit.Chem import Draw\n",
    "\n",
    "def assign_bond_orders_fix_aromatic_no_stereo_noH(pdb_mol, ligand_smiles):\n",
    "    \"\"\"\n",
    "    Transfer bond orders from SMILES to a PDB ligand **without hydrogens**,\n",
    "    then re-perceive aromaticity and drop stereochem. Keeps original 3D coords.\n",
    "    \"\"\"\n",
    "    ref = Chem.MolFromSmiles(ligand_smiles)\n",
    "    if ref is None:\n",
    "        return pdb_mol\n",
    "\n",
    "    # Work on **heavy-atom graphs** only\n",
    "    ref0 = Chem.RemoveHs(ref)                     # sanitized by default\n",
    "    pdb0 = Chem.RemoveHs(Chem.Mol(pdb_mol), sanitize=False)  # keep coords, avoid valence checks\n",
    "\n",
    "    # Kekulize template so we transfer explicit single/double bonds\n",
    "    ref0_kek = Chem.Mol(ref0)\n",
    "    rdmolops.Kekulize(ref0_kek, clearAromaticFlags=True)\n",
    "\n",
    "    try:\n",
    "        # Assign bond orders on the heavy-atom PDB ligand\n",
    "        new0 = AllChem.AssignBondOrdersFromTemplate(ref0_kek, pdb0)\n",
    "\n",
    "        # Drop all stereochemistry (you said you don't want it)\n",
    "        Chem.RemoveStereochemistry(new0)\n",
    "\n",
    "        # Recompute aromaticity from assigned bonds\n",
    "        Chem.SanitizeMol(\n",
    "            new0,\n",
    "            sanitizeOps=Chem.SanitizeFlags.SANITIZE_SYMMRINGS\n",
    "                      | Chem.SanitizeFlags.SANITIZE_SETCONJUGATION\n",
    "                      | Chem.SanitizeFlags.SANITIZE_SETAROMATICITY\n",
    "        )\n",
    "\n",
    "        # Restore the original 3D conformer (heavy atoms align 1:1 after RemoveHs)\n",
    "        if pdb_mol.GetNumConformers():\n",
    "            conf = pdb0.GetConformer() if pdb0.GetNumConformers() else pdb_mol.GetConformer()\n",
    "            new0.RemoveAllConformers()\n",
    "            new0.AddConformer(conf, assignId=True)\n",
    "\n",
    "        return new0  # heavy-atom ligand with correct bond orders & arom, no stereo\n",
    "\n",
    "    except Exception as e:\n",
    "        print(\"AssignBondOrdersFromTemplate (noH) failed:\", e)\n",
    "        return pdb_mol\n",
    "\n",
    "\n",
    "\n",
    "def find_substructure_matches(mol, sub, is_smarts=False, use_chirality=False):\n",
    "    \"\"\"\n",
    "    sub: SMILES (default) or SMARTS (if is_smarts=True).\n",
    "    Returns list of tuples of atom indices.\n",
    "    \"\"\"\n",
    "    q = Chem.MolFromSmarts(sub) if is_smarts else Chem.MolFromSmiles(sub)\n",
    "    if q is None:\n",
    "        raise ValueError(\"Could not parse substructure pattern.\")\n",
    "    return list(mol.GetSubstructMatches(q, useChirality=use_chirality, uniquify = True))\n",
    "\n",
    "def coords_of_atoms(mol, atom_indices):\n",
    "    conf = mol.GetConformer()\n",
    "    pts = [conf.GetAtomPosition(i) for i in atom_indices]\n",
    "    return np.array([[p.x, p.y, p.z] for p in pts])\n",
    "\n"
   ]
  },
  {
   "cell_type": "code",
   "execution_count": 31,
   "id": "f386bfae",
   "metadata": {},
   "outputs": [
    {
     "name": "stdout",
     "output_type": "stream",
     "text": [
      "Saved molecule with indices to mol.png\n"
     ]
    },
    {
     "name": "stderr",
     "output_type": "stream",
     "text": [
      "[10:35:19] WARNING: More than one matching pattern found - picking one\n",
      "\n"
     ]
    },
    {
     "data": {
      "text/plain": [
       "[(38, 39)]"
      ]
     },
     "execution_count": 31,
     "metadata": {},
     "output_type": "execute_result"
    }
   ],
   "source": [
    "# Extract chain IDs of ligands\n",
    "chain_ids = get_hetatm_chain_ids('/nvme2/helen/EnzymeStructuralFiltering/pipeline_output_test/superimposition/superimposed_structures/P3R4/P3R4_0_chai__P3R4_4_chai.pdb')\n",
    "\n",
    "# Extract ligands as RDKit mol objects\n",
    "ligands = []\n",
    "for chain_id in chain_ids:\n",
    "    mol  = extract_chain_as_rdkit_mol('/nvme2/helen/EnzymeStructuralFiltering/pipeline_output_test/superimposition/superimposed_structures/P3R4/P3R4_0_chai__P3R4_4_chai.pdb', chain_id, sanitize=False)\n",
    "    ligands.append(mol)\n",
    "\n",
    "\n",
    "cofactor_smiles = r'CC1=C(/C2=C/C3=N/C(C(C)=C3CCC(O)=O)=C\\C4=C(C(C=C)=C(/C=C5N=C(C(C=C)=C\\5C)/C=C1\\N2/6)N4[Fe]6=C\\C#N)C)CCC(O)=O'\n",
    "cofactor_moiety = 'C#N'\n",
    "\n",
    "cofactor_candidates = closest_ligands_by_element_composition(ligands, cofactor_smiles, top_k=1)\n",
    "cofactor_mol = as_mol(cofactor_candidates[0]) if cofactor_candidates else None\n",
    "cofactor_mol = as_mol(cofactor_candidates[0]) if cofactor_candidates else None\n",
    "\n",
    "f = assign_bond_orders_fix_aromatic_no_stereo_noH(cofactor_mol, cofactor_smiles)\n",
    "f\n",
    "\n",
    "def mol_with_atom_indices(mol):\n",
    "    \"\"\"Return a copy of mol with atom indices as atom map numbers.\"\"\"\n",
    "    m = Chem.Mol(mol)  # copy\n",
    "    for atom in m.GetAtoms():\n",
    "        atom.SetAtomMapNum(atom.GetIdx())\n",
    "    return m\n",
    "\n",
    "def save_mol_with_indices(mol, filename=\"mol.png\"):\n",
    "\n",
    "    if mol is None:\n",
    "        raise ValueError(\"Could not parse SMILES\")\n",
    "    mol = mol_with_atom_indices(mol)\n",
    "    img = Draw.MolToImage(mol, size=(500, 500))\n",
    "    img.save(filename)\n",
    "    print(f\"Saved molecule with indices to {filename}\")\n",
    "\n",
    "save_mol_with_indices(f)\n",
    "cofactor_centroids = find_substructure_matches(f, cofactor_moiety)\n",
    "cofactor_centroids"
   ]
  },
  {
   "cell_type": "code",
   "execution_count": 14,
   "id": "bf532b57",
   "metadata": {},
   "outputs": [
    {
     "data": {
      "image/png": "[encoded data removed]",
      "text/plain": [
       "<rdkit.Chem.rdchem.Mol at 0x7fd634e792a0>"
      ]
     },
     "execution_count": 14,
     "metadata": {},
     "output_type": "execute_result"
    }
   ],
   "source": [
    "cofactor_mol"
   ]
  }
 ],
 "metadata": {
  "kernelspec": {
   "display_name": "enzymetk_new",
   "language": "python",
   "name": "python3"
  },
  "language_info": {
   "codemirror_mode": {
    "name": "ipython",
    "version": 3
   },
   "file_extension": ".py",
   "mimetype": "text/x-python",
   "name": "python",
   "nbconvert_exporter": "python",
   "pygments_lexer": "ipython3",
   "version": "3.11.13"
  }
 },
 "nbformat": 4,
 "nbformat_minor": 5
}
