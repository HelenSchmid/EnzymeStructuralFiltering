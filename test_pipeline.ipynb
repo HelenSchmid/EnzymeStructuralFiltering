{
 "cells": [
  {
   "cell_type": "markdown",
   "id": "b07c14cc",
   "metadata": {},
   "source": [
    "# Testing pipeline"
   ]
  },
  {
   "cell_type": "code",
   "execution_count": 12,
   "id": "d90a9d9d",
   "metadata": {},
   "outputs": [
    {
     "data": {
      "application/vnd.microsoft.datawrangler.viewer.v0+json": {
       "columns": [
        {
         "name": "index",
         "rawType": "int64",
         "type": "integer"
        },
        {
         "name": "ID enzyme",
         "rawType": "object",
         "type": "string"
        },
        {
         "name": "Accesion number",
         "rawType": "object",
         "type": "string"
        },
        {
         "name": "PDB code",
         "rawType": "object",
         "type": "unknown"
        },
        {
         "name": "Family",
         "rawType": "object",
         "type": "string"
        },
        {
         "name": "Nr of ester hydrolyzed",
         "rawType": "float64",
         "type": "float"
        },
        {
         "name": "Catalytic triad Cavity Volume/SASA",
         "rawType": "float64",
         "type": "float"
        },
        {
         "name": "Max specific activity (U/g wet cells)",
         "rawType": "object",
         "type": "string"
        },
        {
         "name": "Replicates",
         "rawType": "float64",
         "type": "float"
        },
        {
         "name": "Phylum or Domain",
         "rawType": "object",
         "type": "string"
        },
        {
         "name": "Genera or order or family",
         "rawType": "object",
         "type": "string"
        },
        {
         "name": "Sequence",
         "rawType": "object",
         "type": "string"
        },
        {
         "name": "Screen system",
         "rawType": "object",
         "type": "string"
        },
        {
         "name": "Source or source organism  (full description)",
         "rawType": "object",
         "type": "string"
        },
        {
         "name": "Source or source organism (short ID) ",
         "rawType": "object",
         "type": "string"
        },
        {
         "name": "Type of habitat",
         "rawType": "object",
         "type": "string"
        },
        {
         "name": "Cloning or expression system",
         "rawType": "object",
         "type": "string"
        },
        {
         "name": "Antibiotic [µg/ml]",
         "rawType": "object",
         "type": "string"
        },
        {
         "name": "Inducer",
         "rawType": "object",
         "type": "string"
        },
        {
         "name": "Temp. for expression (¼C)",
         "rawType": "object",
         "type": "string"
        },
        {
         "name": "Time for expression (h)",
         "rawType": "object",
         "type": "string"
        },
        {
         "name": "Reference for expression and purification conditions",
         "rawType": "object",
         "type": "string"
        },
        {
         "name": "% Identity",
         "rawType": "float64",
         "type": "float"
        },
        {
         "name": "Best_hit_NCBInr",
         "rawType": "object",
         "type": "string"
        },
        {
         "name": "Molecular Weight (Da)",
         "rawType": "float64",
         "type": "float"
        },
        {
         "name": "Isoelectric point (pI)",
         "rawType": "float64",
         "type": "float"
        },
        {
         "name": "embedding",
         "rawType": "object",
         "type": "unknown"
        },
        {
         "name": "mmseqs_representative_cluster_seq",
         "rawType": "object",
         "type": "string"
        },
        {
         "name": "esm2_cluster",
         "rawType": "int32",
         "type": "integer"
        },
        {
         "name": "seqsimilarity_cluster",
         "rawType": "int32",
         "type": "integer"
        },
        {
         "name": "PCA1",
         "rawType": "float64",
         "type": "float"
        },
        {
         "name": "PCA2",
         "rawType": "float64",
         "type": "float"
        },
        {
         "name": "UMAP1",
         "rawType": "float32",
         "type": "float"
        },
        {
         "name": "UMAP2",
         "rawType": "float32",
         "type": "float"
        },
        {
         "name": "cleaned ID enzyme",
         "rawType": "object",
         "type": "string"
        },
        {
         "name": "Entry",
         "rawType": "object",
         "type": "string"
        },
        {
         "name": "label",
         "rawType": "object",
         "type": "string"
        },
        {
         "name": "Squidly_CR_Position",
         "rawType": "object",
         "type": "string"
        },
        {
         "name": "Squidly_CR_probabilities",
         "rawType": "object",
         "type": "string"
        },
        {
         "name": "Squidly_CR_representations",
         "rawType": "object",
         "type": "unknown"
        },
        {
         "name": "substrate",
         "rawType": "object",
         "type": "string"
        },
        {
         "name": "chai_dir",
         "rawType": "object",
         "type": "string"
        },
        {
         "name": "Intermediate",
         "rawType": "object",
         "type": "unknown"
        },
        {
         "name": "boltz_dir",
         "rawType": "object",
         "type": "string"
        },
        {
         "name": "structure",
         "rawType": "object",
         "type": "unknown"
        },
        {
         "name": "substrate_name",
         "rawType": "object",
         "type": "string"
        },
        {
         "name": "output_dir",
         "rawType": "object",
         "type": "unknown"
        }
       ],
       "ref": "4aad217a-8822-4532-8988-1abe19f03792",
       "rows": [
        [
         "0",
         "EH124(4)",
         "KP688389",
         null,
         "FVIII (serine beta-lactamase like)",
         "4.0",
         null,
         "21.63",
         "3.0",
         "Proteobacteria",
         "Undetermined",
         "MQRYVDDKLVSGLSAVILKGTDIVDAKTWGYMDIEAQTPMRDDAIFRAYSNTKIVTSAAAMILYDDGAFDLDEPVEKYIPQFKSLKVLKKGAKELDDTEELQTPPTIRHLFTHTAGFAYGLFMTNPVDKVYVDQRMMGMESTLTEMIDKLAKLPLLYQPGEEWQYSISIDILARLVEIWSGKSFSEFLQERIFEPLGMVDTGFDVPEANHHRLSTNYSPIDLRDPMVPGLKPCPDIMIGSVLAPKSFHSGGGGLVTTIADYTTFIQMIINGGEWQGQRILSPESVALMHTNQLREGLKVKIPTWDMPNTVFGLGFAIKNSPAEGEPESAIGEYHWGGMAGTHSWISPQAGVSALIFTQRAYGFWHPFSHEFKRLVYKIAG",
         "Naive (pCC1FOS fosmid metagenomic library)",
         "The Gulf of Genoa in the northernmost part of the Ligurian Sea (Genoa, Italy; 44¡ 22'25.75?N, 8¡ 41'59.58?E), where the Haven tanker sunk (HAV) in 19914",
         "MT Haven tanker shipwreck (Genoa, Italy)",
         "Contaminated",
         "p15Tv-L & E. coli BL21(DE3)",
         "Kanamycin (50)",
         "Isopropyl ?-D-1-thiogalactopyranoside (IPTG) (1 mM)",
         "37¼C",
         "16 h",
         "Popovic, A., et al. Activity screening of environmental metagenomic libraries reveals novel carboxylesterase families. Sci. Rep. in press (2017)",
         "99.74",
         "AKI87782.1",
         "42339.48",
         "5.119",
         "[ 0.08121186 -0.01639595 -0.01765243 ...  0.01986535 -0.03632604\n -0.02375729]",
         "EH124(4)",
         "1",
         "5",
         "-0.16297706980186877",
         "-0.1299086866623574",
         "13.067584",
         "9.491948",
         "EH124",
         "A0A0G2YL08",
         "A0A0G2YL08",
         "49",
         "0.99930227",
         "[[-0.93079823 -0.34967855 -1.1416126  -1.1296606  -0.70695    -0.0595272\n  -0.1365848  -0.06202702 -0.23258401 -0.07424653  0.6776144   0.3699694\n  -0.05223724  0.14082758 -0.047669   -0.7945345   0.10461081  0.11056323\n   0.09487023  0.05980017  0.1609333   0.7463896  -1.1051362   1.0920308\n   0.16036738  0.05730227  0.40715554  0.31741098  0.3592235  -0.00688837\n   0.01931526 -0.18803637 -0.27665246 -1.1092604   0.81886965  0.30751166\n  -0.60303915 -0.00777803  0.15197736 -0.27747256  0.14845663  0.04023684\n  -0.90929115  0.56075686  0.06247912  0.03132918  0.22933447  0.40293628\n   0.08632302  0.9019466  -0.10833475  0.1874054  -0.18493162  0.3871602\n   0.98039484  0.8171172   0.5175475   0.04135026 -0.00416036  0.01022046\n   0.09519666 -0.02486661  0.7089057   0.8661649   0.29806456  0.0952297\n  -0.08034838  0.9577976  -0.15556921 -0.18648021 -0.21658318 -0.13135959\n   0.510299    0.54584825 -0.8903174   0.08714521 -0.10156858 -0.9303911\n   0.30760413  1.3709251  -0.10149113  0.29609635  0.5505076  -0.8986595\n   0.0773457   1.0439812  -0.2042808  -0.54227436 -0.46684772  0.05483117\n   0.28079233 -0.18673149  0.02819903  0.01221664  0.48095924  0.05212873\n   0.0557676  -1.0055889  -0.03338474  0.329575    0.08581577 -0.31745914\n  -0.26105183 -1.0096657  -0.03606373 -0.20640479  1.5383315  -0.15343915\n   0.35204536  0.29971448 -1.1105343  -0.18403383 -0.6636217   0.28323725\n   0.13582991  0.6883477   0.0585107   1.1612533   0.47502264  0.554359\n   1.0130097   0.07256036 -0.11028792  1.0196133   0.32396045  0.6882366\n  -0.58410037  1.0249244 ]]",
         "CCCCCCCC/C=C\\CCCCCCCC(=O)OC=C",
         "martinez_vinyloleate_output/docking/chai/A0A0G2YL08/",
         null,
         "martinez_vinyloleate_output/docking/boltz/A0A0G2YL08/",
         null,
         "Vinyl oleate",
         null
        ],
        [
         "1",
         "EH138(2)",
         "KR919777",
         null,
         "FII",
         "2.0",
         null,
         "2.83",
         "3.0",
         "Proteobacteria",
         "Acidovorax",
         "MGFQRKALWISLAAAWVLAACGGGGADTEPLAPVKTIKVMGDSLADSGTFGLKFTVQGAAPTGAGSTPIWPERVASSYGATLCPRYVFTGTAFNNAAGCTSYAVGGGRINNFTAPTSPVSITKQISDAGADGFSASDLLLIDGGGNDAADLVGAYLSASKDGGASYSAFLKTLLPPATVDAALAGGAAGMAQVGGAYMMALADKFHGAIDANALNKGAMRVAVLNMPGIDKTPRLQQLLGGIAASAGAAASAQVQGLVKAWVEAFNKQLAARFAGNSKVVVVDFYTSLNDQVAHPEQFSLTNAKDTACPITGVGGDGLPTYTFPTCTATALSSMTPPAGATGGADWWKTYAFSDGFHPTPYGHQLLGQLVSRSLAQAGWL",
         "Naive (pCC1FOS fosmid metagenomic library)",
         "Anaerobic mesophilic digester",
         "Anaerobic mesophilic digester",
         "Non contaminated",
         "p15Tv-L & E. coli BL21(DE3)",
         "Kanamycin (50)",
         "Isopropyl ?-D-1-thiogalactopyranoside (IPTG) (1 mM)",
         "37¼C",
         "16 h",
         "Popovic, A., et al. Activity screening of environmental metagenomic libraries reveals novel carboxylesterase families. Sci. Rep. in press (2017)",
         "83.16",
         "WP_056643732.1",
         "38459.54",
         "6.837",
         "[ 0.00444445  0.04608162 -0.02191533 ...  0.07039797 -0.00169691\n -0.06094809]",
         "EH138(2)",
         "3",
         "8",
         "-0.0795178282133369",
         "-0.15726245229679126",
         "14.360632",
         "8.183722",
         "EH138",
         "A0A0S1LLE3",
         "A0A0S1LLE3",
         "42|353|356",
         "0.9995901|0.99855155|0.99934405",
         "[[-1.3327047  -0.5043386  -1.6356174  -1.6152908  -1.020351   -0.08533954\n  -0.19497597 -0.07894571 -0.33937156 -0.10680288  0.9704709   0.5248438\n  -0.07315861  0.20077373 -0.06798652 -1.1382805   0.15632448  0.1596231\n   0.13954341  0.09212137  0.22761069  1.0653434  -1.5831964   1.5751266\n   0.2317855   0.0836418   0.5836813   0.45123962  0.5079268  -0.0168615\n   0.02504025 -0.26523313 -0.40031898 -1.5896761   1.1776199   0.4376395\n  -0.86819583 -0.01343523  0.2267853  -0.3956271   0.20799567  0.05544887\n  -1.3016397   0.80639994  0.09534973  0.04742979  0.3304571   0.5693539\n   0.12033824  1.2900022  -0.16057655  0.2690722  -0.26681197  0.5533768\n   1.4042646   1.1702334   0.73641783  0.05878918 -0.01021582  0.01956118\n   0.13494855 -0.03577721  1.0159757   1.2379415   0.42252094  0.1396972\n  -0.11957673  1.3741429  -0.21948548 -0.27391145 -0.3099835  -0.18374395\n   0.7279417   0.7803057  -1.2766547   0.12504217 -0.14319137 -1.3345089\n   0.44179812  1.9607905  -0.15037416  0.42573437  0.79027706 -1.2873917\n   0.11170364  1.4943737  -0.2881903  -0.7809732  -0.6604954   0.07078287\n   0.39914468 -0.2748794   0.0466315   0.02141755  0.68132573  0.07557813\n   0.08369112 -1.4448141  -0.04828983  0.4642467   0.13223559 -0.45517078\n  -0.36687416 -1.4478939  -0.0539427  -0.2950567   2.2097173  -0.21303271\n   0.4995063   0.43047047 -1.5881574  -0.26113918 -0.9540379   0.40487173\n   0.18781944  0.984764    0.08447244  1.6579938   0.6826411   0.79299057\n   1.4548745   0.10227581 -0.1615164   1.4583621   0.46598378  0.9856735\n  -0.83146906  1.463775  ]\n [-0.65091497 -0.25296837 -0.8061105  -0.79601085 -0.49930042 -0.04442929\n  -0.09243929 -0.04078679 -0.16921715 -0.05361332  0.48032713  0.25378782\n  -0.03640769  0.09320366 -0.03369774 -0.55810994  0.07251917  0.07363945\n   0.06672405  0.03756626  0.11236693  0.52183485 -0.7800727   0.778748\n   0.11937745  0.03372911  0.2813984   0.22987229  0.2493213  -0.00226575\n   0.01583403 -0.13143899 -0.19876666 -0.78187895  0.5797748   0.21522307\n  -0.4208825  -0.0074187   0.11063908 -0.19612709  0.10125253  0.03056221\n  -0.64071757  0.39662483  0.04386336  0.02545598  0.16157994  0.27808452\n   0.06135835  0.6318026  -0.07718779  0.13949512 -0.13644454  0.26318482\n   0.69264704  0.57290304  0.3629098   0.03069504 -0.00653699  0.01145194\n   0.05934322 -0.01679509  0.50365746  0.6059608   0.2099073   0.06765758\n  -0.06223242  0.67728543 -0.11086357 -0.13420361 -0.15467735 -0.09858759\n   0.36129984  0.38127348 -0.6301183   0.06393629 -0.07139057 -0.6539917\n   0.22014044  0.9699181  -0.07459781  0.20410398  0.3851145  -0.6317856\n   0.05030599  0.7366941  -0.14757174 -0.37918112 -0.33159003  0.04023629\n   0.19961141 -0.1363072   0.01742062  0.0133274   0.33550376  0.0292334\n   0.03702803 -0.7092559  -0.02194584  0.23420545  0.06361674 -0.22645406\n  -0.18262279 -0.71564716 -0.02900704 -0.15147762  1.0837698  -0.10645816\n   0.24792637  0.21215735 -0.7829191  -0.12744425 -0.47083572  0.19588058\n   0.09092256  0.486774    0.04254035  0.8156699   0.336778    0.39280504\n   0.7162789   0.05232022 -0.08017839  0.7151276   0.22934443  0.48859578\n  -0.41806933  0.72381264]\n [-0.87777346 -0.33370012 -1.0827235  -1.0694283  -0.67194283 -0.05545429\n  -0.12396054 -0.04948413 -0.22760046 -0.06853574  0.640827    0.35025382\n  -0.04744987  0.12722538 -0.0530162  -0.74873453  0.10026921  0.10944618\n   0.09167869  0.05550507  0.14867216  0.70327467 -1.044508    1.0431154\n   0.15305826  0.06159712  0.38967177  0.2957194   0.3354355  -0.01251071\n   0.01410477 -0.17222331 -0.2653727  -1.0461581   0.7768971   0.28686017\n  -0.5753728  -0.00803928  0.14747187 -0.2578287   0.133236    0.03733582\n  -0.8575454   0.532299    0.06271178  0.03174838  0.21759526  0.3657383\n   0.08073206  0.85077655 -0.106656    0.17647843 -0.17611142  0.36817357\n   0.9248844   0.7730263   0.48882866  0.03290776 -0.00735347  0.01433528\n   0.09171502 -0.02312516  0.6745655   0.8206027   0.28244525  0.08729888\n  -0.08546434  0.9013528  -0.1508617  -0.18102124 -0.20346671 -0.12612946\n   0.48489726  0.5125878  -0.8436871   0.07574885 -0.09383889 -0.87745774\n   0.29032785  1.2935836  -0.10485537  0.28101563  0.5204905  -0.8504028\n   0.06792936  0.9900356  -0.19118005 -0.5155958  -0.4402106   0.04163909\n   0.2638063  -0.17949188  0.02794768  0.01230058  0.44868943  0.04728197\n   0.05500162 -0.95871    -0.02573937  0.31403753  0.08912277 -0.2981849\n  -0.24622847 -0.95330995 -0.03648102 -0.1954735   1.4540207  -0.13859071\n   0.3283251   0.28288588 -1.0473437  -0.16598742 -0.6326394   0.27266392\n   0.12516877  0.6477217   0.05810651  1.0912015   0.45054892  0.5242993\n   0.96401215  0.07175732 -0.10883375  0.9610473   0.30238435  0.6498985\n  -0.5509906   0.96602625]]",
         "CCCCCCCC/C=C\\CCCCCCCC(=O)OC=C",
         "martinez_vinyloleate_output/docking/chai/A0A0S1LLE3/",
         null,
         "martinez_vinyloleate_output/docking/boltz/A0A0S1LLE3/",
         null,
         "Vinyl oleate",
         null
        ]
       ],
       "shape": {
        "columns": 46,
        "rows": 2
       }
      },
      "text/html": [
       "<div>\n",
       "<style scoped>\n",
       "    .dataframe tbody tr th:only-of-type {\n",
       "        vertical-align: middle;\n",
       "    }\n",
       "\n",
       "    .dataframe tbody tr th {\n",
       "        vertical-align: top;\n",
       "    }\n",
       "\n",
       "    .dataframe thead th {\n",
       "        text-align: right;\n",
       "    }\n",
       "</style>\n",
       "<table border=\"1\" class=\"dataframe\">\n",
       "  <thead>\n",
       "    <tr style=\"text-align: right;\">\n",
       "      <th></th>\n",
       "      <th>ID enzyme</th>\n",
       "      <th>Accesion number</th>\n",
       "      <th>PDB code</th>\n",
       "      <th>Family</th>\n",
       "      <th>Nr of ester hydrolyzed</th>\n",
       "      <th>Catalytic triad Cavity Volume/SASA</th>\n",
       "      <th>Max specific activity (U/g wet cells)</th>\n",
       "      <th>Replicates</th>\n",
       "      <th>Phylum or Domain</th>\n",
       "      <th>Genera or order or family</th>\n",
       "      <th>...</th>\n",
       "      <th>Squidly_CR_Position</th>\n",
       "      <th>Squidly_CR_probabilities</th>\n",
       "      <th>Squidly_CR_representations</th>\n",
       "      <th>substrate</th>\n",
       "      <th>chai_dir</th>\n",
       "      <th>Intermediate</th>\n",
       "      <th>boltz_dir</th>\n",
       "      <th>structure</th>\n",
       "      <th>substrate_name</th>\n",
       "      <th>output_dir</th>\n",
       "    </tr>\n",
       "  </thead>\n",
       "  <tbody>\n",
       "    <tr>\n",
       "      <th>0</th>\n",
       "      <td>EH124(4)</td>\n",
       "      <td>KP688389</td>\n",
       "      <td>NaN</td>\n",
       "      <td>FVIII (serine beta-lactamase like)</td>\n",
       "      <td>4.0</td>\n",
       "      <td>NaN</td>\n",
       "      <td>21.63</td>\n",
       "      <td>3.0</td>\n",
       "      <td>Proteobacteria</td>\n",
       "      <td>Undetermined</td>\n",
       "      <td>...</td>\n",
       "      <td>49</td>\n",
       "      <td>0.99930227</td>\n",
       "      <td>[[-0.93079823, -0.34967855, -1.1416126, -1.129...</td>\n",
       "      <td>CCCCCCCC/C=C\\CCCCCCCC(=O)OC=C</td>\n",
       "      <td>martinez_vinyloleate_output/docking/chai/A0A0G...</td>\n",
       "      <td>None</td>\n",
       "      <td>martinez_vinyloleate_output/docking/boltz/A0A0...</td>\n",
       "      <td>None</td>\n",
       "      <td>Vinyl oleate</td>\n",
       "      <td>None</td>\n",
       "    </tr>\n",
       "    <tr>\n",
       "      <th>1</th>\n",
       "      <td>EH138(2)</td>\n",
       "      <td>KR919777</td>\n",
       "      <td>NaN</td>\n",
       "      <td>FII</td>\n",
       "      <td>2.0</td>\n",
       "      <td>NaN</td>\n",
       "      <td>2.83</td>\n",
       "      <td>3.0</td>\n",
       "      <td>Proteobacteria</td>\n",
       "      <td>Acidovorax</td>\n",
       "      <td>...</td>\n",
       "      <td>42|353|356</td>\n",
       "      <td>0.9995901|0.99855155|0.99934405</td>\n",
       "      <td>[[-1.3327047, -0.5043386, -1.6356174, -1.61529...</td>\n",
       "      <td>CCCCCCCC/C=C\\CCCCCCCC(=O)OC=C</td>\n",
       "      <td>martinez_vinyloleate_output/docking/chai/A0A0S...</td>\n",
       "      <td>None</td>\n",
       "      <td>martinez_vinyloleate_output/docking/boltz/A0A0...</td>\n",
       "      <td>None</td>\n",
       "      <td>Vinyl oleate</td>\n",
       "      <td>None</td>\n",
       "    </tr>\n",
       "  </tbody>\n",
       "</table>\n",
       "<p>2 rows × 46 columns</p>\n",
       "</div>"
      ],
      "text/plain": [
       "  ID enzyme Accesion number PDB code                              Family  \\\n",
       "0  EH124(4)        KP688389      NaN  FVIII (serine beta-lactamase like)   \n",
       "1  EH138(2)        KR919777      NaN                                 FII   \n",
       "\n",
       "   Nr of ester hydrolyzed  Catalytic triad Cavity Volume/SASA  \\\n",
       "0                     4.0                                 NaN   \n",
       "1                     2.0                                 NaN   \n",
       "\n",
       "  Max specific activity (U/g wet cells)  Replicates Phylum or Domain  \\\n",
       "0                                 21.63         3.0   Proteobacteria   \n",
       "1                                  2.83         3.0   Proteobacteria   \n",
       "\n",
       "  Genera or order or family  ... Squidly_CR_Position  \\\n",
       "0              Undetermined  ...                  49   \n",
       "1                Acidovorax  ...          42|353|356   \n",
       "\n",
       "          Squidly_CR_probabilities  \\\n",
       "0                       0.99930227   \n",
       "1  0.9995901|0.99855155|0.99934405   \n",
       "\n",
       "                          Squidly_CR_representations  \\\n",
       "0  [[-0.93079823, -0.34967855, -1.1416126, -1.129...   \n",
       "1  [[-1.3327047, -0.5043386, -1.6356174, -1.61529...   \n",
       "\n",
       "                       substrate  \\\n",
       "0  CCCCCCCC/C=C\\CCCCCCCC(=O)OC=C   \n",
       "1  CCCCCCCC/C=C\\CCCCCCCC(=O)OC=C   \n",
       "\n",
       "                                            chai_dir Intermediate  \\\n",
       "0  martinez_vinyloleate_output/docking/chai/A0A0G...         None   \n",
       "1  martinez_vinyloleate_output/docking/chai/A0A0S...         None   \n",
       "\n",
       "                                           boltz_dir structure substrate_name  \\\n",
       "0  martinez_vinyloleate_output/docking/boltz/A0A0...      None   Vinyl oleate   \n",
       "1  martinez_vinyloleate_output/docking/boltz/A0A0...      None   Vinyl oleate   \n",
       "\n",
       "  output_dir  \n",
       "0       None  \n",
       "1       None  \n",
       "\n",
       "[2 rows x 46 columns]"
      ]
     },
     "execution_count": 12,
     "metadata": {},
     "output_type": "execute_result"
    }
   ],
   "source": [
    "import pandas as pd\n",
    "df = pd.read_pickle('/nvme2/helen/masterthesis/2_manuscript/martinez_vinyloleate_output/docking/vina.pkl')\n",
    "df2 = pd.read_pickle('pipeline_output_test/docking/vina.pkl')\n",
    "df\n",
    "\n",
    "\n",
    "# Add Sb-PTE, QHH"
   ]
  },
  {
   "cell_type": "code",
   "execution_count": 13,
   "id": "09feff77",
   "metadata": {},
   "outputs": [
    {
     "data": {
      "application/vnd.microsoft.datawrangler.viewer.v0+json": {
       "columns": [
        {
         "name": "index",
         "rawType": "int64",
         "type": "integer"
        },
        {
         "name": "Entry",
         "rawType": "object",
         "type": "string"
        },
        {
         "name": "Reviewed",
         "rawType": "object",
         "type": "string"
        },
        {
         "name": "Entry Name",
         "rawType": "object",
         "type": "string"
        },
        {
         "name": "Protein names",
         "rawType": "object",
         "type": "string"
        },
        {
         "name": "Gene Names",
         "rawType": "object",
         "type": "string"
        },
        {
         "name": "Organism",
         "rawType": "object",
         "type": "string"
        },
        {
         "name": "Length",
         "rawType": "int64",
         "type": "integer"
        },
        {
         "name": "Taxonomic lineage (Ids)",
         "rawType": "object",
         "type": "string"
        },
        {
         "name": "Organism (ID)",
         "rawType": "int64",
         "type": "integer"
        },
        {
         "name": "Sequence",
         "rawType": "object",
         "type": "string"
        },
        {
         "name": "Fragment",
         "rawType": "object",
         "type": "unknown"
        },
        {
         "name": "Mass",
         "rawType": "float64",
         "type": "float"
        },
        {
         "name": "Active site",
         "rawType": "object",
         "type": "unknown"
        },
        {
         "name": "Binding site",
         "rawType": "object",
         "type": "unknown"
        },
        {
         "name": "Cofactor",
         "rawType": "object",
         "type": "unknown"
        },
        {
         "name": "Catalytic activity",
         "rawType": "object",
         "type": "unknown"
        },
        {
         "name": "DNA binding",
         "rawType": "object",
         "type": "unknown"
        },
        {
         "name": "EC number",
         "rawType": "object",
         "type": "unknown"
        },
        {
         "name": "Activity regulation",
         "rawType": "object",
         "type": "unknown"
        },
        {
         "name": "Function [CC]",
         "rawType": "object",
         "type": "unknown"
        },
        {
         "name": "pH dependence",
         "rawType": "object",
         "type": "unknown"
        },
        {
         "name": "Temperature dependence",
         "rawType": "object",
         "type": "unknown"
        },
        {
         "name": "Caution",
         "rawType": "object",
         "type": "unknown"
        },
        {
         "name": "Interacts with",
         "rawType": "object",
         "type": "unknown"
        },
        {
         "name": "Subunit structure",
         "rawType": "object",
         "type": "unknown"
        },
        {
         "name": "Intramembrane",
         "rawType": "object",
         "type": "unknown"
        },
        {
         "name": "Subcellular location [CC]",
         "rawType": "object",
         "type": "unknown"
        },
        {
         "name": "Transmembrane",
         "rawType": "object",
         "type": "unknown"
        },
        {
         "name": "Disulfide bond",
         "rawType": "object",
         "type": "unknown"
        },
        {
         "name": "Glycosylation",
         "rawType": "object",
         "type": "unknown"
        },
        {
         "name": "Peptide",
         "rawType": "float64",
         "type": "float"
        },
        {
         "name": "Modified residue",
         "rawType": "object",
         "type": "unknown"
        },
        {
         "name": "Propeptide",
         "rawType": "object",
         "type": "unknown"
        },
        {
         "name": "Signal peptide",
         "rawType": "object",
         "type": "unknown"
        },
        {
         "name": "Transit peptide",
         "rawType": "float64",
         "type": "float"
        },
        {
         "name": "Post-translational modification",
         "rawType": "object",
         "type": "unknown"
        },
        {
         "name": "PDB",
         "rawType": "object",
         "type": "string"
        },
        {
         "name": "BRENDA",
         "rawType": "object",
         "type": "unknown"
        },
        {
         "name": "temperature",
         "rawType": "float64",
         "type": "float"
        },
        {
         "name": "temp_level",
         "rawType": "object",
         "type": "string"
        },
        {
         "name": "superkingdom",
         "rawType": "float64",
         "type": "float"
        },
        {
         "name": "kingdom",
         "rawType": "float64",
         "type": "float"
        },
        {
         "name": "phylum",
         "rawType": "float64",
         "type": "float"
        },
        {
         "name": "class",
         "rawType": "float64",
         "type": "float"
        },
        {
         "name": "order",
         "rawType": "float64",
         "type": "float"
        },
        {
         "name": "family",
         "rawType": "float64",
         "type": "float"
        },
        {
         "name": "genus",
         "rawType": "float64",
         "type": "float"
        },
        {
         "name": "species",
         "rawType": "float64",
         "type": "float"
        },
        {
         "name": "domain",
         "rawType": "int64",
         "type": "integer"
        },
        {
         "name": "superkingdom_label",
         "rawType": "object",
         "type": "string"
        },
        {
         "name": "esm3_mean",
         "rawType": "object",
         "type": "unknown"
        },
        {
         "name": "Annotation",
         "rawType": "float64",
         "type": "float"
        },
        {
         "name": "Topological domain",
         "rawType": "object",
         "type": "unknown"
        },
        {
         "name": "Action",
         "rawType": "int64",
         "type": "integer"
        },
        {
         "name": "rxnfp",
         "rawType": "object",
         "type": "unknown"
        },
        {
         "name": "product_unimol_repr",
         "rawType": "object",
         "type": "unknown"
        },
        {
         "name": "substrate_unimol_repr",
         "rawType": "object",
         "type": "unknown"
        },
        {
         "name": "pred_Length",
         "rawType": "float32",
         "type": "float"
        },
        {
         "name": "pred_Mass",
         "rawType": "float32",
         "type": "float"
        },
        {
         "name": "pred_Polarity",
         "rawType": "float32",
         "type": "float"
        },
        {
         "name": "pred_temperature",
         "rawType": "float32",
         "type": "float"
        },
        {
         "name": "inverse_transformed_pred_Length",
         "rawType": "float32",
         "type": "float"
        },
        {
         "name": "inverse_transformed_pred_Mass",
         "rawType": "float32",
         "type": "float"
        },
        {
         "name": "inverse_transformed_pred_Polarity",
         "rawType": "float32",
         "type": "float"
        },
        {
         "name": "inverse_transformed_pred_temperature",
         "rawType": "float32",
         "type": "float"
        },
        {
         "name": "pred_substrates_MolWt",
         "rawType": "float32",
         "type": "float"
        },
        {
         "name": "pred_substrates_MolLogP",
         "rawType": "float32",
         "type": "float"
        },
        {
         "name": "pred_substrates_MaxPartialCharge",
         "rawType": "float32",
         "type": "float"
        },
        {
         "name": "pred_substrates_MinPartialCharge",
         "rawType": "float32",
         "type": "float"
        },
        {
         "name": "pred_products_MolWt",
         "rawType": "float32",
         "type": "float"
        },
        {
         "name": "pred_products_TPSA",
         "rawType": "float32",
         "type": "float"
        },
        {
         "name": "pred_products_MolLogP",
         "rawType": "float32",
         "type": "float"
        },
        {
         "name": "pred_products_MaxPartialCharge",
         "rawType": "float32",
         "type": "float"
        },
        {
         "name": "pred_products_MinPartialCharge",
         "rawType": "float32",
         "type": "float"
        },
        {
         "name": "inverse_transformed_pred_substrates_MolWt",
         "rawType": "float32",
         "type": "float"
        },
        {
         "name": "inverse_transformed_pred_substrates_MolLogP",
         "rawType": "float32",
         "type": "float"
        },
        {
         "name": "inverse_transformed_pred_substrates_MaxPartialCharge",
         "rawType": "float32",
         "type": "float"
        },
        {
         "name": "inverse_transformed_pred_substrates_MinPartialCharge",
         "rawType": "float32",
         "type": "float"
        },
        {
         "name": "inverse_transformed_pred_products_MolWt",
         "rawType": "float32",
         "type": "float"
        },
        {
         "name": "inverse_transformed_pred_products_TPSA",
         "rawType": "float32",
         "type": "float"
        },
        {
         "name": "inverse_transformed_pred_products_MolLogP",
         "rawType": "float32",
         "type": "float"
        },
        {
         "name": "inverse_transformed_pred_products_MaxPartialCharge",
         "rawType": "float32",
         "type": "float"
        },
        {
         "name": "inverse_transformed_pred_products_MinPartialCharge",
         "rawType": "float32",
         "type": "float"
        },
        {
         "name": "pred_Activity",
         "rawType": "float32",
         "type": "float"
        },
        {
         "name": "DEHP-MEHP_prediction",
         "rawType": "float32",
         "type": "float"
        },
        {
         "name": "DEHP-MEHP_std_preds",
         "rawType": "float32",
         "type": "float"
        },
        {
         "name": "DEHP-MEHP_epistemic",
         "rawType": "float32",
         "type": "float"
        },
        {
         "name": "Length_mean",
         "rawType": "float32",
         "type": "float"
        },
        {
         "name": "Mass_mean",
         "rawType": "float32",
         "type": "float"
        },
        {
         "name": "Polarity_mean",
         "rawType": "float32",
         "type": "float"
        },
        {
         "name": "temperature_mean",
         "rawType": "float32",
         "type": "float"
        },
        {
         "name": "substrates_MolWt_mean",
         "rawType": "float32",
         "type": "float"
        },
        {
         "name": "substrates_MolLogP_mean",
         "rawType": "float32",
         "type": "float"
        },
        {
         "name": "substrates_MaxPartialCharge_mean",
         "rawType": "float32",
         "type": "float"
        },
        {
         "name": "substrates_MinPartialCharge_mean",
         "rawType": "float32",
         "type": "float"
        },
        {
         "name": "products_MolWt_mean",
         "rawType": "float32",
         "type": "float"
        },
        {
         "name": "products_TPSA_mean",
         "rawType": "float32",
         "type": "float"
        },
        {
         "name": "products_MolLogP_mean",
         "rawType": "float32",
         "type": "float"
        },
        {
         "name": "products_MaxPartialCharge_mean",
         "rawType": "float32",
         "type": "float"
        },
        {
         "name": "products_MinPartialCharge_mean",
         "rawType": "float32",
         "type": "float"
        },
        {
         "name": "TPP-diPP_prediction",
         "rawType": "float32",
         "type": "float"
        },
        {
         "name": "TPP-diPP_std_preds",
         "rawType": "float32",
         "type": "float"
        },
        {
         "name": "TPP-diPP_epistemic",
         "rawType": "float32",
         "type": "float"
        },
        {
         "name": "Monuron_prediction",
         "rawType": "float32",
         "type": "float"
        },
        {
         "name": "Monuron_std_preds",
         "rawType": "float32",
         "type": "float"
        },
        {
         "name": "Monuron_epistemic",
         "rawType": "float32",
         "type": "float"
        },
        {
         "name": "DEHP-MEHP_Length_mean",
         "rawType": "float32",
         "type": "float"
        },
        {
         "name": "DEHP-MEHP_Mass_mean",
         "rawType": "float32",
         "type": "float"
        },
        {
         "name": "DEHP-MEHP_Polarity_mean",
         "rawType": "float32",
         "type": "float"
        },
        {
         "name": "DEHP-MEHP_temperature_mean",
         "rawType": "float32",
         "type": "float"
        },
        {
         "name": "DEHP-MEHP_substrates_MolWt_mean",
         "rawType": "float32",
         "type": "float"
        },
        {
         "name": "DEHP-MEHP_substrates_MolLogP_mean",
         "rawType": "float32",
         "type": "float"
        },
        {
         "name": "DEHP-MEHP_substrates_MaxPartialCharge_mean",
         "rawType": "float32",
         "type": "float"
        },
        {
         "name": "DEHP-MEHP_substrates_MinPartialCharge_mean",
         "rawType": "float32",
         "type": "float"
        },
        {
         "name": "DEHP-MEHP_products_MolWt_mean",
         "rawType": "float32",
         "type": "float"
        },
        {
         "name": "DEHP-MEHP_products_TPSA_mean",
         "rawType": "float32",
         "type": "float"
        },
        {
         "name": "DEHP-MEHP_products_MolLogP_mean",
         "rawType": "float32",
         "type": "float"
        },
        {
         "name": "DEHP-MEHP_products_MaxPartialCharge_mean",
         "rawType": "float32",
         "type": "float"
        },
        {
         "name": "DEHP-MEHP_products_MinPartialCharge_mean",
         "rawType": "float32",
         "type": "float"
        },
        {
         "name": "TPP-diPP_Length_mean",
         "rawType": "float32",
         "type": "float"
        },
        {
         "name": "TPP-diPP_Mass_mean",
         "rawType": "float32",
         "type": "float"
        },
        {
         "name": "TPP-diPP_Polarity_mean",
         "rawType": "float32",
         "type": "float"
        },
        {
         "name": "TPP-diPP_temperature_mean",
         "rawType": "float32",
         "type": "float"
        },
        {
         "name": "TPP-diPP_substrates_MolWt_mean",
         "rawType": "float32",
         "type": "float"
        },
        {
         "name": "TPP-diPP_substrates_MolLogP_mean",
         "rawType": "float32",
         "type": "float"
        },
        {
         "name": "TPP-diPP_substrates_MaxPartialCharge_mean",
         "rawType": "float32",
         "type": "float"
        },
        {
         "name": "TPP-diPP_substrates_MinPartialCharge_mean",
         "rawType": "float32",
         "type": "float"
        },
        {
         "name": "TPP-diPP_products_MolWt_mean",
         "rawType": "float32",
         "type": "float"
        },
        {
         "name": "TPP-diPP_products_TPSA_mean",
         "rawType": "float32",
         "type": "float"
        },
        {
         "name": "TPP-diPP_products_MolLogP_mean",
         "rawType": "float32",
         "type": "float"
        },
        {
         "name": "TPP-diPP_products_MaxPartialCharge_mean",
         "rawType": "float32",
         "type": "float"
        },
        {
         "name": "TPP-diPP_products_MinPartialCharge_mean",
         "rawType": "float32",
         "type": "float"
        },
        {
         "name": "Monuron_Length_mean",
         "rawType": "float32",
         "type": "float"
        },
        {
         "name": "Monuron_Mass_mean",
         "rawType": "float32",
         "type": "float"
        },
        {
         "name": "Monuron_Polarity_mean",
         "rawType": "float32",
         "type": "float"
        },
        {
         "name": "Monuron_temperature_mean",
         "rawType": "float32",
         "type": "float"
        },
        {
         "name": "Monuron_substrates_MolWt_mean",
         "rawType": "float32",
         "type": "float"
        },
        {
         "name": "Monuron_substrates_MolLogP_mean",
         "rawType": "float32",
         "type": "float"
        },
        {
         "name": "Monuron_substrates_MaxPartialCharge_mean",
         "rawType": "float32",
         "type": "float"
        },
        {
         "name": "Monuron_substrates_MinPartialCharge_mean",
         "rawType": "float32",
         "type": "float"
        },
        {
         "name": "Monuron_products_MolWt_mean",
         "rawType": "float32",
         "type": "float"
        },
        {
         "name": "Monuron_products_TPSA_mean",
         "rawType": "float32",
         "type": "float"
        },
        {
         "name": "Monuron_products_MolLogP_mean",
         "rawType": "float32",
         "type": "float"
        },
        {
         "name": "Monuron_products_MaxPartialCharge_mean",
         "rawType": "float32",
         "type": "float"
        },
        {
         "name": "Monuron_products_MinPartialCharge_mean",
         "rawType": "float32",
         "type": "float"
        },
        {
         "name": "DEHP-MEHP_Length_std",
         "rawType": "float32",
         "type": "float"
        },
        {
         "name": "DEHP-MEHP_Mass_std",
         "rawType": "float32",
         "type": "float"
        },
        {
         "name": "DEHP-MEHP_Polarity_std",
         "rawType": "float32",
         "type": "float"
        },
        {
         "name": "DEHP-MEHP_temperature_std",
         "rawType": "float32",
         "type": "float"
        },
        {
         "name": "DEHP-MEHP_substrates_MolWt_std",
         "rawType": "float32",
         "type": "float"
        },
        {
         "name": "DEHP-MEHP_substrates_MolLogP_std",
         "rawType": "float32",
         "type": "float"
        },
        {
         "name": "DEHP-MEHP_substrates_MaxPartialCharge_std",
         "rawType": "float32",
         "type": "float"
        },
        {
         "name": "DEHP-MEHP_substrates_MinPartialCharge_std",
         "rawType": "float32",
         "type": "float"
        },
        {
         "name": "DEHP-MEHP_products_MolWt_std",
         "rawType": "float32",
         "type": "float"
        },
        {
         "name": "DEHP-MEHP_products_TPSA_std",
         "rawType": "float32",
         "type": "float"
        },
        {
         "name": "DEHP-MEHP_products_MolLogP_std",
         "rawType": "float32",
         "type": "float"
        },
        {
         "name": "DEHP-MEHP_products_MaxPartialCharge_std",
         "rawType": "float32",
         "type": "float"
        },
        {
         "name": "DEHP-MEHP_products_MinPartialCharge_std",
         "rawType": "float32",
         "type": "float"
        },
        {
         "name": "TPP-diPP_Length_std",
         "rawType": "float32",
         "type": "float"
        },
        {
         "name": "TPP-diPP_Mass_std",
         "rawType": "float32",
         "type": "float"
        },
        {
         "name": "TPP-diPP_Polarity_std",
         "rawType": "float32",
         "type": "float"
        },
        {
         "name": "TPP-diPP_temperature_std",
         "rawType": "float32",
         "type": "float"
        },
        {
         "name": "TPP-diPP_substrates_MolWt_std",
         "rawType": "float32",
         "type": "float"
        },
        {
         "name": "TPP-diPP_substrates_MolLogP_std",
         "rawType": "float32",
         "type": "float"
        },
        {
         "name": "TPP-diPP_substrates_MaxPartialCharge_std",
         "rawType": "float32",
         "type": "float"
        },
        {
         "name": "TPP-diPP_substrates_MinPartialCharge_std",
         "rawType": "float32",
         "type": "float"
        },
        {
         "name": "TPP-diPP_products_MolWt_std",
         "rawType": "float32",
         "type": "float"
        },
        {
         "name": "TPP-diPP_products_TPSA_std",
         "rawType": "float32",
         "type": "float"
        },
        {
         "name": "TPP-diPP_products_MolLogP_std",
         "rawType": "float32",
         "type": "float"
        },
        {
         "name": "TPP-diPP_products_MaxPartialCharge_std",
         "rawType": "float32",
         "type": "float"
        },
        {
         "name": "TPP-diPP_products_MinPartialCharge_std",
         "rawType": "float32",
         "type": "float"
        },
        {
         "name": "Monuron_Length_std",
         "rawType": "float32",
         "type": "float"
        },
        {
         "name": "Monuron_Mass_std",
         "rawType": "float32",
         "type": "float"
        },
        {
         "name": "Monuron_Polarity_std",
         "rawType": "float32",
         "type": "float"
        },
        {
         "name": "Monuron_temperature_std",
         "rawType": "float32",
         "type": "float"
        },
        {
         "name": "Monuron_substrates_MolWt_std",
         "rawType": "float32",
         "type": "float"
        },
        {
         "name": "Monuron_substrates_MolLogP_std",
         "rawType": "float32",
         "type": "float"
        },
        {
         "name": "Monuron_substrates_MaxPartialCharge_std",
         "rawType": "float32",
         "type": "float"
        },
        {
         "name": "Monuron_substrates_MinPartialCharge_std",
         "rawType": "float32",
         "type": "float"
        },
        {
         "name": "Monuron_products_MolWt_std",
         "rawType": "float32",
         "type": "float"
        },
        {
         "name": "Monuron_products_TPSA_std",
         "rawType": "float32",
         "type": "float"
        },
        {
         "name": "Monuron_products_MolLogP_std",
         "rawType": "float32",
         "type": "float"
        },
        {
         "name": "Monuron_products_MaxPartialCharge_std",
         "rawType": "float32",
         "type": "float"
        },
        {
         "name": "Monuron_products_MinPartialCharge_std",
         "rawType": "float32",
         "type": "float"
        },
        {
         "name": "DEHP-MEHP_length-diff",
         "rawType": "float64",
         "type": "float"
        },
        {
         "name": "DEHP-MEHP_molweight-diff",
         "rawType": "float32",
         "type": "float"
        },
        {
         "name": "TPP-diPP_length-diff",
         "rawType": "float64",
         "type": "float"
        },
        {
         "name": "TPP-diPP_molweight-diff",
         "rawType": "float32",
         "type": "float"
        },
        {
         "name": "Monuron_length-diff",
         "rawType": "float64",
         "type": "float"
        },
        {
         "name": "Monuron_molweight-diff",
         "rawType": "float32",
         "type": "float"
        },
        {
         "name": "label",
         "rawType": "object",
         "type": "string"
        },
        {
         "name": "Squidly_CR_Position",
         "rawType": "object",
         "type": "string"
        },
        {
         "name": "Squidly_CR_probabilities",
         "rawType": "object",
         "type": "string"
        },
        {
         "name": "Squidly_CR_representations",
         "rawType": "object",
         "type": "unknown"
        },
        {
         "name": "substrate",
         "rawType": "object",
         "type": "string"
        },
        {
         "name": "chai_dir",
         "rawType": "object",
         "type": "string"
        },
        {
         "name": "Intermediate",
         "rawType": "object",
         "type": "unknown"
        },
        {
         "name": "boltz_dir",
         "rawType": "object",
         "type": "string"
        },
        {
         "name": "structure",
         "rawType": "object",
         "type": "unknown"
        },
        {
         "name": "substrate_name",
         "rawType": "object",
         "type": "string"
        },
        {
         "name": "output_dir",
         "rawType": "object",
         "type": "string"
        }
       ],
       "ref": "d474029c-7714-4865-8f4b-c21510383b6c",
       "rows": [
        [
         "0",
         "B9ZZP0",
         "unreviewed",
         "B9ZZP0_9BACL",
         "triacylglycerol lipase (EC 3.1.1.3)",
         "Lip",
         "Geobacillus sp. SBS-4S",
         "389",
         "131567 (no rank), 2 (domain), 1783272 (kingdom), 1239 (phylum), 91061 (class), 1385 (order), 3120669 (family), 129337 (genus), 2642459 (no rank)",
         "446356",
         "MAASRANDAPIVLLHGFTGWGREEMFGFKYWGGVRGDIEQWLNDNGYRTYTLAVGPLSSNWDRACEAYAQLVGGTVDYGAAHAAKHGHARFGRTYLGLLPELKRGGRIHIIAHSQGGQTARMLVSLLENGSQEEREYAKAHNVSLSPLFEGGHHFVLSVTTIATPHDGTTLVNMVDFTDRFFDLQKAVLEAAAVASNVPYTSQVYDFKLDQWGLRRQPGESFDHYFERLKRSPVWTSTDTARYDLSVSGAEKLNQWVQASPNTYYLSFATERTYRGALTGNYYPELGMNAFSAVVCAPFLGSYRNPTLGIDDRWLENDGIVNTVSMNGPKRGSSDRIVPYDGALKKGVWNDMGTYNVDHLEIIGVDPNPSFDIRAFYLRLAEQLASLQP",
         null,
         "43296.0",
         null,
         "BINDING 62; /ligand=\"Zn(2+)\"; /ligand_id=\"ChEBI:CHEBI:29105\"; /evidence=\"ECO:0007829|PDB:3AUK\"; BINDING 82; /ligand=\"Zn(2+)\"; /ligand_id=\"ChEBI:CHEBI:29105\"; /evidence=\"ECO:0007829|PDB:3AUK\"; BINDING 88; /ligand=\"Zn(2+)\"; /ligand_id=\"ChEBI:CHEBI:29105\"; /evidence=\"ECO:0007829|PDB:3AUK\"; BINDING 239; /ligand=\"Zn(2+)\"; /ligand_id=\"ChEBI:CHEBI:29105\"; /evidence=\"ECO:0007829|PDB:3AUK\"; BINDING 287; /ligand=\"Ca(2+)\"; /ligand_id=\"ChEBI:CHEBI:29108\"; /evidence=\"ECO:0007829|PDB:3AUK\"; BINDING 361; /ligand=\"Ca(2+)\"; /ligand_id=\"ChEBI:CHEBI:29108\"; /evidence=\"ECO:0007829|PDB:3AUK\"; BINDING 366; /ligand=\"Ca(2+)\"; /ligand_id=\"ChEBI:CHEBI:29108\"; /evidence=\"ECO:0007829|PDB:3AUK\"; BINDING 367; /ligand=\"Ca(2+)\"; /ligand_id=\"ChEBI:CHEBI:29108\"; /evidence=\"ECO:0007829|PDB:3AUK\"",
         null,
         "CATALYTIC ACTIVITY: Reaction=a triacylglycerol + H2O = a diacylglycerol + a fatty acid + H(+); Xref=Rhea:RHEA:12044, ChEBI:CHEBI:15377, ChEBI:CHEBI:15378, ChEBI:CHEBI:17855, ChEBI:CHEBI:18035, ChEBI:CHEBI:28868; EC=3.1.1.3; Evidence={ECO:0000256|ARBA:ARBA00001024};",
         null,
         "3.1.1.3",
         null,
         null,
         null,
         null,
         null,
         null,
         null,
         null,
         "SUBCELLULAR LOCATION: Secreted {ECO:0000256|ARBA:ARBA00004613}.",
         null,
         null,
         null,
         null,
         null,
         null,
         null,
         null,
         null,
         "3AUK;",
         null,
         "55.0",
         "genus",
         null,
         "1783272.0",
         "1239.0",
         "91061.0",
         "1385.0",
         "3120669.0",
         "129337.0",
         null,
         "2",
         "Archaea",
         "[-1.2148337e-02  1.4951766e+01  4.2406967e+01 ...  5.4388268e+01\n -7.3969147e+01 -5.4460278e+01]",
         null,
         null,
         "0",
         "[ 7.59582222e-01 -1.81714034e+00 -1.00497139e+00  5.94287872e-01\n  1.06662139e-01  1.61361647e+00 -5.13463514e-03 -1.46568549e+00\n -9.02154684e-01  2.91462064e-01 -2.08907104e+00  6.45655096e-01\n -2.68209219e+00 -1.07332841e-01  2.95012832e-01  8.80661368e-01\n -1.20960963e+00  1.89789891e+00 -4.63778108e-01  2.24878475e-01\n -9.88802969e-01 -1.99123871e+00 -4.44494069e-01 -3.02303135e-01\n -3.50694895e+00 -2.65882015e+00 -5.99580348e-01  4.63278204e-01\n  5.40808022e-01  2.88385570e-01  7.74167180e-01  9.85860173e-03\n  2.21005535e+00  6.04899414e-02 -5.07620238e-02  8.59512866e-01\n -1.17073679e+00 -7.33118296e-01 -2.62804580e+00 -2.02767044e-01\n -1.71406674e+00  6.57939166e-02 -1.82710016e+00 -1.64551890e+00\n -9.39067155e-02 -1.41544461e+00  2.09955499e-01 -2.00517225e+00\n -6.21541500e-01  2.68375985e-02 -3.83509308e-01  2.05620670e+00\n  4.42377418e-01 -1.56121159e+00  2.17224881e-01 -1.63838601e+00\n  2.77276134e+00  4.67901826e-01 -1.35553956e-01 -1.76906526e+00\n  2.62386441e-01 -9.00764585e-01 -1.40737760e+00  4.45200086e-01\n -8.20374042e-02  4.14994150e-01 -9.80628431e-01 -1.05640507e+00\n  1.10634410e+00 -9.89641786e-01 -1.14726436e+00 -1.68991852e+00\n  8.62185538e-01  3.84639770e-01  4.43075627e-01  1.60601592e+00\n -2.65576810e-01 -1.24367505e-01  1.99497855e+00 -1.96264029e-01\n -3.10830802e-01 -2.58765173e+00 -6.46544218e-01  1.83551705e+00\n  1.60610116e+00  1.90467328e-01 -9.80261743e-01  1.45074403e+00\n  1.29740703e+00 -1.88736498e+00  4.62762505e-01  7.94841647e-01\n  3.98279279e-01  5.35263777e-01  3.30372334e-01  3.49523779e-03\n  6.18051469e-01 -6.27467275e-01  1.65056598e+00 -1.07353020e+00\n -2.06750011e+00  1.74940717e+00  8.37071478e-01  1.57071948e+00\n  1.13505709e+00 -1.83775735e+00  2.63360173e-01 -3.85956347e-01\n -4.02646095e-01  2.34468770e+00 -4.15593475e-01 -5.09032369e-01\n  1.93555260e+00  2.49014997e+00  1.56836057e+00  5.54183722e-01\n -6.08312011e-01  1.60207283e+00 -2.07549602e-01  1.80028093e+00\n  1.52489626e+00  7.63897598e-01  2.33697563e-01  8.70339334e-01\n -1.16530538e+00 -7.99018919e-01  1.03938007e+00  1.47028732e+00\n -3.17087770e-02 -1.95307338e+00  1.47203124e+00  1.01099801e+00\n -1.38511312e+00  2.73554564e+00  1.64988923e+00  1.44728526e-01\n  1.07318413e+00 -7.23422527e-01 -2.93629050e-01 -1.16417639e-01\n  9.20201659e-01  6.04585946e-01  4.34262365e-01  9.13675129e-01\n -7.17239738e-01 -2.09444308e+00  6.19684309e-02  9.26302016e-01\n -6.00426912e-01  1.31361115e+00  1.04389262e+00  6.85101926e-01\n  4.45510209e-01 -7.81829834e-01  5.35600543e-01  5.31172037e-01\n -2.85888314e-01  2.16952085e+00 -1.58221972e+00 -5.18019497e-01\n  1.64839491e-01  4.58945334e-01 -1.54398933e-01 -1.20561254e+00\n  6.59141302e-01  1.29808736e+00 -7.19960093e-01  1.18786573e+00\n  1.11910927e+00  1.42124569e+00  1.32324803e+00  4.61316168e-01\n -7.77478516e-01 -1.23896861e+00 -3.18471968e-01  1.82291925e-01\n  6.53026760e-01  4.12335068e-01  2.15039015e-01  1.03308884e-02\n  9.24164951e-01 -7.14639783e-01 -2.37557554e+00 -1.68138528e+00\n -5.43184698e-01  1.74479473e+00  3.68846297e+00 -2.06383467e+00\n  2.48939943e+00  8.75414610e-02  2.45084810e+00 -1.26607269e-01\n -1.22804964e+00  3.60046196e+00  5.40418923e-01 -2.69989419e+00\n -4.64356989e-01 -6.00958288e-01 -8.15626442e-01  1.83030879e+00\n -2.75576055e-01 -1.82886684e+00  8.14216614e-01 -5.86686432e-01\n  2.53223777e-01 -3.07990026e+00  7.78912961e-01 -1.82332194e+00\n  8.10063541e-01  8.33686471e-01  8.29572499e-01 -1.96492529e+00\n -1.60611308e+00 -1.48248982e+00 -1.31965292e+00  2.60574549e-01\n -8.08571517e-01 -4.70944405e-01 -1.07987022e+00  2.85270452e+00\n -1.31704435e-01 -3.41979951e-01 -1.59275019e+00 -2.68020153e-01\n -1.47660780e+00 -2.08693099e+00 -8.69021654e-01 -1.31677318e+00\n  2.03667474e+00 -6.98990703e-01  1.09618485e+00  3.48260736e+00\n -6.36719838e-02  8.53169024e-01  1.08024645e+00 -1.27464163e+00\n  1.65880442e+00  8.96507800e-01  8.66209805e-01 -1.62319708e+00\n -2.55809855e+00 -4.15791243e-01  1.43103397e+00 -1.20152903e+00\n  5.58590353e-01  1.22116673e+00  6.85720384e-01 -1.16155243e+00\n -9.94180858e-01 -1.97429821e-01 -1.06553257e+00  3.92365873e-01\n  1.41796660e+00 -4.15480822e-01  4.60192323e-01 -6.68650568e-01]",
         "[-3.15318584e+00  1.46533852e+01 -1.83624630e+01 -1.33488023e+00\n -1.11747684e+01  2.08157372e+00 -7.40569830e+00 -5.62552738e+00\n -1.84854472e+00 -4.76227760e+00 -2.24694214e+01 -4.15258646e-01\n -7.70630264e+00  2.64576316e-01 -6.26888371e+00 -1.56784999e+00\n -1.13734055e+01  5.24377537e+00 -1.92392612e+00  1.11521254e+01\n -7.03839207e+00  5.93622684e-01 -4.13670588e+00 -3.87539053e+00\n -5.96383762e+00 -6.06848192e+00 -3.60282779e+00 -1.56301403e+00\n  5.24694026e-01  8.36919308e+00  6.69159937e+00 -4.81900167e+00\n  6.19929981e+00 -2.93998480e+00 -1.27495461e+01  2.48406768e+00\n -3.78988171e+00 -1.69379008e+00  5.02660799e+00  9.90706062e+00\n -8.52134514e+00  2.98964000e+00  6.02855682e-01 -1.63966236e+01\n -1.28692102e+01 -3.49516487e+00  2.66255546e+00 -2.62060690e+00\n -1.67016373e+01  1.77246799e+01  1.76707058e+01 -6.06417513e+00\n  5.30627668e-02  2.18315220e+00  5.09910965e+00 -3.23834801e+00\n  2.24110103e+00 -7.21888065e+00 -5.49048948e+00  1.85140938e-01\n -1.57295628e+01 -8.65657902e+00 -2.10690022e+01 -2.13801861e+00\n -9.95514965e+00  6.85119343e+00 -1.95665493e+01  2.30441761e+00\n -4.10913557e-01 -1.70006835e+00 -1.55426893e+01 -1.91026568e+00\n -1.10447388e+01 -5.46857929e+00  9.57531452e+00  8.00064445e-01\n  7.96556425e+00 -6.13371420e+00  8.56562257e-02 -7.49116039e+00\n -1.44803610e+01  9.67112541e+00  6.21166801e+00 -1.12534599e+01\n -1.71630383e-02  6.21117973e+00  9.82773590e+00  6.95654154e-01\n  6.63699985e-01  9.00322139e-01  2.32678556e+00 -3.95895195e+00\n  3.77703691e+00 -7.51314259e+00  7.39172459e+00 -1.31498277e-03\n  8.75456810e+00  4.77965498e+00 -1.18623247e+01  8.00782967e+00\n  1.43535824e+01 -7.23219013e+00 -4.04554462e+00  5.10279369e+00\n  9.54897022e+00 -2.93022776e+00 -6.72239351e+00 -1.46822968e+01\n  5.63306999e+00 -2.16451130e+01  5.55620098e+00 -1.36528034e+01\n  8.20629406e+00 -3.84094000e+00  1.05559301e+01 -3.88266373e+00\n -5.75771427e+00 -8.00427628e+00 -1.49060369e+00  1.14380264e+01\n -1.11166401e+01  3.57174420e+00  1.43396835e+01 -1.17352524e+01\n -8.74400616e+00 -5.91334438e+00  5.53173113e+00  8.01696682e+00\n  3.32094646e+00  4.54398680e+00 -2.37186089e+01  7.21692753e+00\n -1.17239103e+01 -9.29172325e+00 -9.25029278e+00 -3.24652863e+00\n -7.07541180e+00  4.46461582e+00 -1.03221674e+01  7.43905544e+00\n  3.23256588e+00 -1.69535770e+01  2.24389439e+01 -1.12131233e+01\n -1.63797998e+00 -1.09088860e+01  3.55632925e+00  9.51403904e+00\n -5.78373003e+00  1.80542314e+00  4.52025700e+00  5.87461805e+00\n  6.26969957e+00 -2.68778324e+00 -9.10400009e+00 -2.49356174e+00\n -3.03501153e+00  9.55914497e-01 -1.42375526e+01 -3.09384561e+00\n -1.69662647e+01 -1.60794163e+01 -1.03288441e+01 -4.37347651e+00\n -4.05774355e+00 -1.59436774e+00  1.22301226e+01  6.37095547e+00\n  3.00737143e+00 -1.19148655e+01 -5.65258598e+00 -5.10969400e+00\n -1.72733712e+00  1.24514217e+01  1.24007311e+01 -1.03633204e+01\n -4.42477274e+00  4.41513920e+00  7.63262081e+00 -2.30157614e+00\n -2.25865722e+00 -6.30272436e+00 -3.24551821e+00 -1.47366142e+01\n -1.91866398e+01 -4.18893814e+00  2.01978981e-01 -7.61742830e-01\n -4.18493319e+00 -3.45134068e+00  1.22237244e+01 -1.22163939e+00\n  1.79358921e+01  7.61810732e+00  1.95564785e+01 -1.48398762e+01\n -1.91287026e-01 -8.81455898e+00  8.16031933e+00 -1.70145750e+00\n -1.27702312e+01 -7.53458071e+00 -1.15717781e+00 -4.81844234e+00\n  7.09145594e+00  1.01997871e+01 -1.11102653e+00 -1.26641960e+01\n  9.27231216e+00  7.20910358e+00 -6.47521973e+00 -7.64011335e+00\n  7.21144438e+00  1.49046869e+01 -7.83650160e+00 -7.35071659e+00\n  3.87794304e+00  1.00720139e+01  4.15714121e+00 -7.16615295e+00\n -5.45625734e+00 -9.87204075e-01 -1.67969379e+01  7.51986599e+00\n -5.50366545e+00 -6.88389254e+00 -9.43685532e-01 -1.14358196e+01\n -6.13801765e+00 -6.14067554e-01 -5.22045612e+00 -8.34880114e-01\n -1.23172245e+01 -6.33647203e+00 -2.88980818e+00 -1.19468355e+01\n -2.04142189e+00  2.53928638e+00 -3.54972243e+00 -1.86097450e+01\n  3.11358704e+02 -1.09269629e+01  7.07778025e+00 -1.71951091e+00\n -2.72195315e+00  9.34458447e+00 -1.48385944e+01 -2.87446308e+00\n -2.74939680e+00 -1.10377102e+01 -1.88219566e+01  1.29553175e+00\n  4.67009783e+00  1.23499184e+01  5.00611496e+00  4.04717731e+00\n -3.73526096e+00  9.50958729e+00 -8.63996983e+00  6.57464457e+00\n  2.46795702e+00  3.76120090e+00  2.55109000e+00 -8.41630459e+00\n -1.96493065e+00  6.05500031e+00 -6.28835011e+00  2.05741930e+00\n  5.37846899e+00 -6.38241768e+00 -2.01069784e+00 -4.70996189e+00\n -3.15846038e+00 -6.93561172e+00 -2.42412353e+00 -4.94526100e+00\n -4.35363340e+00 -1.04157200e+01  3.18356013e+00 -2.15870237e+00\n -1.41505833e+01 -4.40877724e+01  5.04740429e+00 -3.78250694e+00\n  5.42090082e+00 -5.14705777e-02 -4.71432495e+00  4.74926281e+00\n -9.27368641e-01  7.69139004e+00  8.44055176e+00 -7.66433334e+00\n -3.02948380e+00  9.49229336e+00 -1.13335075e+01 -8.24454594e+00\n  8.81915212e-01 -2.00518346e+00  1.32201767e+01  5.63293552e+00\n -2.24317956e+00  2.11340370e+01 -2.61159229e+00 -6.24498463e+00\n -4.19239759e+00 -4.93924189e+00  5.28110075e+00 -1.12136726e+01\n -4.47286415e+00 -4.79344487e-01 -2.15881371e+00 -1.23471098e+01\n  6.37975454e+00 -7.92594910e-01 -2.79023857e+01 -4.31332684e+00\n -9.18053508e-01  1.45983303e+00 -4.46195126e+00 -1.91056395e+00\n  1.34713221e+01 -6.02360773e+00 -1.38044519e+01  3.81819010e+00\n -8.61205673e+00 -3.43557787e+00  8.82987785e+00  1.38979845e+01\n  9.69457912e+00 -4.45562077e+00  2.58847094e+00 -3.21133256e+00\n -6.62874794e+00 -9.11908150e+00  7.33829927e+00  7.96629953e+00\n -5.76846123e+00  5.06719255e+00  3.57716966e+00 -2.86047006e+00\n  1.59099073e+01 -9.74724960e+00 -6.23416758e+00  2.65725553e-01\n  1.10422201e+01 -6.93344736e+00 -2.40937495e+00  1.00103874e+01\n -6.36573982e+00  1.83486581e+00 -2.16856527e+00  6.19506091e-02\n  1.25599012e+01  1.52222214e+01 -1.26432648e+01  6.88113880e+00\n -6.62222481e+00 -7.69231558e+00 -5.61868238e+00  9.17653084e+00\n -7.94129515e+00  9.10145342e-02 -4.36501026e+00  1.10585241e+01\n  5.58347845e+00 -6.38702679e+00 -7.01688051e+00  1.34492207e+01\n  1.25748897e+00 -5.64307213e+00 -7.64303923e+00 -2.42296648e+00\n -1.42753325e+01 -2.01418638e+00  9.83715725e+00 -1.27286959e+01\n  3.96973848e+00  3.51170921e+00  9.55634689e+00  2.74499536e-01\n -7.78080177e+00  2.71393728e+00  1.18457994e+01 -5.20247221e-02\n -2.21421170e+00  9.18636227e+00  2.98481894e+00  8.22213554e+00\n  9.28313494e-01 -1.79032493e+00  1.66811156e+00  3.57753348e+00\n  7.10249949e+00  1.20965719e+01  1.47208652e+01 -2.27016139e+00\n  1.45618010e+01 -9.52669621e+00 -1.44882858e-01 -1.97198639e+01\n -8.12217903e+00 -5.67861414e+00 -3.71470523e+00 -9.47847080e+00\n  4.66205978e+00  3.53492141e+00  3.42328477e+00 -3.85191274e+00\n  1.49501348e+00  2.31616402e+00  8.04735184e+00 -7.35008430e+00\n -2.07286760e-01  4.35814095e+00 -1.69001412e+00 -6.28833103e+00\n  5.13551903e+00  1.15585756e+01 -2.45683908e+00 -5.69160509e+00\n -3.27220321e+00 -6.05476761e+00  7.99169636e+00 -3.66929722e+00\n -3.49914384e+00 -6.59969997e+00 -5.57038832e+00  2.33362222e+00\n  7.40667786e+02 -4.10540628e+00 -4.04112768e+00  5.47003126e+00\n  2.30454230e+00  3.97062111e+00  7.74920750e+00 -4.71192300e-02\n -7.09764779e-01  3.29386711e+00 -1.19455070e+01  3.01742458e+00\n -8.46195221e+00  1.99200764e+01 -2.07716489e+00 -3.75749558e-01\n  2.01177239e-01  1.80842996e+00 -5.47205257e+00 -4.65672016e+00\n -1.43694000e+01  8.43955219e-01 -1.09886909e+00 -1.80257702e+01\n -1.00753174e+01  1.05647602e+01 -9.22331870e-01 -5.67051363e+00\n -1.72702904e+01 -1.80628717e+00 -5.96366692e+00  1.54574335e+00\n -1.45759621e+01 -8.90662789e-01 -1.19599028e+01  3.34446812e+00\n  4.94322062e+00  6.94526815e+00 -1.01741238e+01 -2.50814676e+00\n -1.73599567e+01 -2.53529429e+00 -3.96570969e+01  7.40606928e+00\n -3.17949510e+00 -9.72225189e+00  1.00963707e+01 -2.76546478e+01\n -9.55005360e+00  1.13705516e+00 -1.19080210e+00  5.74904084e-01\n  4.12163544e+00  6.86390018e+00 -1.39183903e+01  4.62440348e+00\n  2.27757978e+00  1.15015726e+01 -6.02589083e+00 -3.65499067e+00\n  7.26708746e+00 -2.46309185e+00 -8.36568260e+00  1.13956451e+01\n -2.17501526e+01  1.52800522e+01 -1.24088943e+00 -1.12462807e+01\n  4.29086399e+00 -1.95527363e+00  4.29335594e+00 -8.29933357e+00\n  8.02219582e+00  6.62343550e+00  1.12963474e+00 -1.56170964e+00\n -9.03489304e+00 -1.20799122e+01 -7.84270811e+00 -1.01668797e+01\n  1.53756990e+01 -2.81558657e+00 -1.25686026e+01  1.32382408e-01\n  5.84684134e-01  1.88974226e+00  2.30795979e+00 -7.74454927e+00\n -1.11963243e+01 -1.01619701e+01  3.18068290e+00 -1.07859669e+01\n -1.87488186e+00  4.99343443e+00  5.01279593e+00 -6.43165648e-01\n  2.61953902e+00 -1.41612129e+01  1.51106482e+01 -9.27426875e-01\n -6.10518265e+00 -5.81281900e+00  1.15547359e+00 -5.47572017e-01\n -1.19907808e+00  1.26032219e+01 -9.94824886e+00 -9.00448322e+00\n -1.35942948e+00 -1.17800989e+01  1.34185810e+01 -1.29203739e+01\n -6.04544926e+00 -1.28904133e+01  1.52973104e+00 -3.10448956e+00\n  6.35266924e+00 -1.94239259e+00  5.89260006e+00  8.83115005e+00\n -4.52147818e+00  5.94302797e+00 -4.02816713e-01 -6.90384769e+00\n -7.32436562e+00 -1.36423349e+01 -8.22641754e+00  1.72421765e+00\n -1.07271957e+01  9.49206829e+00  3.79116511e+00  1.67002563e+01\n  6.43011212e-01  2.17946053e+00 -6.99374199e-01  2.34083557e+01\n  2.90915465e+00 -2.51114202e+00 -5.18312788e+00 -4.31994820e+00\n -1.37479138e+00 -1.15419283e+01  6.32479906e+00 -6.44472218e+00\n -6.94265079e+00  3.73660302e+00 -4.83159208e+00 -3.07708430e+00\n  3.38165593e+00 -1.34298258e+01 -1.54523087e+00 -1.19365568e+01\n  1.62906227e+01 -4.69872761e+00 -5.11134386e-01 -6.22626591e+00\n -7.42052376e-01  1.82615876e+00  2.88716221e+00  8.22155762e+00\n  1.36710281e+01 -9.56023979e+00 -1.18717089e+01 -3.09791112e+00\n  9.19079113e+00 -7.64307213e+00  3.02963471e+00  9.19346333e+00\n -8.26188850e+00  1.35007048e+01  1.35928893e+00 -2.50281858e+00\n  2.95632219e+00  4.20844650e+00 -2.83675551e+00 -1.55842571e+01\n -6.38633156e+00  1.55296177e-01 -3.50471067e+00 -1.56924591e+01\n -1.19713187e+00 -7.07702684e+00  1.23724642e+01 -1.53964329e+00\n -2.60836935e+00  8.89988518e+00 -1.18581076e+01 -2.95249534e+00\n -5.98227119e+00  3.51416612e+00 -1.13923931e+01  5.01783800e+00\n  3.56863070e+00 -3.48216987e+00 -4.88520575e+00  4.71106386e+00\n -1.76827774e+01  1.79981441e+01 -1.21139364e+01  3.12730670e+00\n  1.06693497e+01  1.09431925e+01  1.00465078e+01 -1.54818411e+01\n -7.49450636e+00  5.34953022e+00  4.00421572e+00 -1.27516756e+01\n  1.57332945e+00 -5.67934895e+00  2.44191265e+00 -4.29450417e+00\n  3.54566050e+00 -7.77513552e+00  9.12256241e+00 -5.79514027e+00\n -1.42850780e+01 -6.91256809e+00 -1.89035702e+01 -5.85625935e+00\n -1.44771147e+01  5.27465487e+00 -6.53092384e+00 -2.07098351e+01\n  8.50725770e-01 -1.14633656e+01 -2.05876198e+01  1.22066951e+00\n -7.92650580e-01 -1.58034849e+00 -2.17899437e+01  1.58535397e+00\n  1.23709412e+01 -8.33460903e+00  4.67971039e+00 -1.16223574e+01\n  6.19336033e+00 -1.17584758e-01  4.61072874e+00 -8.53603840e+00\n -8.01613140e+00 -2.41118145e+00 -8.97483063e+00 -1.62673533e+00\n  7.59270132e-01  4.99161530e+00 -7.69009495e+00 -2.93470323e-01\n -5.44042301e+00  7.47238111e+00 -3.48854542e-01  2.11918473e-01\n -5.41117573e+00 -4.59476948e+00 -1.47330344e-01 -1.07910566e+01\n -3.69955873e+00  1.85995173e+00  4.26191902e+00  1.13822784e+01\n -1.58851612e+00 -4.93764877e+00  7.87963104e+00  9.01473808e+00\n  1.04178886e+01 -1.06829476e+00 -3.34922147e+00  5.82091808e+00\n -6.97760868e+00  1.20552216e+01 -1.20507193e+01  6.58169413e+00\n -1.66112556e+01  4.32769585e+00 -1.10184488e+01 -1.75607929e+01\n  8.58727074e+00 -1.39952164e+01  1.99332035e+00 -1.74779510e+01\n -7.02036858e-01  2.97562051e+00 -2.88442349e+00 -2.42470407e+00\n -4.19839621e+00 -4.77909231e+00 -1.30356779e+01  1.34917498e+01\n  1.17956734e+01  4.60122252e+00 -1.95682278e+01 -9.53062057e+00\n -6.72277308e+00 -1.69996147e+01  4.60988693e+01  1.59470272e+01\n  4.56829119e+00 -7.13619184e+00 -2.08448982e+00 -6.59187555e-01\n  3.51533651e+00 -6.43516183e-01 -1.24369001e+01  3.19989944e+00\n -2.00032997e+01 -5.55680180e+00  9.71783924e+00 -8.21413422e+00\n -1.02652204e+00  5.94714212e+00  5.08305550e+00 -1.93730569e+00\n  8.19353104e+00 -5.55855274e+00 -2.89908981e+00  5.94165659e+00\n -9.94308853e+00  2.93076396e+00  4.74178076e-01 -3.94444609e+00\n -5.94122982e+00  2.27080035e+00  4.19425392e+00  5.36564970e+00\n -4.26619768e+00 -7.15596581e+00 -6.32443428e+00  2.09339161e+01\n  8.25058746e+00 -1.17854662e+01 -7.50572443e+00  4.53132391e+00\n -1.37217226e+01 -1.24899969e+01 -7.21560383e+00  3.13188171e+00\n  2.30663681e+00 -6.46870899e+00 -1.65702991e+01  1.43049774e+01]",
         "[-3.61045051e+00  1.61566086e+01 -1.88054047e+01 -1.49667144e+00\n -1.25542126e+01  1.96429610e+00 -8.67659855e+00 -5.46983671e+00\n -3.53513384e+00 -5.20022345e+00 -2.20384521e+01 -1.13258529e+00\n -6.24113369e+00 -3.97266746e-02 -5.32168865e+00 -2.51193810e+00\n -1.05490971e+01  5.65342188e+00 -2.08509851e+00  1.14745836e+01\n -6.27580976e+00 -1.99242011e-01 -4.76630592e+00 -2.44578934e+00\n -4.04852200e+00 -4.58373833e+00 -4.95726204e+00 -1.15666175e+00\n  2.22033787e+00  7.21658421e+00  5.75804472e+00 -4.58530378e+00\n  6.90999317e+00 -3.01813698e+00 -1.19560194e+01  2.42317390e+00\n -2.50193810e+00 -2.13620925e+00  6.51959324e+00  1.04317780e+01\n -6.54759693e+00  1.74702823e+00 -1.02772988e-01 -1.53432741e+01\n -1.11506786e+01 -5.55848598e+00  1.06736600e+00 -2.29469204e+00\n -1.50307884e+01  1.61223927e+01  1.72500553e+01 -6.99287987e+00\n  7.21887797e-02  4.04261684e+00  4.36972952e+00 -3.63406873e+00\n  2.52928257e+00 -6.18536520e+00 -4.72924137e+00 -1.23337471e+00\n -1.70654545e+01 -9.06477833e+00 -2.21769886e+01 -1.42168629e+00\n -9.77718067e+00  6.86234379e+00 -2.04325581e+01  1.92149830e+00\n -2.40187943e-01 -2.90222621e+00 -1.49651394e+01  5.96226633e-01\n -1.18344784e+01 -4.38719320e+00  1.07363482e+01  1.33445191e+00\n  6.94977570e+00 -6.38969469e+00  4.88451779e-01 -9.21030331e+00\n -1.51002026e+01  9.16150188e+00  7.25562763e+00 -9.62266350e+00\n -1.82069302e+00  6.02201605e+00  9.61311340e+00  8.93319666e-01\n  1.48301840e-01  5.63695908e-01  2.56952143e+00 -2.22891974e+00\n  4.16500330e+00 -8.94439125e+00  7.95003653e+00  1.08688605e+00\n  8.48537445e+00  1.77097714e+00 -1.07555256e+01  8.34480762e+00\n  1.44296608e+01 -8.23818588e+00 -3.99893069e+00  4.42293215e+00\n  9.36454678e+00 -2.90912080e+00 -6.48247623e+00 -1.31517134e+01\n  4.70775270e+00 -2.09178371e+01  5.66264915e+00 -1.32119999e+01\n  7.77612448e+00 -2.57624245e+00  9.94544411e+00 -4.28182888e+00\n -5.84695339e+00 -7.48675394e+00 -1.34796548e+00  1.18276691e+01\n -1.10925999e+01  3.67969894e+00  1.54055948e+01 -1.08668556e+01\n -8.55542374e+00 -5.51257467e+00  6.34577465e+00  7.41497183e+00\n  3.20006800e+00  5.23919201e+00 -2.17725525e+01  5.15179491e+00\n -1.02544804e+01 -8.57952499e+00 -8.98493671e+00 -4.99392986e+00\n -6.01946926e+00  5.40754414e+00 -9.47282124e+00  6.28021240e+00\n  1.89191926e+00 -1.71246452e+01  2.21401558e+01 -1.02492523e+01\n -1.70284736e+00 -9.45567417e+00  3.42365217e+00  9.75767803e+00\n -6.70488596e+00  3.31089854e+00  2.36022687e+00  5.56990910e+00\n  7.04619265e+00 -3.57704258e+00 -9.52343655e+00 -2.08873534e+00\n -3.08772421e+00  6.30547106e-02 -1.33625641e+01 -2.13286734e+00\n -1.74099846e+01 -1.61376877e+01 -1.17028742e+01 -4.33831120e+00\n -3.48366737e+00 -1.36072075e+00  1.15898619e+01  4.72549534e+00\n  1.24610043e+00 -1.01167383e+01 -8.88956070e+00 -4.46253014e+00\n -1.33609271e+00  1.25030460e+01  1.12728395e+01 -1.03880262e+01\n -5.17632437e+00  5.17090893e+00  6.51821995e+00 -2.38142705e+00\n -1.42720246e+00 -5.90668631e+00 -4.06776428e+00 -1.43316364e+01\n -1.83569469e+01 -4.36373281e+00 -1.10584557e-01 -3.84292603e-02\n -3.72776318e+00 -3.44281507e+00  1.24674540e+01 -1.65744758e+00\n  1.73038406e+01  6.74211121e+00  1.96061001e+01 -1.55877953e+01\n -2.11111283e+00 -1.04986706e+01  8.57612705e+00 -1.50379372e+00\n -1.13819132e+01 -7.73999977e+00 -1.67368543e+00 -2.96442437e+00\n  6.32264280e+00  1.12078714e+01 -1.49700022e+00 -1.02191792e+01\n  6.77635431e+00  7.52496576e+00 -6.34625006e+00 -6.96600342e+00\n  7.06761456e+00  1.42538528e+01 -7.41165972e+00 -8.32347488e+00\n  2.44385028e+00  1.00501871e+01  5.71260118e+00 -7.47551632e+00\n -4.71768475e+00 -1.47840226e+00 -1.55368528e+01  7.54033709e+00\n -5.65528727e+00 -6.88126135e+00 -1.37034559e+00 -1.02007761e+01\n -7.20994997e+00 -2.23805785e+00 -3.87882662e+00 -1.07254553e+00\n -1.31013365e+01 -5.78825760e+00 -4.25424194e+00 -1.13100281e+01\n -2.21883774e+00  3.54561114e+00 -5.19288349e+00 -1.72377968e+01\n  3.13625885e+02 -1.23450556e+01  7.28724098e+00 -2.06340766e+00\n -4.07679176e+00  8.06915665e+00 -1.35575562e+01 -3.26196575e+00\n -2.35270405e+00 -1.05728121e+01 -1.92136726e+01  1.90436423e-01\n  4.31924391e+00  1.45283632e+01  4.56391668e+00  2.33320451e+00\n -3.56015110e+00  8.53984928e+00 -9.90619850e+00  6.84412766e+00\n  5.01635027e+00  2.31399608e+00  1.15563881e+00 -9.05384445e+00\n -1.58395112e+00  4.77726412e+00 -4.94449091e+00  1.93597305e+00\n  6.13804102e+00 -5.25184059e+00 -1.70263708e+00 -2.35747623e+00\n -3.08327270e+00 -7.03508520e+00 -7.84771919e-01 -3.82534885e+00\n -3.46639204e+00 -1.02876034e+01  1.75356221e+00 -1.71673405e+00\n -1.36770267e+01 -4.46286469e+01  4.35419464e+00 -3.49718308e+00\n  4.96539116e+00 -8.27503085e-01 -5.44071293e+00  4.93415785e+00\n -1.70139503e+00  7.01611233e+00  9.30553436e+00 -6.36074877e+00\n -4.62759781e+00  9.45434093e+00 -1.03178978e+01 -8.65265465e+00\n -1.98826566e-01 -1.78224421e+00  1.37238407e+01  4.25737476e+00\n -9.88237202e-01  1.98439064e+01 -9.38919961e-01 -4.97061825e+00\n -2.19642615e+00 -5.25949383e+00  4.61696863e+00 -1.12794838e+01\n -4.95674896e+00 -1.64712572e+00 -2.97390079e+00 -1.20321312e+01\n  5.60478830e+00  5.39156795e-02 -2.82947178e+01 -2.66745210e+00\n -1.10107064e+00  1.65561628e+00 -4.24181795e+00 -1.06538129e+00\n  1.37401123e+01 -7.50463629e+00 -1.64144611e+01  3.34630013e+00\n -7.49312592e+00 -5.34309816e+00  8.13390923e+00  1.38981771e+01\n  1.06539764e+01 -4.02972794e+00  2.17820525e+00 -3.05216384e+00\n -6.60679626e+00 -1.07403488e+01  5.79619694e+00  7.06571865e+00\n -6.14124870e+00  5.50401449e+00  3.49157095e+00 -2.25043631e+00\n  1.76782227e+01 -9.07045746e+00 -4.33536100e+00  9.50165987e-02\n  1.20929766e+01 -6.19346905e+00 -4.10190868e+00  1.01898394e+01\n -5.40616417e+00 -2.37332776e-01 -1.75039828e+00 -5.59661806e-01\n  1.04101753e+01  1.47693787e+01 -1.27615948e+01  6.57641315e+00\n -5.76522017e+00 -7.35572481e+00 -6.30496407e+00  7.62776947e+00\n -6.60728264e+00 -1.72985315e-01 -6.69661808e+00  9.21126938e+00\n  6.93321943e+00 -5.93822956e+00 -5.71802664e+00  1.32009907e+01\n  1.59555936e+00 -6.61394548e+00 -7.53974628e+00 -8.64960611e-01\n -1.42885990e+01 -2.00404310e+00  1.00422125e+01 -1.20412474e+01\n  3.77536488e+00  4.44177055e+00  9.31761169e+00  1.82028961e+00\n -8.98227596e+00  9.23398614e-01  1.10726576e+01  3.37583750e-01\n -1.90513134e+00  8.75795746e+00  2.95322895e+00  9.17437172e+00\n  9.15615261e-01 -3.76973629e+00  2.41267419e+00  4.63284111e+00\n  6.91516399e+00  1.12270164e+01  1.35471878e+01 -2.72475934e+00\n  1.21773920e+01 -9.42226696e+00 -1.34250760e-01 -1.77585430e+01\n -8.67820740e+00 -4.72597980e+00 -3.42346072e+00 -9.43635464e+00\n  3.74054027e+00  5.07676315e+00  2.57560611e+00 -3.01626372e+00\n  1.72395635e+00  6.65474951e-01  7.62615776e+00 -7.14685202e+00\n -9.24238920e-01  1.93953049e+00  1.20823145e-01 -6.28805256e+00\n  4.61628342e+00  1.11728506e+01 -1.36339235e+00 -5.01590776e+00\n -3.28614569e+00 -6.38348579e+00  8.09734726e+00 -3.60168386e+00\n -4.20367670e+00 -6.11865044e+00 -6.94020748e+00  1.78305602e+00\n  7.41645935e+02 -2.74947524e+00 -3.96326923e+00  5.30098629e+00\n  7.89380312e-01  3.79878354e+00  8.05287266e+00 -4.31393772e-01\n -1.92628849e+00  2.80551815e+00 -9.27535248e+00  2.09083128e+00\n -8.05355358e+00  1.95152054e+01 -1.34058499e+00 -4.21943516e-01\n -5.85899472e-01  2.12331367e+00 -5.15253401e+00 -3.46209908e+00\n -1.35770140e+01  7.05915213e-01 -9.83435035e-01 -1.88531609e+01\n -1.07655878e+01  9.48010921e+00 -1.30926263e+00 -5.10251331e+00\n -1.69014626e+01 -5.57343602e-01 -5.05551147e+00  8.17587376e-01\n -1.41241941e+01 -1.83568418e+00 -1.26189518e+01  3.98492312e+00\n  3.65319443e+00  5.47613478e+00 -8.23665142e+00 -3.26447892e+00\n -1.67851582e+01 -1.13555300e+00 -4.01371689e+01  6.66101170e+00\n -1.90555513e+00 -9.32985115e+00  1.01062880e+01 -2.74894943e+01\n -9.40096760e+00  2.18349743e+00  4.08742130e-01 -5.40580094e-01\n  5.76596308e+00  6.26033211e+00 -1.21715813e+01  3.86635256e+00\n  1.80320263e+00  1.01519909e+01 -7.04839993e+00 -3.08192539e+00\n  8.31178570e+00 -2.19187450e+00 -8.23357964e+00  1.10415478e+01\n -2.08731880e+01  1.64037304e+01 -2.03298140e+00 -9.96591568e+00\n  3.15386963e+00 -2.97818065e+00  4.99512148e+00 -6.94085598e+00\n  6.57694149e+00  8.73669434e+00  2.77108932e+00 -3.35237265e+00\n -7.93175507e+00 -1.00262909e+01 -6.67894745e+00 -9.31754303e+00\n  1.49132862e+01 -2.33849025e+00 -1.07707100e+01  1.37537014e+00\n  1.88444543e+00  2.44811893e+00  5.27269363e-01 -9.76452446e+00\n -1.08323994e+01 -1.05825129e+01  2.13999510e+00 -1.05150967e+01\n -3.39464068e+00  4.30577755e+00  4.65101624e+00 -7.60008872e-01\n  2.78994870e+00 -1.35142870e+01  1.26298771e+01 -2.60458493e+00\n -5.53205967e+00 -5.14351559e+00  2.81464219e+00  2.47163534e-01\n -5.61224997e-01  1.14617243e+01 -9.87038040e+00 -9.92924500e+00\n -7.51044214e-01 -1.24195089e+01  1.31722240e+01 -1.10799904e+01\n -6.01994610e+00 -1.21953011e+01  2.30610681e+00 -2.07048798e+00\n  5.87326479e+00 -9.71831918e-01  6.09410000e+00  8.06197166e+00\n -3.93279934e+00  6.78501225e+00  1.47709668e+00 -5.48392296e+00\n -7.60530138e+00 -1.20796728e+01 -8.62352562e+00  3.12492311e-01\n -9.83416843e+00  1.09905977e+01  3.84240508e+00  1.74610023e+01\n  7.42607236e-01  1.69133568e+00 -9.52171326e-01  2.20717106e+01\n  3.00641441e+00 -2.23194838e+00 -5.53585339e+00 -5.23350954e+00\n -1.49999094e+00 -1.05175209e+01  6.85513115e+00 -7.54487991e+00\n -6.66791487e+00  3.91816926e+00 -4.54576540e+00 -3.09321237e+00\n  4.68313456e+00 -1.19337273e+01 -3.23056132e-01 -1.22406092e+01\n  1.47180395e+01 -4.34288359e+00  4.79930758e-01 -7.43664360e+00\n -8.33479762e-01  1.43284631e+00  2.31616354e+00  9.47675705e+00\n  1.36300526e+01 -7.93241835e+00 -1.24892092e+01 -2.66841865e+00\n  8.69801044e+00 -7.20747232e+00  2.18394494e+00  9.00040054e+00\n -7.89611149e+00  1.39110498e+01  2.68217754e+00 -2.79784393e+00\n  3.58928967e+00  3.37215304e+00 -1.62845325e+00 -1.49287090e+01\n -7.65742445e+00  1.50906348e+00 -2.16818142e+00 -1.54706802e+01\n -5.66136777e-01 -4.79271507e+00  1.17226238e+01 -1.28893757e+00\n -4.62049675e+00  9.58967876e+00 -1.12794218e+01 -2.55850720e+00\n -5.48224211e+00  4.00771332e+00 -1.13262768e+01  5.94058371e+00\n  3.32964826e+00 -2.65511847e+00 -6.41054726e+00  4.17395878e+00\n -1.61982059e+01  1.76968346e+01 -1.34351406e+01  2.41540694e+00\n  1.31281300e+01  1.04785595e+01  9.81407261e+00 -1.41230478e+01\n -6.35463762e+00  5.98633194e+00  4.91947937e+00 -1.41964760e+01\n  2.53790522e+00 -4.84336185e+00  2.63523579e+00 -4.73899984e+00\n  4.69254780e+00 -7.62152386e+00  1.07627983e+01 -4.81826115e+00\n -1.34439764e+01 -7.84208488e+00 -1.88357277e+01 -5.92799377e+00\n -1.35703154e+01  6.42192364e+00 -7.83255529e+00 -2.16931992e+01\n  1.71940744e+00 -1.12597017e+01 -1.98091335e+01  1.14329338e+00\n -1.13397956e+00 -1.82501245e+00 -2.23401089e+01  2.28250480e+00\n  1.15347986e+01 -9.62414551e+00  3.53639317e+00 -1.03272867e+01\n  6.94138861e+00  1.20091176e+00  4.22267294e+00 -8.60976410e+00\n -9.56049156e+00 -3.89285016e+00 -8.18168736e+00 -1.84641087e+00\n -4.57303345e-01  3.66275215e+00 -8.71758366e+00  1.13155089e-01\n -5.09557104e+00  6.57039499e+00 -8.98659229e-02 -6.13950670e-01\n -5.37528992e+00 -5.51405668e+00 -1.40909481e+00 -9.23073101e+00\n -2.59853125e+00  9.06065583e-01  3.68395591e+00  1.09176931e+01\n -1.90740037e+00 -6.21217346e+00  8.74328327e+00  9.58139038e+00\n  1.00984440e+01 -3.94111490e+00 -4.45461941e+00  5.91437244e+00\n -6.57516718e+00  1.07623482e+01 -1.22695732e+01  4.55342484e+00\n -1.66730480e+01  3.31891990e+00 -1.07234631e+01 -1.86430302e+01\n  7.84388685e+00 -1.44004717e+01  2.16076875e+00 -1.63835258e+01\n -1.49231470e+00  2.04169846e+00 -4.10838079e+00 -3.76286077e+00\n -2.57193017e+00 -5.72253323e+00 -1.34788456e+01  1.32417345e+01\n  1.09110594e+01  4.67033720e+00 -1.71357174e+01 -9.21516800e+00\n -6.76344299e+00 -1.66132374e+01  4.81935043e+01  1.59866180e+01\n  4.30825138e+00 -7.32235146e+00 -2.09559679e+00  6.42896891e-02\n  2.40929532e+00 -1.29658747e+00 -1.12143087e+01  3.13963103e+00\n -2.09924011e+01 -6.85775232e+00  9.32976055e+00 -6.85944748e+00\n -1.36260343e+00  6.30537128e+00  5.27745104e+00 -3.31556821e+00\n  9.17238712e+00 -5.84775972e+00 -3.22724271e+00  6.06250286e+00\n -1.00406532e+01  1.54380357e+00  1.84056401e+00 -2.47060061e+00\n -5.01575708e+00  3.79956722e+00  1.36890697e+00  5.99567938e+00\n -3.44216299e+00 -4.70709753e+00 -6.63537121e+00  2.10596104e+01\n  7.77769852e+00 -1.26702919e+01 -6.77269077e+00  6.87294292e+00\n -1.16779728e+01 -1.30829382e+01 -6.83971405e+00  4.34051561e+00\n  1.65929902e+00 -6.25964212e+00 -1.62388382e+01  1.32118158e+01]",
         "0.35464546",
         "0.33107972",
         "0.5060678",
         "0.24666938",
         "427.9831",
         "46416.523",
         "0.5060678",
         "27.43359",
         "0.00691193",
         "0.023074258",
         "0.017976047",
         "0.022814661",
         "0.006827844",
         "0.00718991",
         "0.025263919",
         "0.017082429",
         "0.02411597",
         "56.91336",
         "-13.843627",
         "-1.2511145",
         "-1.5024439",
         "56.756912",
         "6.1134067",
         "-13.810039",
         "-0.73922735",
         "-1.3799021",
         "0.4398468",
         "0.9480878",
         "0.02725807",
         "0.1829387",
         "200.95834",
         "21898.184",
         "0.061673135",
         "21.675781",
         "55.58115",
         "-13.98304",
         "-1.2579257",
         "-1.5175104",
         "55.321957",
         "5.1010256",
         "-13.989024",
         "-0.74773496",
         "-1.3973318",
         "0.748422",
         "0.3231688",
         "0.36177582",
         "0.47762364",
         "0.19913112",
         "1.4140931",
         "350.497",
         "37954.82",
         "0.484021",
         "28.73354",
         "57.95237",
         "-13.971632",
         "-1.2707944",
         "-1.5234619",
         "56.40551",
         "4.7051225",
         "-13.958107",
         "-0.75189227",
         "-1.3974855",
         "400.10504",
         "43494.36",
         "0.386183",
         "27.773815",
         "70.06436",
         "-13.135157",
         "-1.2039223",
         "-1.4655674",
         "67.67973",
         "11.856756",
         "-13.178472",
         "-0.70134515",
         "-1.351545",
         "427.9831",
         "46416.523",
         "0.5060678",
         "27.43359",
         "56.91336",
         "-13.843626",
         "-1.2511145",
         "-1.5024439",
         "56.75691",
         "6.1134067",
         "-13.810039",
         "-0.73922735",
         "-1.3799021",
         "0.0",
         "0.0",
         "0.0",
         "0.0",
         "3.8146973e-06",
         "9.536743e-07",
         "0.0",
         "0.0",
         "0.0",
         "0.0",
         "0.0",
         "0.0",
         "0.0",
         "0.0",
         "0.0",
         "0.0",
         "0.0",
         "0.0",
         "0.0",
         "0.0",
         "0.0",
         "0.0",
         "0.0",
         "0.0",
         "0.0",
         "0.0",
         "0.0",
         "0.0",
         "0.0",
         "0.0",
         "0.0",
         "9.536743e-07",
         "0.0",
         "0.0",
         "3.8146973e-06",
         "0.0",
         "0.0",
         "0.0",
         "0.0",
         "38.50299072265625",
         "332.64764",
         "11.10504150390625",
         "256.23563",
         "38.98309326171875",
         "141.73663",
         "B9ZZP0",
         "113|317|358",
         "0.99923885|0.9991223|0.9992663",
         "[[-0.81719744 -0.30833423 -1.0017525  -0.9892646  -0.6261517  -0.05100203\n  -0.11623849 -0.05407602 -0.2042748  -0.0669172   0.59479827  0.32273382\n  -0.0445687   0.12128176 -0.03466382 -0.69825476  0.09572192  0.09612423\n   0.08396935  0.05456175  0.1435606   0.65319043 -0.97172344  0.9634738\n   0.14206189  0.04816166  0.35812947  0.27801982  0.31064814 -0.0080684\n   0.01528824 -0.1661782  -0.24692364 -0.9782935   0.7226797   0.27073732\n  -0.5328119  -0.00741829  0.1352387  -0.24378674  0.12841612  0.03398621\n  -0.80014944  0.4959049   0.05612917  0.0274064   0.20521154  0.35194382\n   0.07155392  0.7892066  -0.09929967  0.16366397 -0.16303895  0.34261483\n   0.86240023  0.71919435  0.45188755  0.04032751 -0.00405041  0.01172813\n   0.08351736 -0.02375593  0.6247062   0.7592643   0.25723064  0.08815733\n  -0.07148355  0.8456326  -0.13711703 -0.1671624  -0.1894394  -0.11361691\n   0.446987    0.480015   -0.78345805  0.08013473 -0.08723711 -0.817684\n   0.2706202   1.2035016  -0.08802819  0.25969642  0.48215282 -0.79086\n   0.06833426  0.9156262  -0.1765763  -0.47773564 -0.40353724  0.04606011\n   0.2409123  -0.16767251  0.02456209  0.01209517  0.4172552   0.04590483\n   0.05184185 -0.8832732  -0.02996987  0.28367594  0.08050357 -0.27730277\n  -0.22470541 -0.88946754 -0.03429561 -0.17916663  1.3578997  -0.13381028\n   0.307693    0.26332772 -0.9752336  -0.1624342  -0.5852801   0.25025007\n   0.11135273  0.6063435   0.05126917  1.0202259   0.41725484  0.48954448\n   0.8927839   0.06057423 -0.09831931  0.8945923   0.28791577  0.60294014\n  -0.5074071   0.8975168 ]\n [-0.79815114 -0.3049173  -0.98223513 -0.9740954  -0.6093952  -0.05047572\n  -0.11066031 -0.04834824 -0.20620619 -0.06025309  0.58201957  0.31797552\n  -0.04331508  0.11540319 -0.04300344 -0.6821638   0.08858822  0.096122\n   0.08168387  0.05139276  0.13458486  0.63819575 -0.94914305  0.9462451\n   0.13888419  0.04969701  0.3490447   0.27388772  0.3077289  -0.01093676\n   0.01456732 -0.15895696 -0.24206762 -0.9497891   0.70526665  0.26225775\n  -0.52227926 -0.00887372  0.13333191 -0.24043666  0.12446418  0.03694573\n  -0.7780441   0.48504734  0.05637494  0.02884891  0.199094    0.3376324\n   0.07401717  0.771239   -0.09969057  0.16526301 -0.16140927  0.33074948\n   0.84317535  0.70262617  0.4432572   0.03351543 -0.00734806  0.0114447\n   0.08067222 -0.02044881  0.61489004  0.74471015  0.2546624   0.08032145\n  -0.07678209  0.8242093  -0.13330401 -0.16190878 -0.18563645 -0.11325233\n   0.43634817  0.46834937 -0.7677682   0.07249466 -0.08373351 -0.7979654\n   0.2648915   1.1783112  -0.09029965  0.2556076   0.4740182  -0.7709312\n   0.06468386  0.8987405  -0.17396004 -0.46548152 -0.40102348  0.04601434\n   0.2412119  -0.16575256  0.02453     0.01158319  0.40943918  0.04052415\n   0.0476356  -0.86838967 -0.02660826  0.28084067  0.07668655 -0.27374265\n  -0.21930413 -0.8744673  -0.0313448  -0.18234722  1.3213811  -0.12521687\n   0.29681736  0.25523284 -0.95405686 -0.15302269 -0.5772004   0.24539615\n   0.10954665  0.5937533   0.0519225   0.99789655  0.40696907  0.47813857\n   0.87404305  0.06763632 -0.09962876  0.8760061   0.2796615   0.59453475\n  -0.50785244  0.87933266]\n [-0.8817898  -0.33585232 -1.082874   -1.0740157  -0.67806023 -0.05867156\n  -0.1267565  -0.04662193 -0.22860146 -0.06858267  0.64267457  0.35019764\n  -0.04614782  0.12913035 -0.05024552 -0.75358236  0.10331768  0.10732785\n   0.09637716  0.05472817  0.14735934  0.702932   -1.0489452   1.0430121\n   0.15271622  0.059457    0.38958174  0.2954935   0.340011   -0.01594642\n   0.01143513 -0.1718523  -0.26545322 -1.0502996   0.7822254   0.28682795\n  -0.57691026 -0.0051961   0.14876789 -0.2606694   0.1381265   0.03699934\n  -0.86234117  0.53409094  0.06429707  0.033079    0.22020972  0.36949888\n   0.08242084  0.8538716  -0.11165324  0.17736946 -0.17786482  0.37055275\n   0.930019    0.776429    0.48988485  0.03211524 -0.00743616  0.01686947\n   0.09358335 -0.02428682  0.67610335  0.82345724  0.2807924   0.09164511\n  -0.08516203  0.9081864  -0.14884119 -0.18134646 -0.2038611  -0.12776591\n   0.48087087  0.5131238  -0.8455936   0.07896844 -0.09231269 -0.88027406\n   0.2915899   1.2974613  -0.10308747  0.28739396  0.521608   -0.8523647\n   0.07462294  0.9938026  -0.18978009 -0.51643467 -0.44101343  0.04256905\n   0.26472262 -0.18008228  0.02814035  0.01325431  0.4531244   0.04530219\n   0.05603018 -0.9609427  -0.02788383  0.3117941   0.08503515 -0.30236652\n  -0.24529415 -0.95728725 -0.03473414 -0.19671033  1.4609632  -0.14045656\n   0.33023947  0.28519073 -1.0512004  -0.16591486 -0.634021    0.27292755\n   0.12338842  0.6532645   0.05677547  1.095973    0.4489706   0.52598697\n   0.96744573  0.07152659 -0.10863374  0.965403    0.30145428  0.6551426\n  -0.5541105   0.96710813]]",
         "CCCCC(CC)COC(=O)C1=CC=CC=C1C(=O)OCC(CC)CCCC",
         "pipeline_output_test/docking/chai/B9ZZP0/",
         null,
         "pipeline_output_test/docking/boltz/B9ZZP0/",
         "pipeline_output_test/docking/boltz/B9ZZP0/B9ZZP0_results_B9ZZP0/predictions/B9ZZP0/B9ZZP0_model_0.cif",
         "TPP",
         "pipeline_output_test/docking/vina/B9ZZP0/B9ZZP0.pdb"
        ],
        [
         "1",
         "C8WTQ0",
         "unreviewed",
         "C8WTQ0_ALIAD",
         "Acyl-CoA thioesterase",
         "Aaci_2638",
         "Alicyclobacillus acidocaldarius subsp. acidocaldarius (strain ATCC 27009 / DSM 446 / BCRC 14685 / JCM 5260 / KCTC 1825 / NBRC 15652 / NCIMB 11725 / NRRL B-14509 / 104-IA) (Bacillus acidocaldarius)",
         "272",
         "131567 (no rank), 2 (domain), 1783272 (kingdom), 1239 (phylum), 91061 (class), 1385 (order), 186823 (family), 29330 (genus), 405212 (species), 1388 (subspecies)",
         "521098",
         "MSQLVTHAFDDATALSFDGRQFHGQVKAEYYNMVGPFGGITAATMLKAAMSHPERLGQPLALTVNFAAPAKVAPFVIEAVPVRTNRSTQHFTLTMMQDGEVVTTATAVFGIRRESWSHTEAVMPDVPPPADVPRFVAPAPLPWMQWYHVRLIRGSAFDEVQDATTYQWMRDDPPRPLDHAALAALCDTFVPRVYVKLKRPVPIGTVTFTVYFLADPETIFRQGTNELLGVARATGFSHGYFDQIGEVWSQDGDLLATTTQLVYMKAPVSGSS",
         null,
         "29989.0",
         null,
         null,
         null,
         null,
         null,
         null,
         null,
         null,
         null,
         null,
         null,
         null,
         null,
         null,
         null,
         null,
         null,
         null,
         null,
         null,
         null,
         null,
         null,
         null,
         "3RQB;",
         null,
         "56.0",
         "species",
         null,
         "1783272.0",
         "1239.0",
         "91061.0",
         "1385.0",
         "186823.0",
         "29330.0",
         "405212.0",
         "2",
         "Archaea",
         "[-42.060787  80.05794   47.768135 ... -45.721714 -60.42222  -35.88401 ]",
         null,
         null,
         "0",
         "[ 7.59582222e-01 -1.81714034e+00 -1.00497139e+00  5.94287872e-01\n  1.06662139e-01  1.61361647e+00 -5.13463514e-03 -1.46568549e+00\n -9.02154684e-01  2.91462064e-01 -2.08907104e+00  6.45655096e-01\n -2.68209219e+00 -1.07332841e-01  2.95012832e-01  8.80661368e-01\n -1.20960963e+00  1.89789891e+00 -4.63778108e-01  2.24878475e-01\n -9.88802969e-01 -1.99123871e+00 -4.44494069e-01 -3.02303135e-01\n -3.50694895e+00 -2.65882015e+00 -5.99580348e-01  4.63278204e-01\n  5.40808022e-01  2.88385570e-01  7.74167180e-01  9.85860173e-03\n  2.21005535e+00  6.04899414e-02 -5.07620238e-02  8.59512866e-01\n -1.17073679e+00 -7.33118296e-01 -2.62804580e+00 -2.02767044e-01\n -1.71406674e+00  6.57939166e-02 -1.82710016e+00 -1.64551890e+00\n -9.39067155e-02 -1.41544461e+00  2.09955499e-01 -2.00517225e+00\n -6.21541500e-01  2.68375985e-02 -3.83509308e-01  2.05620670e+00\n  4.42377418e-01 -1.56121159e+00  2.17224881e-01 -1.63838601e+00\n  2.77276134e+00  4.67901826e-01 -1.35553956e-01 -1.76906526e+00\n  2.62386441e-01 -9.00764585e-01 -1.40737760e+00  4.45200086e-01\n -8.20374042e-02  4.14994150e-01 -9.80628431e-01 -1.05640507e+00\n  1.10634410e+00 -9.89641786e-01 -1.14726436e+00 -1.68991852e+00\n  8.62185538e-01  3.84639770e-01  4.43075627e-01  1.60601592e+00\n -2.65576810e-01 -1.24367505e-01  1.99497855e+00 -1.96264029e-01\n -3.10830802e-01 -2.58765173e+00 -6.46544218e-01  1.83551705e+00\n  1.60610116e+00  1.90467328e-01 -9.80261743e-01  1.45074403e+00\n  1.29740703e+00 -1.88736498e+00  4.62762505e-01  7.94841647e-01\n  3.98279279e-01  5.35263777e-01  3.30372334e-01  3.49523779e-03\n  6.18051469e-01 -6.27467275e-01  1.65056598e+00 -1.07353020e+00\n -2.06750011e+00  1.74940717e+00  8.37071478e-01  1.57071948e+00\n  1.13505709e+00 -1.83775735e+00  2.63360173e-01 -3.85956347e-01\n -4.02646095e-01  2.34468770e+00 -4.15593475e-01 -5.09032369e-01\n  1.93555260e+00  2.49014997e+00  1.56836057e+00  5.54183722e-01\n -6.08312011e-01  1.60207283e+00 -2.07549602e-01  1.80028093e+00\n  1.52489626e+00  7.63897598e-01  2.33697563e-01  8.70339334e-01\n -1.16530538e+00 -7.99018919e-01  1.03938007e+00  1.47028732e+00\n -3.17087770e-02 -1.95307338e+00  1.47203124e+00  1.01099801e+00\n -1.38511312e+00  2.73554564e+00  1.64988923e+00  1.44728526e-01\n  1.07318413e+00 -7.23422527e-01 -2.93629050e-01 -1.16417639e-01\n  9.20201659e-01  6.04585946e-01  4.34262365e-01  9.13675129e-01\n -7.17239738e-01 -2.09444308e+00  6.19684309e-02  9.26302016e-01\n -6.00426912e-01  1.31361115e+00  1.04389262e+00  6.85101926e-01\n  4.45510209e-01 -7.81829834e-01  5.35600543e-01  5.31172037e-01\n -2.85888314e-01  2.16952085e+00 -1.58221972e+00 -5.18019497e-01\n  1.64839491e-01  4.58945334e-01 -1.54398933e-01 -1.20561254e+00\n  6.59141302e-01  1.29808736e+00 -7.19960093e-01  1.18786573e+00\n  1.11910927e+00  1.42124569e+00  1.32324803e+00  4.61316168e-01\n -7.77478516e-01 -1.23896861e+00 -3.18471968e-01  1.82291925e-01\n  6.53026760e-01  4.12335068e-01  2.15039015e-01  1.03308884e-02\n  9.24164951e-01 -7.14639783e-01 -2.37557554e+00 -1.68138528e+00\n -5.43184698e-01  1.74479473e+00  3.68846297e+00 -2.06383467e+00\n  2.48939943e+00  8.75414610e-02  2.45084810e+00 -1.26607269e-01\n -1.22804964e+00  3.60046196e+00  5.40418923e-01 -2.69989419e+00\n -4.64356989e-01 -6.00958288e-01 -8.15626442e-01  1.83030879e+00\n -2.75576055e-01 -1.82886684e+00  8.14216614e-01 -5.86686432e-01\n  2.53223777e-01 -3.07990026e+00  7.78912961e-01 -1.82332194e+00\n  8.10063541e-01  8.33686471e-01  8.29572499e-01 -1.96492529e+00\n -1.60611308e+00 -1.48248982e+00 -1.31965292e+00  2.60574549e-01\n -8.08571517e-01 -4.70944405e-01 -1.07987022e+00  2.85270452e+00\n -1.31704435e-01 -3.41979951e-01 -1.59275019e+00 -2.68020153e-01\n -1.47660780e+00 -2.08693099e+00 -8.69021654e-01 -1.31677318e+00\n  2.03667474e+00 -6.98990703e-01  1.09618485e+00  3.48260736e+00\n -6.36719838e-02  8.53169024e-01  1.08024645e+00 -1.27464163e+00\n  1.65880442e+00  8.96507800e-01  8.66209805e-01 -1.62319708e+00\n -2.55809855e+00 -4.15791243e-01  1.43103397e+00 -1.20152903e+00\n  5.58590353e-01  1.22116673e+00  6.85720384e-01 -1.16155243e+00\n -9.94180858e-01 -1.97429821e-01 -1.06553257e+00  3.92365873e-01\n  1.41796660e+00 -4.15480822e-01  4.60192323e-01 -6.68650568e-01]",
         "[-3.15318584e+00  1.46533852e+01 -1.83624630e+01 -1.33488023e+00\n -1.11747684e+01  2.08157372e+00 -7.40569830e+00 -5.62552738e+00\n -1.84854472e+00 -4.76227760e+00 -2.24694214e+01 -4.15258646e-01\n -7.70630264e+00  2.64576316e-01 -6.26888371e+00 -1.56784999e+00\n -1.13734055e+01  5.24377537e+00 -1.92392612e+00  1.11521254e+01\n -7.03839207e+00  5.93622684e-01 -4.13670588e+00 -3.87539053e+00\n -5.96383762e+00 -6.06848192e+00 -3.60282779e+00 -1.56301403e+00\n  5.24694026e-01  8.36919308e+00  6.69159937e+00 -4.81900167e+00\n  6.19929981e+00 -2.93998480e+00 -1.27495461e+01  2.48406768e+00\n -3.78988171e+00 -1.69379008e+00  5.02660799e+00  9.90706062e+00\n -8.52134514e+00  2.98964000e+00  6.02855682e-01 -1.63966236e+01\n -1.28692102e+01 -3.49516487e+00  2.66255546e+00 -2.62060690e+00\n -1.67016373e+01  1.77246799e+01  1.76707058e+01 -6.06417513e+00\n  5.30627668e-02  2.18315220e+00  5.09910965e+00 -3.23834801e+00\n  2.24110103e+00 -7.21888065e+00 -5.49048948e+00  1.85140938e-01\n -1.57295628e+01 -8.65657902e+00 -2.10690022e+01 -2.13801861e+00\n -9.95514965e+00  6.85119343e+00 -1.95665493e+01  2.30441761e+00\n -4.10913557e-01 -1.70006835e+00 -1.55426893e+01 -1.91026568e+00\n -1.10447388e+01 -5.46857929e+00  9.57531452e+00  8.00064445e-01\n  7.96556425e+00 -6.13371420e+00  8.56562257e-02 -7.49116039e+00\n -1.44803610e+01  9.67112541e+00  6.21166801e+00 -1.12534599e+01\n -1.71630383e-02  6.21117973e+00  9.82773590e+00  6.95654154e-01\n  6.63699985e-01  9.00322139e-01  2.32678556e+00 -3.95895195e+00\n  3.77703691e+00 -7.51314259e+00  7.39172459e+00 -1.31498277e-03\n  8.75456810e+00  4.77965498e+00 -1.18623247e+01  8.00782967e+00\n  1.43535824e+01 -7.23219013e+00 -4.04554462e+00  5.10279369e+00\n  9.54897022e+00 -2.93022776e+00 -6.72239351e+00 -1.46822968e+01\n  5.63306999e+00 -2.16451130e+01  5.55620098e+00 -1.36528034e+01\n  8.20629406e+00 -3.84094000e+00  1.05559301e+01 -3.88266373e+00\n -5.75771427e+00 -8.00427628e+00 -1.49060369e+00  1.14380264e+01\n -1.11166401e+01  3.57174420e+00  1.43396835e+01 -1.17352524e+01\n -8.74400616e+00 -5.91334438e+00  5.53173113e+00  8.01696682e+00\n  3.32094646e+00  4.54398680e+00 -2.37186089e+01  7.21692753e+00\n -1.17239103e+01 -9.29172325e+00 -9.25029278e+00 -3.24652863e+00\n -7.07541180e+00  4.46461582e+00 -1.03221674e+01  7.43905544e+00\n  3.23256588e+00 -1.69535770e+01  2.24389439e+01 -1.12131233e+01\n -1.63797998e+00 -1.09088860e+01  3.55632925e+00  9.51403904e+00\n -5.78373003e+00  1.80542314e+00  4.52025700e+00  5.87461805e+00\n  6.26969957e+00 -2.68778324e+00 -9.10400009e+00 -2.49356174e+00\n -3.03501153e+00  9.55914497e-01 -1.42375526e+01 -3.09384561e+00\n -1.69662647e+01 -1.60794163e+01 -1.03288441e+01 -4.37347651e+00\n -4.05774355e+00 -1.59436774e+00  1.22301226e+01  6.37095547e+00\n  3.00737143e+00 -1.19148655e+01 -5.65258598e+00 -5.10969400e+00\n -1.72733712e+00  1.24514217e+01  1.24007311e+01 -1.03633204e+01\n -4.42477274e+00  4.41513920e+00  7.63262081e+00 -2.30157614e+00\n -2.25865722e+00 -6.30272436e+00 -3.24551821e+00 -1.47366142e+01\n -1.91866398e+01 -4.18893814e+00  2.01978981e-01 -7.61742830e-01\n -4.18493319e+00 -3.45134068e+00  1.22237244e+01 -1.22163939e+00\n  1.79358921e+01  7.61810732e+00  1.95564785e+01 -1.48398762e+01\n -1.91287026e-01 -8.81455898e+00  8.16031933e+00 -1.70145750e+00\n -1.27702312e+01 -7.53458071e+00 -1.15717781e+00 -4.81844234e+00\n  7.09145594e+00  1.01997871e+01 -1.11102653e+00 -1.26641960e+01\n  9.27231216e+00  7.20910358e+00 -6.47521973e+00 -7.64011335e+00\n  7.21144438e+00  1.49046869e+01 -7.83650160e+00 -7.35071659e+00\n  3.87794304e+00  1.00720139e+01  4.15714121e+00 -7.16615295e+00\n -5.45625734e+00 -9.87204075e-01 -1.67969379e+01  7.51986599e+00\n -5.50366545e+00 -6.88389254e+00 -9.43685532e-01 -1.14358196e+01\n -6.13801765e+00 -6.14067554e-01 -5.22045612e+00 -8.34880114e-01\n -1.23172245e+01 -6.33647203e+00 -2.88980818e+00 -1.19468355e+01\n -2.04142189e+00  2.53928638e+00 -3.54972243e+00 -1.86097450e+01\n  3.11358704e+02 -1.09269629e+01  7.07778025e+00 -1.71951091e+00\n -2.72195315e+00  9.34458447e+00 -1.48385944e+01 -2.87446308e+00\n -2.74939680e+00 -1.10377102e+01 -1.88219566e+01  1.29553175e+00\n  4.67009783e+00  1.23499184e+01  5.00611496e+00  4.04717731e+00\n -3.73526096e+00  9.50958729e+00 -8.63996983e+00  6.57464457e+00\n  2.46795702e+00  3.76120090e+00  2.55109000e+00 -8.41630459e+00\n -1.96493065e+00  6.05500031e+00 -6.28835011e+00  2.05741930e+00\n  5.37846899e+00 -6.38241768e+00 -2.01069784e+00 -4.70996189e+00\n -3.15846038e+00 -6.93561172e+00 -2.42412353e+00 -4.94526100e+00\n -4.35363340e+00 -1.04157200e+01  3.18356013e+00 -2.15870237e+00\n -1.41505833e+01 -4.40877724e+01  5.04740429e+00 -3.78250694e+00\n  5.42090082e+00 -5.14705777e-02 -4.71432495e+00  4.74926281e+00\n -9.27368641e-01  7.69139004e+00  8.44055176e+00 -7.66433334e+00\n -3.02948380e+00  9.49229336e+00 -1.13335075e+01 -8.24454594e+00\n  8.81915212e-01 -2.00518346e+00  1.32201767e+01  5.63293552e+00\n -2.24317956e+00  2.11340370e+01 -2.61159229e+00 -6.24498463e+00\n -4.19239759e+00 -4.93924189e+00  5.28110075e+00 -1.12136726e+01\n -4.47286415e+00 -4.79344487e-01 -2.15881371e+00 -1.23471098e+01\n  6.37975454e+00 -7.92594910e-01 -2.79023857e+01 -4.31332684e+00\n -9.18053508e-01  1.45983303e+00 -4.46195126e+00 -1.91056395e+00\n  1.34713221e+01 -6.02360773e+00 -1.38044519e+01  3.81819010e+00\n -8.61205673e+00 -3.43557787e+00  8.82987785e+00  1.38979845e+01\n  9.69457912e+00 -4.45562077e+00  2.58847094e+00 -3.21133256e+00\n -6.62874794e+00 -9.11908150e+00  7.33829927e+00  7.96629953e+00\n -5.76846123e+00  5.06719255e+00  3.57716966e+00 -2.86047006e+00\n  1.59099073e+01 -9.74724960e+00 -6.23416758e+00  2.65725553e-01\n  1.10422201e+01 -6.93344736e+00 -2.40937495e+00  1.00103874e+01\n -6.36573982e+00  1.83486581e+00 -2.16856527e+00  6.19506091e-02\n  1.25599012e+01  1.52222214e+01 -1.26432648e+01  6.88113880e+00\n -6.62222481e+00 -7.69231558e+00 -5.61868238e+00  9.17653084e+00\n -7.94129515e+00  9.10145342e-02 -4.36501026e+00  1.10585241e+01\n  5.58347845e+00 -6.38702679e+00 -7.01688051e+00  1.34492207e+01\n  1.25748897e+00 -5.64307213e+00 -7.64303923e+00 -2.42296648e+00\n -1.42753325e+01 -2.01418638e+00  9.83715725e+00 -1.27286959e+01\n  3.96973848e+00  3.51170921e+00  9.55634689e+00  2.74499536e-01\n -7.78080177e+00  2.71393728e+00  1.18457994e+01 -5.20247221e-02\n -2.21421170e+00  9.18636227e+00  2.98481894e+00  8.22213554e+00\n  9.28313494e-01 -1.79032493e+00  1.66811156e+00  3.57753348e+00\n  7.10249949e+00  1.20965719e+01  1.47208652e+01 -2.27016139e+00\n  1.45618010e+01 -9.52669621e+00 -1.44882858e-01 -1.97198639e+01\n -8.12217903e+00 -5.67861414e+00 -3.71470523e+00 -9.47847080e+00\n  4.66205978e+00  3.53492141e+00  3.42328477e+00 -3.85191274e+00\n  1.49501348e+00  2.31616402e+00  8.04735184e+00 -7.35008430e+00\n -2.07286760e-01  4.35814095e+00 -1.69001412e+00 -6.28833103e+00\n  5.13551903e+00  1.15585756e+01 -2.45683908e+00 -5.69160509e+00\n -3.27220321e+00 -6.05476761e+00  7.99169636e+00 -3.66929722e+00\n -3.49914384e+00 -6.59969997e+00 -5.57038832e+00  2.33362222e+00\n  7.40667786e+02 -4.10540628e+00 -4.04112768e+00  5.47003126e+00\n  2.30454230e+00  3.97062111e+00  7.74920750e+00 -4.71192300e-02\n -7.09764779e-01  3.29386711e+00 -1.19455070e+01  3.01742458e+00\n -8.46195221e+00  1.99200764e+01 -2.07716489e+00 -3.75749558e-01\n  2.01177239e-01  1.80842996e+00 -5.47205257e+00 -4.65672016e+00\n -1.43694000e+01  8.43955219e-01 -1.09886909e+00 -1.80257702e+01\n -1.00753174e+01  1.05647602e+01 -9.22331870e-01 -5.67051363e+00\n -1.72702904e+01 -1.80628717e+00 -5.96366692e+00  1.54574335e+00\n -1.45759621e+01 -8.90662789e-01 -1.19599028e+01  3.34446812e+00\n  4.94322062e+00  6.94526815e+00 -1.01741238e+01 -2.50814676e+00\n -1.73599567e+01 -2.53529429e+00 -3.96570969e+01  7.40606928e+00\n -3.17949510e+00 -9.72225189e+00  1.00963707e+01 -2.76546478e+01\n -9.55005360e+00  1.13705516e+00 -1.19080210e+00  5.74904084e-01\n  4.12163544e+00  6.86390018e+00 -1.39183903e+01  4.62440348e+00\n  2.27757978e+00  1.15015726e+01 -6.02589083e+00 -3.65499067e+00\n  7.26708746e+00 -2.46309185e+00 -8.36568260e+00  1.13956451e+01\n -2.17501526e+01  1.52800522e+01 -1.24088943e+00 -1.12462807e+01\n  4.29086399e+00 -1.95527363e+00  4.29335594e+00 -8.29933357e+00\n  8.02219582e+00  6.62343550e+00  1.12963474e+00 -1.56170964e+00\n -9.03489304e+00 -1.20799122e+01 -7.84270811e+00 -1.01668797e+01\n  1.53756990e+01 -2.81558657e+00 -1.25686026e+01  1.32382408e-01\n  5.84684134e-01  1.88974226e+00  2.30795979e+00 -7.74454927e+00\n -1.11963243e+01 -1.01619701e+01  3.18068290e+00 -1.07859669e+01\n -1.87488186e+00  4.99343443e+00  5.01279593e+00 -6.43165648e-01\n  2.61953902e+00 -1.41612129e+01  1.51106482e+01 -9.27426875e-01\n -6.10518265e+00 -5.81281900e+00  1.15547359e+00 -5.47572017e-01\n -1.19907808e+00  1.26032219e+01 -9.94824886e+00 -9.00448322e+00\n -1.35942948e+00 -1.17800989e+01  1.34185810e+01 -1.29203739e+01\n -6.04544926e+00 -1.28904133e+01  1.52973104e+00 -3.10448956e+00\n  6.35266924e+00 -1.94239259e+00  5.89260006e+00  8.83115005e+00\n -4.52147818e+00  5.94302797e+00 -4.02816713e-01 -6.90384769e+00\n -7.32436562e+00 -1.36423349e+01 -8.22641754e+00  1.72421765e+00\n -1.07271957e+01  9.49206829e+00  3.79116511e+00  1.67002563e+01\n  6.43011212e-01  2.17946053e+00 -6.99374199e-01  2.34083557e+01\n  2.90915465e+00 -2.51114202e+00 -5.18312788e+00 -4.31994820e+00\n -1.37479138e+00 -1.15419283e+01  6.32479906e+00 -6.44472218e+00\n -6.94265079e+00  3.73660302e+00 -4.83159208e+00 -3.07708430e+00\n  3.38165593e+00 -1.34298258e+01 -1.54523087e+00 -1.19365568e+01\n  1.62906227e+01 -4.69872761e+00 -5.11134386e-01 -6.22626591e+00\n -7.42052376e-01  1.82615876e+00  2.88716221e+00  8.22155762e+00\n  1.36710281e+01 -9.56023979e+00 -1.18717089e+01 -3.09791112e+00\n  9.19079113e+00 -7.64307213e+00  3.02963471e+00  9.19346333e+00\n -8.26188850e+00  1.35007048e+01  1.35928893e+00 -2.50281858e+00\n  2.95632219e+00  4.20844650e+00 -2.83675551e+00 -1.55842571e+01\n -6.38633156e+00  1.55296177e-01 -3.50471067e+00 -1.56924591e+01\n -1.19713187e+00 -7.07702684e+00  1.23724642e+01 -1.53964329e+00\n -2.60836935e+00  8.89988518e+00 -1.18581076e+01 -2.95249534e+00\n -5.98227119e+00  3.51416612e+00 -1.13923931e+01  5.01783800e+00\n  3.56863070e+00 -3.48216987e+00 -4.88520575e+00  4.71106386e+00\n -1.76827774e+01  1.79981441e+01 -1.21139364e+01  3.12730670e+00\n  1.06693497e+01  1.09431925e+01  1.00465078e+01 -1.54818411e+01\n -7.49450636e+00  5.34953022e+00  4.00421572e+00 -1.27516756e+01\n  1.57332945e+00 -5.67934895e+00  2.44191265e+00 -4.29450417e+00\n  3.54566050e+00 -7.77513552e+00  9.12256241e+00 -5.79514027e+00\n -1.42850780e+01 -6.91256809e+00 -1.89035702e+01 -5.85625935e+00\n -1.44771147e+01  5.27465487e+00 -6.53092384e+00 -2.07098351e+01\n  8.50725770e-01 -1.14633656e+01 -2.05876198e+01  1.22066951e+00\n -7.92650580e-01 -1.58034849e+00 -2.17899437e+01  1.58535397e+00\n  1.23709412e+01 -8.33460903e+00  4.67971039e+00 -1.16223574e+01\n  6.19336033e+00 -1.17584758e-01  4.61072874e+00 -8.53603840e+00\n -8.01613140e+00 -2.41118145e+00 -8.97483063e+00 -1.62673533e+00\n  7.59270132e-01  4.99161530e+00 -7.69009495e+00 -2.93470323e-01\n -5.44042301e+00  7.47238111e+00 -3.48854542e-01  2.11918473e-01\n -5.41117573e+00 -4.59476948e+00 -1.47330344e-01 -1.07910566e+01\n -3.69955873e+00  1.85995173e+00  4.26191902e+00  1.13822784e+01\n -1.58851612e+00 -4.93764877e+00  7.87963104e+00  9.01473808e+00\n  1.04178886e+01 -1.06829476e+00 -3.34922147e+00  5.82091808e+00\n -6.97760868e+00  1.20552216e+01 -1.20507193e+01  6.58169413e+00\n -1.66112556e+01  4.32769585e+00 -1.10184488e+01 -1.75607929e+01\n  8.58727074e+00 -1.39952164e+01  1.99332035e+00 -1.74779510e+01\n -7.02036858e-01  2.97562051e+00 -2.88442349e+00 -2.42470407e+00\n -4.19839621e+00 -4.77909231e+00 -1.30356779e+01  1.34917498e+01\n  1.17956734e+01  4.60122252e+00 -1.95682278e+01 -9.53062057e+00\n -6.72277308e+00 -1.69996147e+01  4.60988693e+01  1.59470272e+01\n  4.56829119e+00 -7.13619184e+00 -2.08448982e+00 -6.59187555e-01\n  3.51533651e+00 -6.43516183e-01 -1.24369001e+01  3.19989944e+00\n -2.00032997e+01 -5.55680180e+00  9.71783924e+00 -8.21413422e+00\n -1.02652204e+00  5.94714212e+00  5.08305550e+00 -1.93730569e+00\n  8.19353104e+00 -5.55855274e+00 -2.89908981e+00  5.94165659e+00\n -9.94308853e+00  2.93076396e+00  4.74178076e-01 -3.94444609e+00\n -5.94122982e+00  2.27080035e+00  4.19425392e+00  5.36564970e+00\n -4.26619768e+00 -7.15596581e+00 -6.32443428e+00  2.09339161e+01\n  8.25058746e+00 -1.17854662e+01 -7.50572443e+00  4.53132391e+00\n -1.37217226e+01 -1.24899969e+01 -7.21560383e+00  3.13188171e+00\n  2.30663681e+00 -6.46870899e+00 -1.65702991e+01  1.43049774e+01]",
         "[-3.61045051e+00  1.61566086e+01 -1.88054047e+01 -1.49667144e+00\n -1.25542126e+01  1.96429610e+00 -8.67659855e+00 -5.46983671e+00\n -3.53513384e+00 -5.20022345e+00 -2.20384521e+01 -1.13258529e+00\n -6.24113369e+00 -3.97266746e-02 -5.32168865e+00 -2.51193810e+00\n -1.05490971e+01  5.65342188e+00 -2.08509851e+00  1.14745836e+01\n -6.27580976e+00 -1.99242011e-01 -4.76630592e+00 -2.44578934e+00\n -4.04852200e+00 -4.58373833e+00 -4.95726204e+00 -1.15666175e+00\n  2.22033787e+00  7.21658421e+00  5.75804472e+00 -4.58530378e+00\n  6.90999317e+00 -3.01813698e+00 -1.19560194e+01  2.42317390e+00\n -2.50193810e+00 -2.13620925e+00  6.51959324e+00  1.04317780e+01\n -6.54759693e+00  1.74702823e+00 -1.02772988e-01 -1.53432741e+01\n -1.11506786e+01 -5.55848598e+00  1.06736600e+00 -2.29469204e+00\n -1.50307884e+01  1.61223927e+01  1.72500553e+01 -6.99287987e+00\n  7.21887797e-02  4.04261684e+00  4.36972952e+00 -3.63406873e+00\n  2.52928257e+00 -6.18536520e+00 -4.72924137e+00 -1.23337471e+00\n -1.70654545e+01 -9.06477833e+00 -2.21769886e+01 -1.42168629e+00\n -9.77718067e+00  6.86234379e+00 -2.04325581e+01  1.92149830e+00\n -2.40187943e-01 -2.90222621e+00 -1.49651394e+01  5.96226633e-01\n -1.18344784e+01 -4.38719320e+00  1.07363482e+01  1.33445191e+00\n  6.94977570e+00 -6.38969469e+00  4.88451779e-01 -9.21030331e+00\n -1.51002026e+01  9.16150188e+00  7.25562763e+00 -9.62266350e+00\n -1.82069302e+00  6.02201605e+00  9.61311340e+00  8.93319666e-01\n  1.48301840e-01  5.63695908e-01  2.56952143e+00 -2.22891974e+00\n  4.16500330e+00 -8.94439125e+00  7.95003653e+00  1.08688605e+00\n  8.48537445e+00  1.77097714e+00 -1.07555256e+01  8.34480762e+00\n  1.44296608e+01 -8.23818588e+00 -3.99893069e+00  4.42293215e+00\n  9.36454678e+00 -2.90912080e+00 -6.48247623e+00 -1.31517134e+01\n  4.70775270e+00 -2.09178371e+01  5.66264915e+00 -1.32119999e+01\n  7.77612448e+00 -2.57624245e+00  9.94544411e+00 -4.28182888e+00\n -5.84695339e+00 -7.48675394e+00 -1.34796548e+00  1.18276691e+01\n -1.10925999e+01  3.67969894e+00  1.54055948e+01 -1.08668556e+01\n -8.55542374e+00 -5.51257467e+00  6.34577465e+00  7.41497183e+00\n  3.20006800e+00  5.23919201e+00 -2.17725525e+01  5.15179491e+00\n -1.02544804e+01 -8.57952499e+00 -8.98493671e+00 -4.99392986e+00\n -6.01946926e+00  5.40754414e+00 -9.47282124e+00  6.28021240e+00\n  1.89191926e+00 -1.71246452e+01  2.21401558e+01 -1.02492523e+01\n -1.70284736e+00 -9.45567417e+00  3.42365217e+00  9.75767803e+00\n -6.70488596e+00  3.31089854e+00  2.36022687e+00  5.56990910e+00\n  7.04619265e+00 -3.57704258e+00 -9.52343655e+00 -2.08873534e+00\n -3.08772421e+00  6.30547106e-02 -1.33625641e+01 -2.13286734e+00\n -1.74099846e+01 -1.61376877e+01 -1.17028742e+01 -4.33831120e+00\n -3.48366737e+00 -1.36072075e+00  1.15898619e+01  4.72549534e+00\n  1.24610043e+00 -1.01167383e+01 -8.88956070e+00 -4.46253014e+00\n -1.33609271e+00  1.25030460e+01  1.12728395e+01 -1.03880262e+01\n -5.17632437e+00  5.17090893e+00  6.51821995e+00 -2.38142705e+00\n -1.42720246e+00 -5.90668631e+00 -4.06776428e+00 -1.43316364e+01\n -1.83569469e+01 -4.36373281e+00 -1.10584557e-01 -3.84292603e-02\n -3.72776318e+00 -3.44281507e+00  1.24674540e+01 -1.65744758e+00\n  1.73038406e+01  6.74211121e+00  1.96061001e+01 -1.55877953e+01\n -2.11111283e+00 -1.04986706e+01  8.57612705e+00 -1.50379372e+00\n -1.13819132e+01 -7.73999977e+00 -1.67368543e+00 -2.96442437e+00\n  6.32264280e+00  1.12078714e+01 -1.49700022e+00 -1.02191792e+01\n  6.77635431e+00  7.52496576e+00 -6.34625006e+00 -6.96600342e+00\n  7.06761456e+00  1.42538528e+01 -7.41165972e+00 -8.32347488e+00\n  2.44385028e+00  1.00501871e+01  5.71260118e+00 -7.47551632e+00\n -4.71768475e+00 -1.47840226e+00 -1.55368528e+01  7.54033709e+00\n -5.65528727e+00 -6.88126135e+00 -1.37034559e+00 -1.02007761e+01\n -7.20994997e+00 -2.23805785e+00 -3.87882662e+00 -1.07254553e+00\n -1.31013365e+01 -5.78825760e+00 -4.25424194e+00 -1.13100281e+01\n -2.21883774e+00  3.54561114e+00 -5.19288349e+00 -1.72377968e+01\n  3.13625885e+02 -1.23450556e+01  7.28724098e+00 -2.06340766e+00\n -4.07679176e+00  8.06915665e+00 -1.35575562e+01 -3.26196575e+00\n -2.35270405e+00 -1.05728121e+01 -1.92136726e+01  1.90436423e-01\n  4.31924391e+00  1.45283632e+01  4.56391668e+00  2.33320451e+00\n -3.56015110e+00  8.53984928e+00 -9.90619850e+00  6.84412766e+00\n  5.01635027e+00  2.31399608e+00  1.15563881e+00 -9.05384445e+00\n -1.58395112e+00  4.77726412e+00 -4.94449091e+00  1.93597305e+00\n  6.13804102e+00 -5.25184059e+00 -1.70263708e+00 -2.35747623e+00\n -3.08327270e+00 -7.03508520e+00 -7.84771919e-01 -3.82534885e+00\n -3.46639204e+00 -1.02876034e+01  1.75356221e+00 -1.71673405e+00\n -1.36770267e+01 -4.46286469e+01  4.35419464e+00 -3.49718308e+00\n  4.96539116e+00 -8.27503085e-01 -5.44071293e+00  4.93415785e+00\n -1.70139503e+00  7.01611233e+00  9.30553436e+00 -6.36074877e+00\n -4.62759781e+00  9.45434093e+00 -1.03178978e+01 -8.65265465e+00\n -1.98826566e-01 -1.78224421e+00  1.37238407e+01  4.25737476e+00\n -9.88237202e-01  1.98439064e+01 -9.38919961e-01 -4.97061825e+00\n -2.19642615e+00 -5.25949383e+00  4.61696863e+00 -1.12794838e+01\n -4.95674896e+00 -1.64712572e+00 -2.97390079e+00 -1.20321312e+01\n  5.60478830e+00  5.39156795e-02 -2.82947178e+01 -2.66745210e+00\n -1.10107064e+00  1.65561628e+00 -4.24181795e+00 -1.06538129e+00\n  1.37401123e+01 -7.50463629e+00 -1.64144611e+01  3.34630013e+00\n -7.49312592e+00 -5.34309816e+00  8.13390923e+00  1.38981771e+01\n  1.06539764e+01 -4.02972794e+00  2.17820525e+00 -3.05216384e+00\n -6.60679626e+00 -1.07403488e+01  5.79619694e+00  7.06571865e+00\n -6.14124870e+00  5.50401449e+00  3.49157095e+00 -2.25043631e+00\n  1.76782227e+01 -9.07045746e+00 -4.33536100e+00  9.50165987e-02\n  1.20929766e+01 -6.19346905e+00 -4.10190868e+00  1.01898394e+01\n -5.40616417e+00 -2.37332776e-01 -1.75039828e+00 -5.59661806e-01\n  1.04101753e+01  1.47693787e+01 -1.27615948e+01  6.57641315e+00\n -5.76522017e+00 -7.35572481e+00 -6.30496407e+00  7.62776947e+00\n -6.60728264e+00 -1.72985315e-01 -6.69661808e+00  9.21126938e+00\n  6.93321943e+00 -5.93822956e+00 -5.71802664e+00  1.32009907e+01\n  1.59555936e+00 -6.61394548e+00 -7.53974628e+00 -8.64960611e-01\n -1.42885990e+01 -2.00404310e+00  1.00422125e+01 -1.20412474e+01\n  3.77536488e+00  4.44177055e+00  9.31761169e+00  1.82028961e+00\n -8.98227596e+00  9.23398614e-01  1.10726576e+01  3.37583750e-01\n -1.90513134e+00  8.75795746e+00  2.95322895e+00  9.17437172e+00\n  9.15615261e-01 -3.76973629e+00  2.41267419e+00  4.63284111e+00\n  6.91516399e+00  1.12270164e+01  1.35471878e+01 -2.72475934e+00\n  1.21773920e+01 -9.42226696e+00 -1.34250760e-01 -1.77585430e+01\n -8.67820740e+00 -4.72597980e+00 -3.42346072e+00 -9.43635464e+00\n  3.74054027e+00  5.07676315e+00  2.57560611e+00 -3.01626372e+00\n  1.72395635e+00  6.65474951e-01  7.62615776e+00 -7.14685202e+00\n -9.24238920e-01  1.93953049e+00  1.20823145e-01 -6.28805256e+00\n  4.61628342e+00  1.11728506e+01 -1.36339235e+00 -5.01590776e+00\n -3.28614569e+00 -6.38348579e+00  8.09734726e+00 -3.60168386e+00\n -4.20367670e+00 -6.11865044e+00 -6.94020748e+00  1.78305602e+00\n  7.41645935e+02 -2.74947524e+00 -3.96326923e+00  5.30098629e+00\n  7.89380312e-01  3.79878354e+00  8.05287266e+00 -4.31393772e-01\n -1.92628849e+00  2.80551815e+00 -9.27535248e+00  2.09083128e+00\n -8.05355358e+00  1.95152054e+01 -1.34058499e+00 -4.21943516e-01\n -5.85899472e-01  2.12331367e+00 -5.15253401e+00 -3.46209908e+00\n -1.35770140e+01  7.05915213e-01 -9.83435035e-01 -1.88531609e+01\n -1.07655878e+01  9.48010921e+00 -1.30926263e+00 -5.10251331e+00\n -1.69014626e+01 -5.57343602e-01 -5.05551147e+00  8.17587376e-01\n -1.41241941e+01 -1.83568418e+00 -1.26189518e+01  3.98492312e+00\n  3.65319443e+00  5.47613478e+00 -8.23665142e+00 -3.26447892e+00\n -1.67851582e+01 -1.13555300e+00 -4.01371689e+01  6.66101170e+00\n -1.90555513e+00 -9.32985115e+00  1.01062880e+01 -2.74894943e+01\n -9.40096760e+00  2.18349743e+00  4.08742130e-01 -5.40580094e-01\n  5.76596308e+00  6.26033211e+00 -1.21715813e+01  3.86635256e+00\n  1.80320263e+00  1.01519909e+01 -7.04839993e+00 -3.08192539e+00\n  8.31178570e+00 -2.19187450e+00 -8.23357964e+00  1.10415478e+01\n -2.08731880e+01  1.64037304e+01 -2.03298140e+00 -9.96591568e+00\n  3.15386963e+00 -2.97818065e+00  4.99512148e+00 -6.94085598e+00\n  6.57694149e+00  8.73669434e+00  2.77108932e+00 -3.35237265e+00\n -7.93175507e+00 -1.00262909e+01 -6.67894745e+00 -9.31754303e+00\n  1.49132862e+01 -2.33849025e+00 -1.07707100e+01  1.37537014e+00\n  1.88444543e+00  2.44811893e+00  5.27269363e-01 -9.76452446e+00\n -1.08323994e+01 -1.05825129e+01  2.13999510e+00 -1.05150967e+01\n -3.39464068e+00  4.30577755e+00  4.65101624e+00 -7.60008872e-01\n  2.78994870e+00 -1.35142870e+01  1.26298771e+01 -2.60458493e+00\n -5.53205967e+00 -5.14351559e+00  2.81464219e+00  2.47163534e-01\n -5.61224997e-01  1.14617243e+01 -9.87038040e+00 -9.92924500e+00\n -7.51044214e-01 -1.24195089e+01  1.31722240e+01 -1.10799904e+01\n -6.01994610e+00 -1.21953011e+01  2.30610681e+00 -2.07048798e+00\n  5.87326479e+00 -9.71831918e-01  6.09410000e+00  8.06197166e+00\n -3.93279934e+00  6.78501225e+00  1.47709668e+00 -5.48392296e+00\n -7.60530138e+00 -1.20796728e+01 -8.62352562e+00  3.12492311e-01\n -9.83416843e+00  1.09905977e+01  3.84240508e+00  1.74610023e+01\n  7.42607236e-01  1.69133568e+00 -9.52171326e-01  2.20717106e+01\n  3.00641441e+00 -2.23194838e+00 -5.53585339e+00 -5.23350954e+00\n -1.49999094e+00 -1.05175209e+01  6.85513115e+00 -7.54487991e+00\n -6.66791487e+00  3.91816926e+00 -4.54576540e+00 -3.09321237e+00\n  4.68313456e+00 -1.19337273e+01 -3.23056132e-01 -1.22406092e+01\n  1.47180395e+01 -4.34288359e+00  4.79930758e-01 -7.43664360e+00\n -8.33479762e-01  1.43284631e+00  2.31616354e+00  9.47675705e+00\n  1.36300526e+01 -7.93241835e+00 -1.24892092e+01 -2.66841865e+00\n  8.69801044e+00 -7.20747232e+00  2.18394494e+00  9.00040054e+00\n -7.89611149e+00  1.39110498e+01  2.68217754e+00 -2.79784393e+00\n  3.58928967e+00  3.37215304e+00 -1.62845325e+00 -1.49287090e+01\n -7.65742445e+00  1.50906348e+00 -2.16818142e+00 -1.54706802e+01\n -5.66136777e-01 -4.79271507e+00  1.17226238e+01 -1.28893757e+00\n -4.62049675e+00  9.58967876e+00 -1.12794218e+01 -2.55850720e+00\n -5.48224211e+00  4.00771332e+00 -1.13262768e+01  5.94058371e+00\n  3.32964826e+00 -2.65511847e+00 -6.41054726e+00  4.17395878e+00\n -1.61982059e+01  1.76968346e+01 -1.34351406e+01  2.41540694e+00\n  1.31281300e+01  1.04785595e+01  9.81407261e+00 -1.41230478e+01\n -6.35463762e+00  5.98633194e+00  4.91947937e+00 -1.41964760e+01\n  2.53790522e+00 -4.84336185e+00  2.63523579e+00 -4.73899984e+00\n  4.69254780e+00 -7.62152386e+00  1.07627983e+01 -4.81826115e+00\n -1.34439764e+01 -7.84208488e+00 -1.88357277e+01 -5.92799377e+00\n -1.35703154e+01  6.42192364e+00 -7.83255529e+00 -2.16931992e+01\n  1.71940744e+00 -1.12597017e+01 -1.98091335e+01  1.14329338e+00\n -1.13397956e+00 -1.82501245e+00 -2.23401089e+01  2.28250480e+00\n  1.15347986e+01 -9.62414551e+00  3.53639317e+00 -1.03272867e+01\n  6.94138861e+00  1.20091176e+00  4.22267294e+00 -8.60976410e+00\n -9.56049156e+00 -3.89285016e+00 -8.18168736e+00 -1.84641087e+00\n -4.57303345e-01  3.66275215e+00 -8.71758366e+00  1.13155089e-01\n -5.09557104e+00  6.57039499e+00 -8.98659229e-02 -6.13950670e-01\n -5.37528992e+00 -5.51405668e+00 -1.40909481e+00 -9.23073101e+00\n -2.59853125e+00  9.06065583e-01  3.68395591e+00  1.09176931e+01\n -1.90740037e+00 -6.21217346e+00  8.74328327e+00  9.58139038e+00\n  1.00984440e+01 -3.94111490e+00 -4.45461941e+00  5.91437244e+00\n -6.57516718e+00  1.07623482e+01 -1.22695732e+01  4.55342484e+00\n -1.66730480e+01  3.31891990e+00 -1.07234631e+01 -1.86430302e+01\n  7.84388685e+00 -1.44004717e+01  2.16076875e+00 -1.63835258e+01\n -1.49231470e+00  2.04169846e+00 -4.10838079e+00 -3.76286077e+00\n -2.57193017e+00 -5.72253323e+00 -1.34788456e+01  1.32417345e+01\n  1.09110594e+01  4.67033720e+00 -1.71357174e+01 -9.21516800e+00\n -6.76344299e+00 -1.66132374e+01  4.81935043e+01  1.59866180e+01\n  4.30825138e+00 -7.32235146e+00 -2.09559679e+00  6.42896891e-02\n  2.40929532e+00 -1.29658747e+00 -1.12143087e+01  3.13963103e+00\n -2.09924011e+01 -6.85775232e+00  9.32976055e+00 -6.85944748e+00\n -1.36260343e+00  6.30537128e+00  5.27745104e+00 -3.31556821e+00\n  9.17238712e+00 -5.84775972e+00 -3.22724271e+00  6.06250286e+00\n -1.00406532e+01  1.54380357e+00  1.84056401e+00 -2.47060061e+00\n -5.01575708e+00  3.79956722e+00  1.36890697e+00  5.99567938e+00\n -3.44216299e+00 -4.70709753e+00 -6.63537121e+00  2.10596104e+01\n  7.77769852e+00 -1.26702919e+01 -6.77269077e+00  6.87294292e+00\n -1.16779728e+01 -1.30829382e+01 -6.83971405e+00  4.34051561e+00\n  1.65929902e+00 -6.25964212e+00 -1.62388382e+01  1.32118158e+01]",
         "0.19196615",
         "0.18026765",
         "0.0061987154",
         "0.24868767",
         "277.99277",
         "30167.578",
         "0.0061987154",
         "27.62533",
         "0.0033276994",
         "0.022644201",
         "0.016238675",
         "0.018769223",
         "0.0031990283",
         "0.003528275",
         "0.024182566",
         "0.012106896",
         "0.018676111",
         "50.24453",
         "-13.855086",
         "-1.2575266",
         "-1.5137622",
         "50.005123",
         "3.0000072",
         "-13.839029",
         "-0.7543691",
         "-1.3943561",
         "0.4149281",
         "0.9183068",
         "0.0826011",
         "0.30449045",
         "200.95834",
         "21898.184",
         "0.061673135",
         "21.675781",
         "55.58115",
         "-13.98304",
         "-1.2579257",
         "-1.5175104",
         "55.321957",
         "5.1010256",
         "-13.989024",
         "-0.74773496",
         "-1.3973318",
         "0.21813479",
         "0.35941777",
         "0.24403296",
         "0.085014686",
         "0.16497505",
         "0.25138354",
         "305.47955",
         "32942.062",
         "0.0011741677",
         "33.259964",
         "51.852592",
         "-14.190214",
         "-1.2877204",
         "-1.5390332",
         "51.459923",
         "2.3283012",
         "-14.151983",
         "-0.7655981",
         "-1.4108989",
         "211.89067",
         "23176.254",
         "0.00036087408",
         "25.09429",
         "77.17456",
         "-11.975025",
         "-1.120888",
         "-1.3977219",
         "75.978676",
         "11.957406",
         "-11.862069",
         "-0.64257634",
         "-1.2796246",
         "277.99277",
         "30167.578",
         "0.0061987154",
         "27.62533",
         "50.24453",
         "-13.855085",
         "-1.2575266",
         "-1.5137622",
         "50.005123",
         "3.0000072",
         "-13.839029",
         "-0.7543691",
         "-1.3943561",
         "0.0",
         "0.0",
         "0.0",
         "0.0",
         "3.8146973e-06",
         "9.536743e-07",
         "0.0",
         "0.0",
         "0.0",
         "0.0",
         "9.536743e-07",
         "0.0",
         "0.0",
         "0.0",
         "0.0",
         "0.0",
         "0.0",
         "0.0",
         "0.0",
         "0.0",
         "0.0",
         "0.0",
         "0.0",
         "0.0",
         "0.0",
         "0.0",
         "0.0",
         "0.0",
         "0.0",
         "0.0",
         "0.0",
         "9.536743e-07",
         "0.0",
         "0.0",
         "0.0",
         "0.0",
         "0.0",
         "0.0",
         "0.0",
         "33.47955322265625",
         "338.7474",
         "60.10932922363281",
         "249.12543",
         "5.992767333984375",
         "148.40546",
         "C8WTQ0",
         "38|204",
         "0.99783176|0.99871767",
         "[[-0.6289185  -0.2393808  -0.7725617  -0.7688244  -0.4837966  -0.04064126\n  -0.09137331 -0.03479045 -0.16346402 -0.05083512  0.4579197   0.24903919\n  -0.03189148  0.09331919 -0.03570875 -0.5400796   0.07206605  0.07918385\n   0.06813686  0.04202864  0.10421008  0.50280505 -0.75077796  0.7445758\n   0.10776225  0.04214309  0.27671826  0.21095821  0.24732128 -0.01013087\n   0.01039976 -0.12722601 -0.19075961 -0.7511138   0.5567005   0.20610899\n  -0.4108034  -0.00588586  0.10789078 -0.18900469  0.09854729  0.02593472\n  -0.6146604   0.38142022  0.0481042   0.023049    0.15702009  0.26551488\n   0.05973893  0.6098361  -0.08046863  0.12618716 -0.1286745   0.2639323\n   0.6681347   0.55509216  0.35250154  0.02241183 -0.0041582   0.01363017\n   0.06823773 -0.01698975  0.48479372  0.5882873   0.1995741   0.06511502\n  -0.06138691  0.6508277  -0.10423009 -0.1284084  -0.14585385 -0.09021486\n   0.34583184  0.36790636 -0.60750145  0.05764284 -0.06855468 -0.6275773\n   0.2067388   0.92986506 -0.07544325  0.20326911  0.37165335 -0.6101731\n   0.05219577  0.70863885 -0.133986   -0.36843476 -0.3178896   0.029639\n   0.18635495 -0.12998839  0.02181213  0.00849425  0.32568654  0.03602477\n   0.03861386 -0.68530947 -0.02256702  0.21911821  0.06432861 -0.21662955\n  -0.17422913 -0.6860255  -0.02229502 -0.13986091  1.0443332  -0.09820594\n   0.23528273  0.20253156 -0.75207746 -0.11968225 -0.4549393   0.19683754\n   0.08812971  0.46594933  0.04113684  0.78546935  0.3206139   0.38077843\n   0.69023985  0.04967795 -0.07779792  0.69006884  0.21645735  0.47055104\n  -0.39739987  0.69186145]\n [-0.6852812  -0.26991343 -0.8476605  -0.84091645 -0.53123766 -0.04745485\n  -0.09626248 -0.04445166 -0.17367555 -0.05107203  0.50051624  0.27219158\n  -0.037122    0.10459805 -0.03517329 -0.594236    0.07931601  0.08394442\n   0.07260968  0.04061173  0.11963376  0.55083513 -0.8208257   0.82505393\n   0.12508748  0.04143402  0.29722673  0.23622629  0.2615886  -0.00872831\n   0.01742784 -0.13929413 -0.20386937 -0.8210466   0.61049384  0.23200531\n  -0.44975916 -0.00959994  0.1106582  -0.21160783  0.10549611  0.03183014\n  -0.6759084   0.41830388  0.05264257  0.01942882  0.1738553   0.291882\n   0.05988662  0.66924715 -0.08698197  0.13757958 -0.13449878  0.2820331\n   0.73192674  0.61245936  0.38559744  0.02709847 -0.00761941  0.01302135\n   0.06886004 -0.02202128  0.5358961   0.64951104  0.2183776   0.07813855\n  -0.06639238  0.71675235 -0.11466736 -0.14494471 -0.15538263 -0.09876357\n   0.38451895  0.4006608  -0.66194123  0.06898484 -0.08080565 -0.6890818\n   0.2284339   1.0209125  -0.08321238  0.21846193  0.4023838  -0.6726461\n   0.04782357  0.7703559  -0.15234584 -0.4052781  -0.34499574  0.04292545\n   0.20763429 -0.13918276  0.02603451  0.01275923  0.3594882   0.04073929\n   0.03573464 -0.7511044  -0.02066015  0.24215257  0.07080078 -0.23073459\n  -0.19281958 -0.75773853 -0.02963796 -0.15207876  1.1449981  -0.11575991\n   0.26848525  0.22328018 -0.8286683  -0.13376121 -0.4990601   0.20762481\n   0.09819888  0.5044542   0.0415387   0.8652944   0.35750133  0.42230165\n   0.7586613   0.05048737 -0.08244075  0.7571819   0.24190894  0.5156473\n  -0.43766332  0.7622315 ]]",
         "CCCCC(CC)COC(=O)C1=CC=CC=C1C(=O)OCC(CC)CCCC",
         "pipeline_output_test/docking/chai/C8WTQ0/",
         null,
         "pipeline_output_test/docking/boltz/C8WTQ0/",
         "pipeline_output_test/docking/boltz/C8WTQ0/C8WTQ0_results_C8WTQ0/predictions/C8WTQ0/C8WTQ0_model_0.cif",
         "TPP",
         "pipeline_output_test/docking/vina/C8WTQ0/C8WTQ0.pdb"
        ]
       ],
       "shape": {
        "columns": 201,
        "rows": 2
       }
      },
      "text/html": [
       "<div>\n",
       "<style scoped>\n",
       "    .dataframe tbody tr th:only-of-type {\n",
       "        vertical-align: middle;\n",
       "    }\n",
       "\n",
       "    .dataframe tbody tr th {\n",
       "        vertical-align: top;\n",
       "    }\n",
       "\n",
       "    .dataframe thead th {\n",
       "        text-align: right;\n",
       "    }\n",
       "</style>\n",
       "<table border=\"1\" class=\"dataframe\">\n",
       "  <thead>\n",
       "    <tr style=\"text-align: right;\">\n",
       "      <th></th>\n",
       "      <th>Entry</th>\n",
       "      <th>Reviewed</th>\n",
       "      <th>Entry Name</th>\n",
       "      <th>Protein names</th>\n",
       "      <th>Gene Names</th>\n",
       "      <th>Organism</th>\n",
       "      <th>Length</th>\n",
       "      <th>Taxonomic lineage (Ids)</th>\n",
       "      <th>Organism (ID)</th>\n",
       "      <th>Sequence</th>\n",
       "      <th>...</th>\n",
       "      <th>Squidly_CR_Position</th>\n",
       "      <th>Squidly_CR_probabilities</th>\n",
       "      <th>Squidly_CR_representations</th>\n",
       "      <th>substrate</th>\n",
       "      <th>chai_dir</th>\n",
       "      <th>Intermediate</th>\n",
       "      <th>boltz_dir</th>\n",
       "      <th>structure</th>\n",
       "      <th>substrate_name</th>\n",
       "      <th>output_dir</th>\n",
       "    </tr>\n",
       "  </thead>\n",
       "  <tbody>\n",
       "    <tr>\n",
       "      <th>0</th>\n",
       "      <td>B9ZZP0</td>\n",
       "      <td>unreviewed</td>\n",
       "      <td>B9ZZP0_9BACL</td>\n",
       "      <td>triacylglycerol lipase (EC 3.1.1.3)</td>\n",
       "      <td>Lip</td>\n",
       "      <td>Geobacillus sp. SBS-4S</td>\n",
       "      <td>389</td>\n",
       "      <td>131567 (no rank), 2 (domain), 1783272 (kingdom...</td>\n",
       "      <td>446356</td>\n",
       "      <td>MAASRANDAPIVLLHGFTGWGREEMFGFKYWGGVRGDIEQWLNDNG...</td>\n",
       "      <td>...</td>\n",
       "      <td>113|317|358</td>\n",
       "      <td>0.99923885|0.9991223|0.9992663</td>\n",
       "      <td>[[-0.81719744, -0.30833423, -1.0017525, -0.989...</td>\n",
       "      <td>CCCCC(CC)COC(=O)C1=CC=CC=C1C(=O)OCC(CC)CCCC</td>\n",
       "      <td>pipeline_output_test/docking/chai/B9ZZP0/</td>\n",
       "      <td>None</td>\n",
       "      <td>pipeline_output_test/docking/boltz/B9ZZP0/</td>\n",
       "      <td>pipeline_output_test/docking/boltz/B9ZZP0/B9ZZ...</td>\n",
       "      <td>TPP</td>\n",
       "      <td>pipeline_output_test/docking/vina/B9ZZP0/B9ZZP...</td>\n",
       "    </tr>\n",
       "    <tr>\n",
       "      <th>1</th>\n",
       "      <td>C8WTQ0</td>\n",
       "      <td>unreviewed</td>\n",
       "      <td>C8WTQ0_ALIAD</td>\n",
       "      <td>Acyl-CoA thioesterase</td>\n",
       "      <td>Aaci_2638</td>\n",
       "      <td>Alicyclobacillus acidocaldarius subsp. acidoca...</td>\n",
       "      <td>272</td>\n",
       "      <td>131567 (no rank), 2 (domain), 1783272 (kingdom...</td>\n",
       "      <td>521098</td>\n",
       "      <td>MSQLVTHAFDDATALSFDGRQFHGQVKAEYYNMVGPFGGITAATML...</td>\n",
       "      <td>...</td>\n",
       "      <td>38|204</td>\n",
       "      <td>0.99783176|0.99871767</td>\n",
       "      <td>[[-0.6289185, -0.2393808, -0.7725617, -0.76882...</td>\n",
       "      <td>CCCCC(CC)COC(=O)C1=CC=CC=C1C(=O)OCC(CC)CCCC</td>\n",
       "      <td>pipeline_output_test/docking/chai/C8WTQ0/</td>\n",
       "      <td>None</td>\n",
       "      <td>pipeline_output_test/docking/boltz/C8WTQ0/</td>\n",
       "      <td>pipeline_output_test/docking/boltz/C8WTQ0/C8WT...</td>\n",
       "      <td>TPP</td>\n",
       "      <td>pipeline_output_test/docking/vina/C8WTQ0/C8WTQ...</td>\n",
       "    </tr>\n",
       "  </tbody>\n",
       "</table>\n",
       "<p>2 rows × 201 columns</p>\n",
       "</div>"
      ],
      "text/plain": [
       "    Entry    Reviewed    Entry Name                        Protein names  \\\n",
       "0  B9ZZP0  unreviewed  B9ZZP0_9BACL  triacylglycerol lipase (EC 3.1.1.3)   \n",
       "1  C8WTQ0  unreviewed  C8WTQ0_ALIAD                Acyl-CoA thioesterase   \n",
       "\n",
       "  Gene Names                                           Organism  Length  \\\n",
       "0        Lip                             Geobacillus sp. SBS-4S     389   \n",
       "1  Aaci_2638  Alicyclobacillus acidocaldarius subsp. acidoca...     272   \n",
       "\n",
       "                             Taxonomic lineage (Ids)  Organism (ID)  \\\n",
       "0  131567 (no rank), 2 (domain), 1783272 (kingdom...         446356   \n",
       "1  131567 (no rank), 2 (domain), 1783272 (kingdom...         521098   \n",
       "\n",
       "                                            Sequence  ... Squidly_CR_Position  \\\n",
       "0  MAASRANDAPIVLLHGFTGWGREEMFGFKYWGGVRGDIEQWLNDNG...  ...         113|317|358   \n",
       "1  MSQLVTHAFDDATALSFDGRQFHGQVKAEYYNMVGPFGGITAATML...  ...              38|204   \n",
       "\n",
       "         Squidly_CR_probabilities  \\\n",
       "0  0.99923885|0.9991223|0.9992663   \n",
       "1           0.99783176|0.99871767   \n",
       "\n",
       "                          Squidly_CR_representations  \\\n",
       "0  [[-0.81719744, -0.30833423, -1.0017525, -0.989...   \n",
       "1  [[-0.6289185, -0.2393808, -0.7725617, -0.76882...   \n",
       "\n",
       "                                     substrate  \\\n",
       "0  CCCCC(CC)COC(=O)C1=CC=CC=C1C(=O)OCC(CC)CCCC   \n",
       "1  CCCCC(CC)COC(=O)C1=CC=CC=C1C(=O)OCC(CC)CCCC   \n",
       "\n",
       "                                    chai_dir Intermediate  \\\n",
       "0  pipeline_output_test/docking/chai/B9ZZP0/         None   \n",
       "1  pipeline_output_test/docking/chai/C8WTQ0/         None   \n",
       "\n",
       "                                    boltz_dir  \\\n",
       "0  pipeline_output_test/docking/boltz/B9ZZP0/   \n",
       "1  pipeline_output_test/docking/boltz/C8WTQ0/   \n",
       "\n",
       "                                           structure substrate_name  \\\n",
       "0  pipeline_output_test/docking/boltz/B9ZZP0/B9ZZ...            TPP   \n",
       "1  pipeline_output_test/docking/boltz/C8WTQ0/C8WT...            TPP   \n",
       "\n",
       "                                          output_dir  \n",
       "0  pipeline_output_test/docking/vina/B9ZZP0/B9ZZP...  \n",
       "1  pipeline_output_test/docking/vina/C8WTQ0/C8WTQ...  \n",
       "\n",
       "[2 rows x 201 columns]"
      ]
     },
     "execution_count": 13,
     "metadata": {},
     "output_type": "execute_result"
    }
   ],
   "source": [
    "df2"
   ]
  },
  {
   "cell_type": "code",
   "execution_count": 5,
   "id": "bb5bee3e",
   "metadata": {},
   "outputs": [
    {
     "data": {
      "application/vnd.microsoft.datawrangler.viewer.v0+json": {
       "columns": [
        {
         "name": "index",
         "rawType": "int64",
         "type": "integer"
        },
        {
         "name": "output_dir",
         "rawType": "object",
         "type": "string"
        }
       ],
       "ref": "215f1c26-05cf-4861-bc37-e0f6d9273588",
       "rows": [
        [
         "0",
         "pipeline_output/docking/vina/B9ZZP0/B9ZZP0.pdb"
        ],
        [
         "1",
         "pipeline_output/docking/vina/C8WTQ0/C8WTQ0.pdb"
        ]
       ],
       "shape": {
        "columns": 1,
        "rows": 2
       }
      },
      "text/plain": [
       "0    pipeline_output/docking/vina/B9ZZP0/B9ZZP0.pdb\n",
       "1    pipeline_output/docking/vina/C8WTQ0/C8WTQ0.pdb\n",
       "Name: output_dir, dtype: object"
      ]
     },
     "execution_count": 5,
     "metadata": {},
     "output_type": "execute_result"
    }
   ],
   "source": [
    "import pandas as pd\n",
    "df = pd.read_pickle('/nvme2/helen/EnzymeStructuralFiltering/pipeline_output/docking/vina.pkl').head(2)\n",
    "df.output_dir"
   ]
  },
  {
   "cell_type": "code",
   "execution_count": 8,
   "id": "488d7f21",
   "metadata": {},
   "outputs": [
    {
     "name": "stdout",
     "output_type": "stream",
     "text": [
      "Expects active site residues as a string separated by |. Zero indexed.\n",
      "Structure saved to /nvme2/helen/masterthesis/2_manuscript/martinez_vinyloleate_output/docking/B9ZZP0/B9ZZP0_AF2.pdb\n",
      "/nvme2/helen/masterthesis/2_manuscript/martinez_vinyloleate_output/docking/B9ZZP0/B9ZZP0.pdb\n"
     ]
    },
    {
     "name": "stderr",
     "output_type": "stream",
     "text": [
      "1 molecule converted\n",
      "[15:52:42] Running Uncharger\n"
     ]
    },
    {
     "name": "stdout",
     "output_type": "stream",
     "text": [
      "The molecule has 58 atoms.\n",
      "------- WARN YOU NEED VINA ENV if ya dont this next step will probs fail -----------\n",
      "conda run -n vina mk_prepare_ligand.py -i /nvme2/helen/masterthesis/2_manuscript/martinez_vinyloleate_output/docking/TPP/TPP.sdf -o /nvme2/helen/masterthesis/2_manuscript/martinez_vinyloleate_output/docking/TPP/TPP.pdbqt\n"
     ]
    },
    {
     "name": "stderr",
     "output_type": "stream",
     "text": [
      "\n",
      "CondaError: KeyboardInterrupt\n",
      "\n"
     ]
    },
    {
     "name": "stdout",
     "output_type": "stream",
     "text": [
      "<Residue THR het=  resseq=51 icode= >\n",
      "[array([-11.186,   3.56 ,  -2.628], dtype=float32)]\n",
      "vina --config /nvme2/helen/masterthesis/2_manuscript/martinez_vinyloleate_output/docking/B9ZZP0/B9ZZP0-TPP_conf.txt --out /nvme2/helen/masterthesis/2_manuscript/martinez_vinyloleate_output/docking/B9ZZP0/B9ZZP0-TPP.pdb\n"
     ]
    },
    {
     "ename": "",
     "evalue": "",
     "output_type": "error",
     "traceback": [
      "\u001b[1;31mCannot execute code, session has been disposed. Please try restarting the Kernel."
     ]
    },
    {
     "ename": "",
     "evalue": "",
     "output_type": "error",
     "traceback": [
      "\u001b[1;31mCannot execute code, session has been disposed. Please try restarting the Kernel. \n",
      "\u001b[1;31mView Jupyter <a href='command:jupyter.viewOutput'>log</a> for further details."
     ]
    }
   ],
   "source": [
    "# Vina\n",
    "\n",
    "# Run in docko environment\n",
    "import sys\n",
    "#sys.path.append('/home/helen/enzyme-tk')\n",
    "from enzymetk.dock_vina_step import Vina\n",
    "from enzymetk.save_step import Save\n",
    "import pandas as pd\n",
    "import os\n",
    "#os.environ['MKL_THREADING_LAYER'] = 'GNU'\n",
    "\n",
    "df = pd.read_pickle('/nvme2/helen/EnzymeStructuralFiltering/pipeline_output/docking/boltz.pkl').head(2)\n",
    "\n",
    "substrate_smiles = 'CCCCCCCC/C=C\\CCCCCCCC(=O)OC=C'\n",
    "substrate_name = 'TPP'\n",
    "\n",
    "df['substrate_name'] = substrate_name\n",
    "df.loc[:, 'substrates'] = substrate_smiles\n",
    "df['structure'] = None\n",
    "df['Squidly_CR_Position'] = '50'\n",
    "\n",
    "\n",
    "num_threads = 1\n",
    "id_col = 'Entry'\n",
    "sequence_col = 'Sequence'\n",
    "substrate_col = 'substrates'\n",
    "structure_col = 'structure' \n",
    "substrate_name_col = 'substrate_name' # re-run first cell of notebook to define this variable\n",
    "active_site_col =  'Squidly_CR_Position' \n",
    "output_dir = '/nvme2/helen/masterthesis/2_manuscript/martinez_vinyloleate_output/docking'\n",
    "\n",
    "df << (Vina(id_col, structure_col, sequence_col, substrate_col, substrate_name_col, active_site_col, output_dir, num_threads) >> Save('vina.pkl'))"
   ]
  },
  {
   "cell_type": "code",
   "execution_count": null,
   "id": "65fd39c4",
   "metadata": {},
   "outputs": [],
   "source": [
    "# Vina\n",
    "\n",
    "# Run in docko environment\n",
    "import sys\n",
    "sys.path.append('/home/helen/enzyme-tk')\n",
    "from enzymetk.dock_vina_step import Vina\n",
    "from enzymetk.save_step import Save\n",
    "import pandas as pd\n",
    "import os\n",
    "#os.environ['MKL_THREADING_LAYER'] = 'GNU'\n",
    "\n",
    "df = pd.read_pickle('boltz.pkl')\n",
    "\n",
    "substrate_smiles = 'C1=CC=C(C=C1)OP(=O)(OC2=CC=CC=C2)OC3=CC=CC=C3'\n",
    "substrate_name = 'TPP'\n",
    "\n",
    "df['substrate_name'] = substrate_name\n",
    "df.loc[:, 'substrates'] = substrate_smiles\n",
    "output_dir = 'vina/'\n",
    "\n",
    "# Because metagenomic proteins are not present on AF2 database, we will just pass boltz predicted structures to Vina.\n",
    "df['structure'] = df.apply(\n",
    "    lambda row: '/nvme2/helen/masterthesis/filter_predictions/4_metagenomics_predictions/boltz/' + \n",
    "               row['output_dir'].split('//')[1].split('/')[0] + '/' +  # Extract the subdirectory part\n",
    "               f\"boltz_results_{row['output_dir'].split('//')[1].split('/')[0]}/predictions/{row['Entry']}/{row['Entry']}_model_0.cif\",\n",
    "    axis=1\n",
    ")\n",
    "\n",
    "num_threads = 1\n",
    "id_col = 'Entry'\n",
    "sequence_col = 'Sequence'\n",
    "substrate_col = 'substrates'\n",
    "structure_col = 'structure' \n",
    "substrate_name_col = 'substrate_name' # re-run first cell of notebook to define this variable\n",
    "active_site_col =  'Squidly_CR_Position' \n",
    "\n",
    "df << (Vina(id_col, structure_col, sequence_col, substrate_col, substrate_name_col, active_site_col, output_dir, num_threads) >> Save('vina.pkl'))"
   ]
  },
  {
   "cell_type": "markdown",
   "id": "9ff07f93",
   "metadata": {},
   "source": [
    "# Implementing PLIP"
   ]
  },
  {
   "cell_type": "code",
   "execution_count": null,
   "id": "769caa0c",
   "metadata": {},
   "outputs": [
    {
     "name": "stdout",
     "output_type": "stream",
     "text": [
      "Protein structure B9ZZP0_0_chai_Protein with ligands:\n",
      "LIG:B:1\n"
     ]
    },
    {
     "ename": "NameError",
     "evalue": "name 'features' is not defined",
     "output_type": "error",
     "traceback": [
      "\u001b[31m---------------------------------------------------------------------------\u001b[39m",
      "\u001b[31mNameError\u001b[39m                                 Traceback (most recent call last)",
      "\u001b[36mCell\u001b[39m\u001b[36m \u001b[39m\u001b[32mIn[11]\u001b[39m\u001b[32m, line 34\u001b[39m\n\u001b[32m     31\u001b[39m \u001b[38;5;28;01mfrom\u001b[39;00m\u001b[38;5;250m \u001b[39m\u001b[34;01mpathlib\u001b[39;00m\u001b[38;5;250m \u001b[39m\u001b[38;5;28;01mimport\u001b[39;00m Path\n\u001b[32m     33\u001b[39m pdb_path = Path(\u001b[33m\"\u001b[39m\u001b[33m/nvme2/helen/EnzymeStructuralFiltering/pipeline_output/superimposition/preparedfiles_for_superimposition/B9ZZP0_0_chai.pdb\u001b[39m\u001b[33m\"\u001b[39m)\n\u001b[32m---> \u001b[39m\u001b[32m34\u001b[39m interaction_features = \u001b[43mextract_plip_interaction_features\u001b[49m\u001b[43m(\u001b[49m\u001b[43mpdb_path\u001b[49m\u001b[43m)\u001b[49m\n\u001b[32m     36\u001b[39m \u001b[38;5;28;01mif\u001b[39;00m interaction_features:\n\u001b[32m     37\u001b[39m     \u001b[38;5;28mprint\u001b[39m(interaction_features)\n",
      "\u001b[36mCell\u001b[39m\u001b[36m \u001b[39m\u001b[32mIn[11]\u001b[39m\u001b[32m, line 26\u001b[39m, in \u001b[36mextract_plip_interaction_features\u001b[39m\u001b[34m(pdb_file)\u001b[39m\n\u001b[32m     10\u001b[39m \u001b[38;5;28mprint\u001b[39m(\u001b[38;5;28mcomplex\u001b[39m)\n\u001b[32m     12\u001b[39m \u001b[38;5;250m\u001b[39m\u001b[33;03m'''\u001b[39;00m\n\u001b[32m     13\u001b[39m \u001b[33;03mfor lig_id in complex.ligands:\u001b[39;00m\n\u001b[32m     14\u001b[39m \u001b[33;03m    interactions = complex.interaction_sets[lig_id]\u001b[39;00m\n\u001b[32m   (...)\u001b[39m\u001b[32m     24\u001b[39m \u001b[33;03m    }\u001b[39;00m\n\u001b[32m     25\u001b[39m \u001b[33;03m'''\u001b[39;00m\n\u001b[32m---> \u001b[39m\u001b[32m26\u001b[39m \u001b[38;5;28;01mreturn\u001b[39;00m \u001b[43mfeatures\u001b[49m\n",
      "\u001b[31mNameError\u001b[39m: name 'features' is not defined"
     ]
    }
   ],
   "source": [
    "# PLIP\n",
    "\n",
    "\n",
    "from plip.structure.preparation import PDBComplex\n",
    "from pathlib import Path\n",
    "\n",
    "def extract_plip_interaction_features(pdb_file):\n",
    "    mol = PDBComplex()\n",
    "    mol.load_pdb(str(pdb_file))  # use str in case it's a Path object\n",
    "    mol.analyze()\n",
    "    print(mol.ligands)\n",
    "\n",
    "    '''\n",
    "    for lig_id in complex.ligands:\n",
    "        interactions = complex.interaction_sets[lig_id]\n",
    "        features = {\n",
    "            \"hbonds_donor\": len(interactions.hbonds_ldon),\n",
    "            \"hbonds_acceptor\": len(interactions.hbonds_pdon),\n",
    "            \"hydrophobic_contacts\": len(interactions.hydrophobic_contacts),\n",
    "            \"salt_bridges\": len(interactions.saltbridges),\n",
    "            \"pi_stacking\": len(interactions.pistacking),\n",
    "            \"pi_cation\": len(interactions.pication),\n",
    "            \"metal_coordination\": len(interactions.metal_complexes),\n",
    "            \"halogen_bonds\": len(interactions.halogenbonds),\n",
    "        }\n",
    "    '''\n",
    "    return features  # or collect multiple if needed\n",
    "\n",
    "\n",
    "\n",
    "pdb_path = Path(\"/nvme2/helen/EnzymeStructuralFiltering/pipeline_output/superimposition/preparedfiles_for_superimposition/B9ZZP0_0_chai.pdb\")\n",
    "interaction_features = extract_plip_interaction_features(pdb_path)\n",
    "\n",
    "if interaction_features:\n",
    "    print(interaction_features)\n",
    "else:\n",
    "    print(\"No ligand or no interactions found.\")\n",
    "\n",
    "\n",
    "mol = PDBComplex()\n",
    "mol.load_pdb(\"/nvme2/helen/EnzymeStructuralFiltering/pipeline_output/superimposition/preparedfiles_for_superimposition/B9ZZP0_0_chai.pdb\")\n",
    "mol.analyze()\n",
    "print(mol.ligands)\n",
    "\n",
    "longnames = [x.longname for x in mol.ligands]\n",
    "bsids = [\":\".join([x.hetid, x.chain, str(x.position)]) for x in mol.ligands]\n",
    "print(bsids)\n",
    "\n",
    "indices = [j for j,x in enumerate(longnames) if x == 'LIG']\n",
    "\n",
    "for idx in indices:\n",
    "    bsid = bsids[idx]\n",
    "    interactions = mol.interaction_sets[bsid]\n",
    "    print(interactions.all_itypes)\n"
   ]
  },
  {
   "cell_type": "code",
   "execution_count": 21,
   "id": "7a426aa8",
   "metadata": {},
   "outputs": [
    {
     "ename": "AttributeError",
     "evalue": "'PLInteraction' object has no attribute 'saltbridges'",
     "output_type": "error",
     "traceback": [
      "\u001b[31m---------------------------------------------------------------------------\u001b[39m",
      "\u001b[31mAttributeError\u001b[39m                            Traceback (most recent call last)",
      "\u001b[36mCell\u001b[39m\u001b[36m \u001b[39m\u001b[32mIn[21]\u001b[39m\u001b[32m, line 42\u001b[39m\n\u001b[32m     37\u001b[39m     \u001b[38;5;28;01mreturn\u001b[39;00m \u001b[38;5;28;01mNone\u001b[39;00m\n\u001b[32m     40\u001b[39m interactions = extract_plip_interaction_features(\u001b[33m\"\u001b[39m\u001b[33m/nvme2/helen/EnzymeStructuralFiltering/pipeline_output/superimposition/preparedfiles_for_superimposition/B9ZZP0_0_chai.pdb\u001b[39m\u001b[33m\"\u001b[39m, defined_bsid=\u001b[33m\"\u001b[39m\u001b[33mLIG:B:1\u001b[39m\u001b[33m\"\u001b[39m)\n\u001b[32m---> \u001b[39m\u001b[32m42\u001b[39m \u001b[38;5;28mprint\u001b[39m(\u001b[43minteractions\u001b[49m\u001b[43m.\u001b[49m\u001b[43msaltbridges\u001b[49m)\n",
      "\u001b[31mAttributeError\u001b[39m: 'PLInteraction' object has no attribute 'saltbridges'"
     ]
    }
   ],
   "source": [
    "from plip.structure.preparation import PDBComplex\n",
    "\n",
    "def extract_plip_interaction_features(pdb_path, defined_bsid=None, preferred_ligand_name=\"LIG\"):\n",
    "    '''\n",
    "    Run PLIP on PDB structure and extract interaction features.\n",
    "    '''\n",
    "    mol = PDBComplex()\n",
    "    mol.load_pdb(str(pdb_path))\n",
    "    mol.analyze()\n",
    "\n",
    "    # If present, use preferred_ligand_name\n",
    "    if defined_bsid and defined_bsid in mol.interaction_sets:\n",
    "        interactions = mol.interaction_sets[defined_bsid]\n",
    "        return interactions\n",
    "\n",
    "    # Fallback: Automatic ligand detection\n",
    "    print(\"Defined BSID not found. Falling back to auto-detection.\")\n",
    "\n",
    "    longnames = [x.longname for x in mol.ligands]\n",
    "    bsids = [\":\".join([x.hetid, x.chain, str(x.position)]) for x in mol.ligands]\n",
    "\n",
    "    # Prefer ligands named 'LIG' (common for docked molecules)\n",
    "    for idx, name in enumerate(longnames):\n",
    "        if name == preferred_ligand_name:\n",
    "            bsid = bsids[idx]\n",
    "            if bsid in mol.interaction_sets:\n",
    "                print(f\"Auto-detected binding site: {bsid}\")\n",
    "                return mol.interaction_sets[bsid]\n",
    "\n",
    "    # Fallback: just use the first available ligand\n",
    "    if bsids:\n",
    "        bsid = bsids[0]\n",
    "        print(f\"No preferred ligand found. Using first available: {bsid}\")\n",
    "        return mol.interaction_sets[bsid]\n",
    "\n",
    "    print(\"No binding sites found.\")\n",
    "    return None\n",
    "\n",
    "\n",
    "interactions = extract_plip_interaction_features(\"/nvme2/helen/EnzymeStructuralFiltering/pipeline_output/superimposition/preparedfiles_for_superimposition/B9ZZP0_0_chai.pdb\", defined_bsid=\"LIG:B:1\")\n",
    "\n",
    "print(interactions.saltbridges)\n"
   ]
  },
  {
   "cell_type": "code",
   "execution_count": 23,
   "id": "1039b611",
   "metadata": {},
   "outputs": [
    {
     "name": "stdout",
     "output_type": "stream",
     "text": [
      "['LIG:B:1']\n"
     ]
    }
   ],
   "source": [
    "print(list(mol.interaction_sets.keys()))\n"
   ]
  },
  {
   "cell_type": "code",
   "execution_count": 1,
   "id": "88baa9ac",
   "metadata": {},
   "outputs": [
    {
     "data": {
      "application/vnd.microsoft.datawrangler.viewer.v0+json": {
       "columns": [
        {
         "name": "index",
         "rawType": "int64",
         "type": "integer"
        },
        {
         "name": "ligand_id",
         "rawType": "object",
         "type": "string"
        },
        {
         "name": "hbonds_donor",
         "rawType": "object",
         "type": "unknown"
        },
        {
         "name": "hbonds_acceptor",
         "rawType": "int64",
         "type": "integer"
        },
        {
         "name": "hydrophobic_contacts",
         "rawType": "object",
         "type": "unknown"
        },
        {
         "name": "salt_bridges",
         "rawType": "int64",
         "type": "integer"
        },
        {
         "name": "pi_stacking",
         "rawType": "int64",
         "type": "integer"
        },
        {
         "name": "metal_coordination",
         "rawType": "int64",
         "type": "integer"
        }
       ],
       "ref": "169a47f2-d78d-4b89-95e0-057125e9893f",
       "rows": [
        [
         "0",
         "LIG:B:1",
         "[]",
         "0",
         "[hydroph_interaction(bsatom=<openbabel.pybel.Atom object at 0x7fb92b8bb890>, bsatom_orig_idx=121, ligatom=<openbabel.pybel.Atom object at 0x7fb92b736890>, ligatom_orig_idx=3068, distance=3.82152391069322, restype='PHE', resnr=17, reschain='A', restype_l='LIG', resnr_l=1, reschain_l='B'), hydroph_interaction(bsatom=<openbabel.pybel.Atom object at 0x7fb92b747150>, bsatom_orig_idx=234, ligatom=<openbabel.pybel.Atom object at 0x7fb92b5fd590>, ligatom_orig_idx=3090, distance=3.8007630812772315, restype='TYR', resnr=30, reschain='A', restype_l='LIG', resnr_l=1, reschain_l='B'), hydroph_interaction(bsatom=<openbabel.pybel.Atom object at 0x7fb92b784f10>, bsatom_orig_idx=1304, ligatom=<openbabel.pybel.Atom object at 0x7fb92b5fcb50>, ligatom_orig_idx=3069, distance=3.662945536040633, restype='THR', resnr=169, reschain='A', restype_l='LIG', resnr_l=1, reschain_l='B'), hydroph_interaction(bsatom=<openbabel.pybel.Atom object at 0x7fb92b785990>, bsatom_orig_idx=1325, ligatom=<openbabel.pybel.Atom object at 0x7fb92b5fcbd0>, ligatom_orig_idx=3070, distance=3.684713421692384, restype='VAL', resnr=172, reschain='A', restype_l='LIG', resnr_l=1, reschain_l='B'), hydroph_interaction(bsatom=<openbabel.pybel.Atom object at 0x7fb92b786e10>, bsatom_orig_idx=1366, ligatom=<openbabel.pybel.Atom object at 0x7fb92b5fcf10>, ligatom_orig_idx=3077, distance=3.9472415684880495, restype='PHE', resnr=177, reschain='A', restype_l='LIG', resnr_l=1, reschain_l='B'), hydroph_interaction(bsatom=<openbabel.pybel.Atom object at 0x7fb92b786f10>, bsatom_orig_idx=1368, ligatom=<openbabel.pybel.Atom object at 0x7fb92b5fcbd0>, ligatom_orig_idx=3070, distance=3.594582729608543, restype='PHE', resnr=177, reschain='A', restype_l='LIG', resnr_l=1, reschain_l='B'), hydroph_interaction(bsatom=<openbabel.pybel.Atom object at 0x7fb92b788f50>, bsatom_orig_idx=1432, ligatom=<openbabel.pybel.Atom object at 0x7fb92b5fcf90>, ligatom_orig_idx=3078, distance=3.7028051528537116, restype='LEU', resnr=184, reschain='A', restype_l='LIG', resnr_l=1, reschain_l='B'), hydroph_interaction(bsatom=<openbabel.pybel.Atom object at 0x7fb92b788dd0>, bsatom_orig_idx=1429, ligatom=<openbabel.pybel.Atom object at 0x7fb92b5fd010>, ligatom_orig_idx=3079, distance=3.9234470813303943, restype='LEU', resnr=184, reschain='A', restype_l='LIG', resnr_l=1, reschain_l='B'), hydroph_interaction(bsatom=<openbabel.pybel.Atom object at 0x7fb92b789fd0>, bsatom_orig_idx=1462, ligatom=<openbabel.pybel.Atom object at 0x7fb92b5fd410>, ligatom_orig_idx=3087, distance=3.913465727459486, restype='VAL', resnr=188, reschain='A', restype_l='LIG', resnr_l=1, reschain_l='B'), hydroph_interaction(bsatom=<openbabel.pybel.Atom object at 0x7fb92b7a4f50>, bsatom_orig_idx=1936, ligatom=<openbabel.pybel.Atom object at 0x7fb92b736890>, ligatom_orig_idx=3068, distance=3.990079447830582, restype='LEU', resnr=245, reschain='A', restype_l='LIG', resnr_l=1, reschain_l='B'), hydroph_interaction(bsatom=<openbabel.pybel.Atom object at 0x7fb92b6eb9d0>, bsatom_orig_idx=2530, ligatom=<openbabel.pybel.Atom object at 0x7fb934434d50>, ligatom_orig_idx=3067, distance=3.7084429347099306, restype='VAL', resnr=321, reschain='A', restype_l='LIG', resnr_l=1, reschain_l='B'), hydroph_interaction(bsatom=<openbabel.pybel.Atom object at 0x7fb92b8bb710>, bsatom_orig_idx=118, ligatom=<openbabel.pybel.Atom object at 0x7fbc825cbc50>, ligatom_orig_idx=3065, distance=2.674136496142259, restype='PHE', resnr=17, reschain='A', restype_l='LIG', resnr_l=1, reschain_l='B'), hydroph_interaction(bsatom=<openbabel.pybel.Atom object at 0x7fb92b6e4710>, bsatom_orig_idx=2301, ligatom=<openbabel.pybel.Atom object at 0x7fb92b5fd010>, ligatom_orig_idx=3079, distance=3.5039186634395496, restype='PHE', resnr=291, reschain='A', restype_l='LIG', resnr_l=1, reschain_l='B'), hydroph_interaction(bsatom=<openbabel.pybel.Atom object at 0x7fb92b6eb650>, bsatom_orig_idx=2523, ligatom=<openbabel.pybel.Atom object at 0x7fb92b5fcb50>, ligatom_orig_idx=3069, distance=3.6319224936664054, restype='ILE', resnr=320, reschain='A', restype_l='LIG', resnr_l=1, reschain_l='B'), hydroph_interaction(bsatom=<openbabel.pybel.Atom object at 0x7fb92b701090>, bsatom_orig_idx=2830, ligatom=<openbabel.pybel.Atom object at 0x7fb92b5fd610>, ligatom_orig_idx=3091, distance=3.439885608563168, restype='LEU', resnr=360, reschain='A', restype_l='LIG', resnr_l=1, reschain_l='B')]",
         "0",
         "1",
         "0"
        ]
       ],
       "shape": {
        "columns": 7,
        "rows": 1
       }
      },
      "text/html": [
       "<div>\n",
       "<style scoped>\n",
       "    .dataframe tbody tr th:only-of-type {\n",
       "        vertical-align: middle;\n",
       "    }\n",
       "\n",
       "    .dataframe tbody tr th {\n",
       "        vertical-align: top;\n",
       "    }\n",
       "\n",
       "    .dataframe thead th {\n",
       "        text-align: right;\n",
       "    }\n",
       "</style>\n",
       "<table border=\"1\" class=\"dataframe\">\n",
       "  <thead>\n",
       "    <tr style=\"text-align: right;\">\n",
       "      <th></th>\n",
       "      <th>ligand_id</th>\n",
       "      <th>hbonds_donor</th>\n",
       "      <th>hbonds_acceptor</th>\n",
       "      <th>hydrophobic_contacts</th>\n",
       "      <th>salt_bridges</th>\n",
       "      <th>pi_stacking</th>\n",
       "      <th>metal_coordination</th>\n",
       "    </tr>\n",
       "  </thead>\n",
       "  <tbody>\n",
       "    <tr>\n",
       "      <th>0</th>\n",
       "      <td>LIG:B:1</td>\n",
       "      <td>[]</td>\n",
       "      <td>0</td>\n",
       "      <td>[(Atom: 6 (-3.13 -9.07 2.13), 121, Atom: 6 (-6...</td>\n",
       "      <td>0</td>\n",
       "      <td>1</td>\n",
       "      <td>0</td>\n",
       "    </tr>\n",
       "  </tbody>\n",
       "</table>\n",
       "</div>"
      ],
      "text/plain": [
       "  ligand_id hbonds_donor  hbonds_acceptor  \\\n",
       "0   LIG:B:1           []                0   \n",
       "\n",
       "                                hydrophobic_contacts  salt_bridges  \\\n",
       "0  [(Atom: 6 (-3.13 -9.07 2.13), 121, Atom: 6 (-6...             0   \n",
       "\n",
       "   pi_stacking  metal_coordination  \n",
       "0            1                   0  "
      ]
     },
     "execution_count": 1,
     "metadata": {},
     "output_type": "execute_result"
    }
   ],
   "source": [
    "import pandas as pd\n",
    "from plip.structure.preparation import PDBComplex\n",
    "\n",
    "def extract_interaction_row(interactions, ligand_id):\n",
    "    return {\n",
    "        \"ligand_id\": ligand_id,\n",
    "        \"hbonds_donor\": interactions.hbonds_ldon,\n",
    "        \"hbonds_acceptor\": len(interactions.hbonds_pdon),\n",
    "        \"\"\n",
    "        \"hydrophobic_contacts\": (interactions.hydrophobic_contacts),\n",
    "        \"salt_bridges\": len(interactions.saltbridge_lneg),\n",
    "        \"salt_bridges\": len(interactions.all_hbonds_ldon),\n",
    "        \"pi_stacking\": len(interactions.pistacking),\n",
    "        #\"pi_cation\": len(interactions.pication),\n",
    "        \"metal_coordination\": len(interactions.metal_complexes),\n",
    "        #\"halogen_bonds\": len(interactions.halogenbonds),\n",
    "\n",
    "    }\n",
    "\n",
    "def get_all_interactions_as_df(pdb_file, preferred_ligand_name=\"LIG\"):\n",
    "    mol = PDBComplex()\n",
    "    mol.load_pdb(str(pdb_file))\n",
    "    mol.analyze()\n",
    "\n",
    "    rows = []\n",
    "    for lig in mol.ligands:\n",
    "        lig_id = \":\".join([lig.hetid, lig.chain, str(lig.position)])\n",
    "        if lig_id not in mol.interaction_sets:\n",
    "            continue\n",
    "        interactions = mol.interaction_sets[lig_id]\n",
    "        row = extract_interaction_row(interactions, lig_id)\n",
    "        rows.append(row)\n",
    "\n",
    "    return pd.DataFrame(rows)\n",
    "\n",
    "\n",
    "df = get_all_interactions_as_df(\"pipeline_output/superimposition/preparedfiles_for_superimposition/B9ZZP0_0_chai.pdb\")\n",
    "df\n",
    "\n"
   ]
  },
  {
   "cell_type": "code",
   "execution_count": 4,
   "id": "a43be749",
   "metadata": {},
   "outputs": [
    {
     "name": "stdout",
     "output_type": "stream",
     "text": [
      "[ligand(mol=<openbabel.pybel.Molecule object at 0x7f58840d9a10>, hetid='LIG', chain='B', position=1, water=[], members=[('LIG', 'B', 1)], longname='LIG', type='SMALLMOLECULE', atomorder=[1, 2, 3, 4, 5, 27, 28, 6, 7, 8, 26, 9, 10, 11, 12, 13, 14, 15, 25, 16, 17, 18, 23, 24, 19, 20, 21, 22], can_to_pdb={1: 3063, 2: 3064, 3: 3065, 4: 3066, 5: 3067, 27: 3068, 28: 3069, 6: 3070, 7: 3071, 8: 3072, 26: 3073, 9: 3074, 10: 3075, 11: 3076, 12: 3077, 13: 3078, 14: 3079, 15: 3080, 25: 3081, 16: 3082, 17: 3083, 18: 3084, 23: 3085, 24: 3086, 19: 3087, 20: 3088, 21: 3089, 22: 3090})]\n",
      "['LIG:B:1']\n",
      "[pistack(proteinring=aromatic_ring(atoms=[<openbabel.pybel.Atom object at 0x7f5883516090>, <openbabel.pybel.Atom object at 0x7f5883516110>, <openbabel.pybel.Atom object at 0x7f5883516190>, <openbabel.pybel.Atom object at 0x7f5883516210>, <openbabel.pybel.Atom object at 0x7f5883516290>, <openbabel.pybel.Atom object at 0x7f5883516310>], orig_atoms=[<openbabel.pybel.Atom object at 0x7f58833a00d0>, <openbabel.pybel.Atom object at 0x7f58833a01d0>, <openbabel.pybel.Atom object at 0x7f58833a0210>, <openbabel.pybel.Atom object at 0x7f58833a0290>, <openbabel.pybel.Atom object at 0x7f58833a03d0>, <openbabel.pybel.Atom object at 0x7f58833a04d0>], atoms_orig_idx=[1400, 1401, 1402, 1403, 1404, 1405], normal=array([-0.2005434 , -0.61452767, -0.76297975]), obj=<openbabel.openbabel.OBRing; proxy of <Swig Object of type 'OpenBabel::OBRing *' at 0x7f5883397210> >, center=[-3.0868333333333333, -14.615, 2.6555], type='6-membered'), ligandring=aromatic_ring(atoms=[<openbabel.pybel.Atom object at 0x7f588338f250>, <openbabel.pybel.Atom object at 0x7f588338f2d0>, <openbabel.pybel.Atom object at 0x7f588338f350>, <openbabel.pybel.Atom object at 0x7f588338f3d0>, <openbabel.pybel.Atom object at 0x7f588338f450>, <openbabel.pybel.Atom object at 0x7f588338f4d0>], orig_atoms=[<openbabel.pybel.Atom object at 0x7f588338fcd0>, <openbabel.pybel.Atom object at 0x7f588338fc90>, <openbabel.pybel.Atom object at 0x7f588338fdd0>, <openbabel.pybel.Atom object at 0x7f588338fe50>, <openbabel.pybel.Atom object at 0x7f588338fed0>, <openbabel.pybel.Atom object at 0x7f588338ff90>], atoms_orig_idx=[3075, 3076, 3077, 3078, 3079, 3080], normal=array([-0.82554681,  0.27097417, -0.49502067]), obj=<openbabel.openbabel.OBRing; proxy of <Swig Object of type 'OpenBabel::OBRing *' at 0x7f588338bde0> >, center=[-7.6255, -11.976500000000001, 1.0911666666666664], type='6-membered'), distance=5.4779846785920165, angle=67.86887141356179, offset=1.6094314157091731, type='T', restype='PHE', resnr=181, reschain='A', restype_l='LIG', resnr_l=1, reschain_l='B'), hydroph_interaction(bsatom=<openbabel.pybel.Atom object at 0x7f58840dd1d0>, bsatom_orig_idx=121, ligatom=<openbabel.pybel.Atom object at 0x7f588338eed0>, ligatom_orig_idx=3068, distance=3.82152391069322, restype='PHE', resnr=17, reschain='A', restype_l='LIG', resnr_l=1, reschain_l='B'), hydroph_interaction(bsatom=<openbabel.pybel.Atom object at 0x7f588365a210>, bsatom_orig_idx=234, ligatom=<openbabel.pybel.Atom object at 0x7f588338f9d0>, ligatom_orig_idx=3090, distance=3.8007630812772315, restype='TYR', resnr=30, reschain='A', restype_l='LIG', resnr_l=1, reschain_l='B'), hydroph_interaction(bsatom=<openbabel.pybel.Atom object at 0x7f5883513050>, bsatom_orig_idx=1304, ligatom=<openbabel.pybel.Atom object at 0x7f588338ef90>, ligatom_orig_idx=3069, distance=3.662945536040633, restype='THR', resnr=169, reschain='A', restype_l='LIG', resnr_l=1, reschain_l='B'), hydroph_interaction(bsatom=<openbabel.pybel.Atom object at 0x7f5883513ad0>, bsatom_orig_idx=1325, ligatom=<openbabel.pybel.Atom object at 0x7f588338f010>, ligatom_orig_idx=3070, distance=3.684713421692384, restype='VAL', resnr=172, reschain='A', restype_l='LIG', resnr_l=1, reschain_l='B'), hydroph_interaction(bsatom=<openbabel.pybel.Atom object at 0x7f5883514f90>, bsatom_orig_idx=1366, ligatom=<openbabel.pybel.Atom object at 0x7f588338f350>, ligatom_orig_idx=3077, distance=3.9472415684880495, restype='PHE', resnr=177, reschain='A', restype_l='LIG', resnr_l=1, reschain_l='B'), hydroph_interaction(bsatom=<openbabel.pybel.Atom object at 0x7f5883515090>, bsatom_orig_idx=1368, ligatom=<openbabel.pybel.Atom object at 0x7f588338f010>, ligatom_orig_idx=3070, distance=3.594582729608543, restype='PHE', resnr=177, reschain='A', restype_l='LIG', resnr_l=1, reschain_l='B'), hydroph_interaction(bsatom=<openbabel.pybel.Atom object at 0x7f5883517090>, bsatom_orig_idx=1432, ligatom=<openbabel.pybel.Atom object at 0x7f588338f3d0>, ligatom_orig_idx=3078, distance=3.7028051528537116, restype='LEU', resnr=184, reschain='A', restype_l='LIG', resnr_l=1, reschain_l='B'), hydroph_interaction(bsatom=<openbabel.pybel.Atom object at 0x7f5883516f10>, bsatom_orig_idx=1429, ligatom=<openbabel.pybel.Atom object at 0x7f588338f450>, ligatom_orig_idx=3079, distance=3.9234470813303943, restype='LEU', resnr=184, reschain='A', restype_l='LIG', resnr_l=1, reschain_l='B'), hydroph_interaction(bsatom=<openbabel.pybel.Atom object at 0x7f5883517f90>, bsatom_orig_idx=1462, ligatom=<openbabel.pybel.Atom object at 0x7f588338f850>, ligatom_orig_idx=3087, distance=3.913465727459486, restype='VAL', resnr=188, reschain='A', restype_l='LIG', resnr_l=1, reschain_l='B'), hydroph_interaction(bsatom=<openbabel.pybel.Atom object at 0x7f5883536f10>, bsatom_orig_idx=1936, ligatom=<openbabel.pybel.Atom object at 0x7f588338eed0>, ligatom_orig_idx=3068, distance=3.990079447830582, restype='LEU', resnr=245, reschain='A', restype_l='LIG', resnr_l=1, reschain_l='B'), hydroph_interaction(bsatom=<openbabel.pybel.Atom object at 0x7f5883485c50>, bsatom_orig_idx=2530, ligatom=<openbabel.pybel.Atom object at 0x7f58834cccd0>, ligatom_orig_idx=3067, distance=3.7084429347099306, restype='VAL', resnr=321, reschain='A', restype_l='LIG', resnr_l=1, reschain_l='B'), hydroph_interaction(bsatom=<openbabel.pybel.Atom object at 0x7f58840dd510>, bsatom_orig_idx=118, ligatom=<openbabel.pybel.Atom object at 0x7f58836cb190>, ligatom_orig_idx=3065, distance=2.674136496142259, restype='PHE', resnr=17, reschain='A', restype_l='LIG', resnr_l=1, reschain_l='B'), hydroph_interaction(bsatom=<openbabel.pybel.Atom object at 0x7f5883476950>, bsatom_orig_idx=2301, ligatom=<openbabel.pybel.Atom object at 0x7f588338f450>, ligatom_orig_idx=3079, distance=3.5039186634395496, restype='PHE', resnr=291, reschain='A', restype_l='LIG', resnr_l=1, reschain_l='B'), hydroph_interaction(bsatom=<openbabel.pybel.Atom object at 0x7f58834858d0>, bsatom_orig_idx=2523, ligatom=<openbabel.pybel.Atom object at 0x7f588338ef90>, ligatom_orig_idx=3069, distance=3.6319224936664054, restype='ILE', resnr=320, reschain='A', restype_l='LIG', resnr_l=1, reschain_l='B'), hydroph_interaction(bsatom=<openbabel.pybel.Atom object at 0x7f5883493450>, bsatom_orig_idx=2830, ligatom=<openbabel.pybel.Atom object at 0x7f588338fa50>, ligatom_orig_idx=3091, distance=3.439885608563168, restype='LEU', resnr=360, reschain='A', restype_l='LIG', resnr_l=1, reschain_l='B')]\n"
     ]
    }
   ],
   "source": [
    "from plip.structure.preparation import PDBComplex\n",
    "\n",
    "mol = PDBComplex()\n",
    "mol.load_pdb(\"/nvme2/helen/EnzymeStructuralFiltering/pipeline_output/superimposition/preparedfiles_for_superimposition/B9ZZP0_0_chai.pdb\")\n",
    "mol.analyze()\n",
    "print(mol.ligands)\n",
    "\n",
    "longnames = [x.longname for x in mol.ligands]\n",
    "bsids = [\":\".join([x.hetid, x.chain, str(x.position)]) for x in mol.ligands]\n",
    "print(bsids)\n",
    "\n",
    "indices = [j for j,x in enumerate(longnames) if x == 'LIG']\n",
    "\n",
    "for idx in indices:\n",
    "    bsid = bsids[idx]\n",
    "    interactions = mol.interaction_sets[bsid]\n",
    "    print(interactions.all_itypes)"
   ]
  },
  {
   "cell_type": "code",
   "execution_count": null,
   "id": "620ea4c8",
   "metadata": {},
   "outputs": [],
   "source": [
    "# To Do: Calculate total stabilization energy using Francesca's code!"
   ]
  },
  {
   "cell_type": "markdown",
   "id": "85046672",
   "metadata": {},
   "source": []
  },
  {
   "cell_type": "code",
   "execution_count": 16,
   "id": "bceae18f",
   "metadata": {},
   "outputs": [
    {
     "data": {
      "application/vnd.microsoft.datawrangler.viewer.v0+json": {
       "columns": [
        {
         "name": "index",
         "rawType": "int64",
         "type": "integer"
        },
        {
         "name": "Entry",
         "rawType": "object",
         "type": "string"
        },
        {
         "name": "tool",
         "rawType": "object",
         "type": "string"
        },
        {
         "name": "best_structure",
         "rawType": "object",
         "type": "string"
        },
        {
         "name": "avg_rmsd",
         "rawType": "float64",
         "type": "float"
        },
        {
         "name": "Squidly_CR_Position",
         "rawType": "object",
         "type": "string"
        },
        {
         "name": "distance_ligand_to_squidly_residues",
         "rawType": "object",
         "type": "unknown"
        },
        {
         "name": "distance_ligand_to_closest_nuc",
         "rawType": "object",
         "type": "unknown"
        },
        {
         "name": "Bürgi–Dunitz_angles_to_squidly_residues",
         "rawType": "object",
         "type": "unknown"
        },
        {
         "name": "Bürgi–Dunitz_angle_to_closest_nucleophile",
         "rawType": "object",
         "type": "unknown"
        },
        {
         "name": "ASvolume_dir",
         "rawType": "object",
         "type": "string"
        },
        {
         "name": "fpocket_Pocket_Score",
         "rawType": "float64",
         "type": "float"
        },
        {
         "name": "fpocket_Drug_Score",
         "rawType": "float64",
         "type": "float"
        },
        {
         "name": "fpocket_Num_alpha_spheres",
         "rawType": "int64",
         "type": "integer"
        },
        {
         "name": "fpocket_Mean_alpha_sphere_radius",
         "rawType": "float64",
         "type": "float"
        },
        {
         "name": "fpocket_Mean_alpha_sphere_Solvent_Acc",
         "rawType": "float64",
         "type": "float"
        },
        {
         "name": "fpocket_Mean_B_factor",
         "rawType": "float64",
         "type": "float"
        },
        {
         "name": "fpocket_Hydrophobicity_Score",
         "rawType": "float64",
         "type": "float"
        },
        {
         "name": "fpocket_Polarity_Score",
         "rawType": "int64",
         "type": "integer"
        },
        {
         "name": "fpocket_Amino_Acid_based_volume_Score",
         "rawType": "float64",
         "type": "float"
        },
        {
         "name": "fpocket_Pocket_volume_Monte_Carlo",
         "rawType": "float64",
         "type": "float"
        },
        {
         "name": "fpocket_Pocket_volume_convex_hull",
         "rawType": "float64",
         "type": "float"
        },
        {
         "name": "fpocket_Charge_Score",
         "rawType": "int64",
         "type": "integer"
        },
        {
         "name": "fpocket_Local_hydrophobic_density_Score",
         "rawType": "float64",
         "type": "float"
        },
        {
         "name": "fpocket_Num_apolar_alpha_sphere",
         "rawType": "int64",
         "type": "integer"
        },
        {
         "name": "fpocket_Proportion_apolar_alpha_sphere",
         "rawType": "float64",
         "type": "float"
        },
        {
         "name": "total_sasa",
         "rawType": "float64",
         "type": "float"
        },
        {
         "name": "polar_sasa",
         "rawType": "float64",
         "type": "float"
        },
        {
         "name": "apolar_sasa",
         "rawType": "float64",
         "type": "float"
        },
        {
         "name": "sasa_ligand_in_complex",
         "rawType": "float64",
         "type": "float"
        },
        {
         "name": "sasa_ligand_alone",
         "rawType": "float64",
         "type": "float"
        },
        {
         "name": "buried_sasa",
         "rawType": "float64",
         "type": "float"
        },
        {
         "name": "percentage_buried_sasa",
         "rawType": "float64",
         "type": "float"
        }
       ],
       "ref": "af27b385-aa6b-4031-bc99-c48e0579e310",
       "rows": [
        [
         "0",
         "B9ZZP0",
         "boltz",
         "B9ZZP0_model_3_boltz",
         "2.611847565426354",
         "113|317|358",
         "{'SER_114': 4.175716225990459, 'ASP_318': 8.586652956769592, 'HIS_359': 6.184116751808619}",
         "{'SER_114': 4.175716225990459}",
         "{'SER_114': nan, 'HIS_359': nan}",
         "{'SER_114': nan}",
         "pipeline_output/geometricfiltering/ASVolume/B9ZZP0_model_3_boltz_fpocket_output",
         "0.4073",
         "1.0",
         "100",
         "3.8821",
         "0.4088",
         "0.0",
         "59.2308",
         "9",
         "4.7308",
         "704.642",
         "254.2289",
         "3",
         "53.8987",
         "79",
         "0.79",
         "53.979",
         "3.259",
         "50.72",
         "4.284087002830661",
         "632.7012733217069",
         "628.4171863188762",
         "99.32288946087637"
        ],
        [
         "1",
         "B9ZZP0",
         "chai",
         "B9ZZP0_0_chai",
         "3.2898076459803405",
         "113|317|358",
         "{'SER_114': 6.869945778534208, 'ASP_318': 9.264783699579823, 'HIS_359': 7.9596048268742585}",
         "{'CYS_296': 5.992924244473645}",
         "{'SER_114': nan, 'HIS_359': nan}",
         "{'CYS_296': nan}",
         "pipeline_output/geometricfiltering/ASVolume/B9ZZP0_0_chai_fpocket_output",
         "0.1775",
         "1.0",
         "123",
         "4.1083",
         "0.4344",
         "0.0",
         "58.5357",
         "10",
         "4.5714",
         "1160.7451",
         "377.5438",
         "2",
         "58.0208",
         "96",
         "0.7805",
         "144.493",
         "22.523",
         "121.97",
         "20.916065950159997",
         "608.9610424143483",
         "588.0449764641883",
         "96.56528669432873"
        ],
        [
         "2",
         "B9ZZP0",
         "vina",
         "B9ZZP0_2_vina",
         "3.8856120358101833",
         "113|317|358",
         "{'SER_114': 3.96161961828745, 'ASP_318': 6.048998098859016, 'HIS_359': 2.91440851632025}",
         "{'SER_114': 3.96161961828745}",
         "{'SER_114': nan, 'HIS_359': nan}",
         "{'SER_114': nan}",
         "pipeline_output/geometricfiltering/ASVolume/B9ZZP0_2_vina_fpocket_output",
         "0.2968",
         "0.0924",
         "22",
         "3.6073",
         "0.3825",
         "0.0",
         "74.75",
         "3",
         "4.75",
         "125.9663",
         "7.5715",
         "1",
         "17.2727",
         "22",
         "1.0",
         "10.869",
         "0.0",
         "10.869",
         "2.495795440842594",
         "645.5953180192945",
         "643.0995225784519",
         "99.61341178116041"
        ],
        [
         "3",
         "C8WTQ0",
         "boltz",
         "C8WTQ0_model_0_boltz",
         "1.5858443953812242",
         "38|204",
         "{'THR_205': 10.918059809325099}",
         "{'SER_155': 7.237408997700765}",
         null,
         "{'SER_155': nan}",
         "pipeline_output/geometricfiltering/ASVolume/C8WTQ0_model_0_boltz_fpocket_output",
         "0.2818",
         "1.0",
         "135",
         "4.1287",
         "0.4478",
         "0.0",
         "36.3929",
         "11",
         "4.3571",
         "1419.9595",
         "566.4482",
         "1",
         "76.3738",
         "107",
         "0.7926",
         "134.556",
         "25.87",
         "108.687",
         "63.37416570521363",
         "621.3516199036353",
         "557.9774541984217",
         "89.80059539958354"
        ],
        [
         "4",
         "C8WTQ0",
         "chai",
         "C8WTQ0_3_chai",
         "1.4113006521661806",
         "38|204",
         "{'THR_205': 9.202288465376427}",
         "{'SER_155': 10.752609218231639}",
         null,
         "{'SER_155': nan}",
         "pipeline_output/geometricfiltering/ASVolume/C8WTQ0_3_chai_fpocket_output",
         "0.198",
         "1.0",
         "138",
         "4.1895",
         "0.4565",
         "0.0",
         "37.9667",
         "11",
         "4.2333",
         "1569.7216",
         "714.3979",
         "-1",
         "73.9615",
         "104",
         "0.7536",
         "182.335",
         "52.723",
         "129.612",
         "95.29094308219709",
         "619.6941413161768",
         "524.4031982339798",
         "84.62290721680742"
        ],
        [
         "5",
         "C8WTQ0",
         "vina",
         "C8WTQ0_5_vina",
         "2.199167289372389",
         "38|204",
         "{'THR_205': 4.1367133088963275}",
         "{'CYS_186': 14.414936038706518}",
         null,
         "{'CYS_186': nan}",
         "pipeline_output/geometricfiltering/ASVolume/C8WTQ0_5_vina_fpocket_output",
         "0.2624",
         "0.9667",
         "140",
         "4.1088",
         "0.4819",
         "0.0",
         "36.4194",
         "11",
         "3.9355",
         "1192.0656",
         "428.3374",
         "-1",
         "24.0",
         "53",
         "0.3786",
         "131.832",
         "36.43",
         "95.403",
         "34.29187955723566",
         "605.8057908886348",
         "571.5139113313991",
         "94.33945992709411"
        ]
       ],
       "shape": {
        "columns": 32,
        "rows": 6
       }
      },
      "text/html": [
       "<div>\n",
       "<style scoped>\n",
       "    .dataframe tbody tr th:only-of-type {\n",
       "        vertical-align: middle;\n",
       "    }\n",
       "\n",
       "    .dataframe tbody tr th {\n",
       "        vertical-align: top;\n",
       "    }\n",
       "\n",
       "    .dataframe thead th {\n",
       "        text-align: right;\n",
       "    }\n",
       "</style>\n",
       "<table border=\"1\" class=\"dataframe\">\n",
       "  <thead>\n",
       "    <tr style=\"text-align: right;\">\n",
       "      <th></th>\n",
       "      <th>Entry</th>\n",
       "      <th>tool</th>\n",
       "      <th>best_structure</th>\n",
       "      <th>avg_rmsd</th>\n",
       "      <th>Squidly_CR_Position</th>\n",
       "      <th>distance_ligand_to_squidly_residues</th>\n",
       "      <th>distance_ligand_to_closest_nuc</th>\n",
       "      <th>Bürgi–Dunitz_angles_to_squidly_residues</th>\n",
       "      <th>Bürgi–Dunitz_angle_to_closest_nucleophile</th>\n",
       "      <th>ASvolume_dir</th>\n",
       "      <th>...</th>\n",
       "      <th>fpocket_Local_hydrophobic_density_Score</th>\n",
       "      <th>fpocket_Num_apolar_alpha_sphere</th>\n",
       "      <th>fpocket_Proportion_apolar_alpha_sphere</th>\n",
       "      <th>total_sasa</th>\n",
       "      <th>polar_sasa</th>\n",
       "      <th>apolar_sasa</th>\n",
       "      <th>sasa_ligand_in_complex</th>\n",
       "      <th>sasa_ligand_alone</th>\n",
       "      <th>buried_sasa</th>\n",
       "      <th>percentage_buried_sasa</th>\n",
       "    </tr>\n",
       "  </thead>\n",
       "  <tbody>\n",
       "    <tr>\n",
       "      <th>0</th>\n",
       "      <td>B9ZZP0</td>\n",
       "      <td>boltz</td>\n",
       "      <td>B9ZZP0_model_3_boltz</td>\n",
       "      <td>2.611848</td>\n",
       "      <td>113|317|358</td>\n",
       "      <td>{'SER_114': 4.175716225990459, 'ASP_318': 8.58...</td>\n",
       "      <td>{'SER_114': 4.175716225990459}</td>\n",
       "      <td>{'SER_114': nan, 'HIS_359': nan}</td>\n",
       "      <td>{'SER_114': nan}</td>\n",
       "      <td>pipeline_output/geometricfiltering/ASVolume/B9...</td>\n",
       "      <td>...</td>\n",
       "      <td>53.8987</td>\n",
       "      <td>79</td>\n",
       "      <td>0.7900</td>\n",
       "      <td>53.979</td>\n",
       "      <td>3.259</td>\n",
       "      <td>50.720</td>\n",
       "      <td>4.284087</td>\n",
       "      <td>632.701273</td>\n",
       "      <td>628.417186</td>\n",
       "      <td>99.322889</td>\n",
       "    </tr>\n",
       "    <tr>\n",
       "      <th>1</th>\n",
       "      <td>B9ZZP0</td>\n",
       "      <td>chai</td>\n",
       "      <td>B9ZZP0_0_chai</td>\n",
       "      <td>3.289808</td>\n",
       "      <td>113|317|358</td>\n",
       "      <td>{'SER_114': 6.869945778534208, 'ASP_318': 9.26...</td>\n",
       "      <td>{'CYS_296': 5.992924244473645}</td>\n",
       "      <td>{'SER_114': nan, 'HIS_359': nan}</td>\n",
       "      <td>{'CYS_296': nan}</td>\n",
       "      <td>pipeline_output/geometricfiltering/ASVolume/B9...</td>\n",
       "      <td>...</td>\n",
       "      <td>58.0208</td>\n",
       "      <td>96</td>\n",
       "      <td>0.7805</td>\n",
       "      <td>144.493</td>\n",
       "      <td>22.523</td>\n",
       "      <td>121.970</td>\n",
       "      <td>20.916066</td>\n",
       "      <td>608.961042</td>\n",
       "      <td>588.044976</td>\n",
       "      <td>96.565287</td>\n",
       "    </tr>\n",
       "    <tr>\n",
       "      <th>2</th>\n",
       "      <td>B9ZZP0</td>\n",
       "      <td>vina</td>\n",
       "      <td>B9ZZP0_2_vina</td>\n",
       "      <td>3.885612</td>\n",
       "      <td>113|317|358</td>\n",
       "      <td>{'SER_114': 3.96161961828745, 'ASP_318': 6.048...</td>\n",
       "      <td>{'SER_114': 3.96161961828745}</td>\n",
       "      <td>{'SER_114': nan, 'HIS_359': nan}</td>\n",
       "      <td>{'SER_114': nan}</td>\n",
       "      <td>pipeline_output/geometricfiltering/ASVolume/B9...</td>\n",
       "      <td>...</td>\n",
       "      <td>17.2727</td>\n",
       "      <td>22</td>\n",
       "      <td>1.0000</td>\n",
       "      <td>10.869</td>\n",
       "      <td>0.000</td>\n",
       "      <td>10.869</td>\n",
       "      <td>2.495795</td>\n",
       "      <td>645.595318</td>\n",
       "      <td>643.099523</td>\n",
       "      <td>99.613412</td>\n",
       "    </tr>\n",
       "    <tr>\n",
       "      <th>3</th>\n",
       "      <td>C8WTQ0</td>\n",
       "      <td>boltz</td>\n",
       "      <td>C8WTQ0_model_0_boltz</td>\n",
       "      <td>1.585844</td>\n",
       "      <td>38|204</td>\n",
       "      <td>{'THR_205': 10.918059809325099}</td>\n",
       "      <td>{'SER_155': 7.237408997700765}</td>\n",
       "      <td>NaN</td>\n",
       "      <td>{'SER_155': nan}</td>\n",
       "      <td>pipeline_output/geometricfiltering/ASVolume/C8...</td>\n",
       "      <td>...</td>\n",
       "      <td>76.3738</td>\n",
       "      <td>107</td>\n",
       "      <td>0.7926</td>\n",
       "      <td>134.556</td>\n",
       "      <td>25.870</td>\n",
       "      <td>108.687</td>\n",
       "      <td>63.374166</td>\n",
       "      <td>621.351620</td>\n",
       "      <td>557.977454</td>\n",
       "      <td>89.800595</td>\n",
       "    </tr>\n",
       "    <tr>\n",
       "      <th>4</th>\n",
       "      <td>C8WTQ0</td>\n",
       "      <td>chai</td>\n",
       "      <td>C8WTQ0_3_chai</td>\n",
       "      <td>1.411301</td>\n",
       "      <td>38|204</td>\n",
       "      <td>{'THR_205': 9.202288465376427}</td>\n",
       "      <td>{'SER_155': 10.752609218231639}</td>\n",
       "      <td>NaN</td>\n",
       "      <td>{'SER_155': nan}</td>\n",
       "      <td>pipeline_output/geometricfiltering/ASVolume/C8...</td>\n",
       "      <td>...</td>\n",
       "      <td>73.9615</td>\n",
       "      <td>104</td>\n",
       "      <td>0.7536</td>\n",
       "      <td>182.335</td>\n",
       "      <td>52.723</td>\n",
       "      <td>129.612</td>\n",
       "      <td>95.290943</td>\n",
       "      <td>619.694141</td>\n",
       "      <td>524.403198</td>\n",
       "      <td>84.622907</td>\n",
       "    </tr>\n",
       "    <tr>\n",
       "      <th>5</th>\n",
       "      <td>C8WTQ0</td>\n",
       "      <td>vina</td>\n",
       "      <td>C8WTQ0_5_vina</td>\n",
       "      <td>2.199167</td>\n",
       "      <td>38|204</td>\n",
       "      <td>{'THR_205': 4.1367133088963275}</td>\n",
       "      <td>{'CYS_186': 14.414936038706518}</td>\n",
       "      <td>NaN</td>\n",
       "      <td>{'CYS_186': nan}</td>\n",
       "      <td>pipeline_output/geometricfiltering/ASVolume/C8...</td>\n",
       "      <td>...</td>\n",
       "      <td>24.0000</td>\n",
       "      <td>53</td>\n",
       "      <td>0.3786</td>\n",
       "      <td>131.832</td>\n",
       "      <td>36.430</td>\n",
       "      <td>95.403</td>\n",
       "      <td>34.291880</td>\n",
       "      <td>605.805791</td>\n",
       "      <td>571.513911</td>\n",
       "      <td>94.339460</td>\n",
       "    </tr>\n",
       "  </tbody>\n",
       "</table>\n",
       "<p>6 rows × 32 columns</p>\n",
       "</div>"
      ],
      "text/plain": [
       "    Entry   tool        best_structure  avg_rmsd Squidly_CR_Position  \\\n",
       "0  B9ZZP0  boltz  B9ZZP0_model_3_boltz  2.611848         113|317|358   \n",
       "1  B9ZZP0   chai         B9ZZP0_0_chai  3.289808         113|317|358   \n",
       "2  B9ZZP0   vina         B9ZZP0_2_vina  3.885612         113|317|358   \n",
       "3  C8WTQ0  boltz  C8WTQ0_model_0_boltz  1.585844              38|204   \n",
       "4  C8WTQ0   chai         C8WTQ0_3_chai  1.411301              38|204   \n",
       "5  C8WTQ0   vina         C8WTQ0_5_vina  2.199167              38|204   \n",
       "\n",
       "                 distance_ligand_to_squidly_residues  \\\n",
       "0  {'SER_114': 4.175716225990459, 'ASP_318': 8.58...   \n",
       "1  {'SER_114': 6.869945778534208, 'ASP_318': 9.26...   \n",
       "2  {'SER_114': 3.96161961828745, 'ASP_318': 6.048...   \n",
       "3                    {'THR_205': 10.918059809325099}   \n",
       "4                     {'THR_205': 9.202288465376427}   \n",
       "5                    {'THR_205': 4.1367133088963275}   \n",
       "\n",
       "    distance_ligand_to_closest_nuc Bürgi–Dunitz_angles_to_squidly_residues  \\\n",
       "0   {'SER_114': 4.175716225990459}        {'SER_114': nan, 'HIS_359': nan}   \n",
       "1   {'CYS_296': 5.992924244473645}        {'SER_114': nan, 'HIS_359': nan}   \n",
       "2    {'SER_114': 3.96161961828745}        {'SER_114': nan, 'HIS_359': nan}   \n",
       "3   {'SER_155': 7.237408997700765}                                     NaN   \n",
       "4  {'SER_155': 10.752609218231639}                                     NaN   \n",
       "5  {'CYS_186': 14.414936038706518}                                     NaN   \n",
       "\n",
       "  Bürgi–Dunitz_angle_to_closest_nucleophile  \\\n",
       "0                          {'SER_114': nan}   \n",
       "1                          {'CYS_296': nan}   \n",
       "2                          {'SER_114': nan}   \n",
       "3                          {'SER_155': nan}   \n",
       "4                          {'SER_155': nan}   \n",
       "5                          {'CYS_186': nan}   \n",
       "\n",
       "                                        ASvolume_dir  ...  \\\n",
       "0  pipeline_output/geometricfiltering/ASVolume/B9...  ...   \n",
       "1  pipeline_output/geometricfiltering/ASVolume/B9...  ...   \n",
       "2  pipeline_output/geometricfiltering/ASVolume/B9...  ...   \n",
       "3  pipeline_output/geometricfiltering/ASVolume/C8...  ...   \n",
       "4  pipeline_output/geometricfiltering/ASVolume/C8...  ...   \n",
       "5  pipeline_output/geometricfiltering/ASVolume/C8...  ...   \n",
       "\n",
       "   fpocket_Local_hydrophobic_density_Score  fpocket_Num_apolar_alpha_sphere  \\\n",
       "0                                  53.8987                               79   \n",
       "1                                  58.0208                               96   \n",
       "2                                  17.2727                               22   \n",
       "3                                  76.3738                              107   \n",
       "4                                  73.9615                              104   \n",
       "5                                  24.0000                               53   \n",
       "\n",
       "   fpocket_Proportion_apolar_alpha_sphere  total_sasa  polar_sasa  \\\n",
       "0                                  0.7900      53.979       3.259   \n",
       "1                                  0.7805     144.493      22.523   \n",
       "2                                  1.0000      10.869       0.000   \n",
       "3                                  0.7926     134.556      25.870   \n",
       "4                                  0.7536     182.335      52.723   \n",
       "5                                  0.3786     131.832      36.430   \n",
       "\n",
       "   apolar_sasa  sasa_ligand_in_complex  sasa_ligand_alone  buried_sasa  \\\n",
       "0       50.720                4.284087         632.701273   628.417186   \n",
       "1      121.970               20.916066         608.961042   588.044976   \n",
       "2       10.869                2.495795         645.595318   643.099523   \n",
       "3      108.687               63.374166         621.351620   557.977454   \n",
       "4      129.612               95.290943         619.694141   524.403198   \n",
       "5       95.403               34.291880         605.805791   571.513911   \n",
       "\n",
       "   percentage_buried_sasa  \n",
       "0               99.322889  \n",
       "1               96.565287  \n",
       "2               99.613412  \n",
       "3               89.800595  \n",
       "4               84.622907  \n",
       "5               94.339460  \n",
       "\n",
       "[6 rows x 32 columns]"
      ]
     },
     "execution_count": 16,
     "metadata": {},
     "output_type": "execute_result"
    }
   ],
   "source": [
    "import pandas as pd\n",
    "\n",
    "df = pd.read_pickle('/nvme2/helen/EnzymeStructuralFiltering/pipeline_output/geometricfiltering/LigandSASA.pkl')\n",
    "df"
   ]
  }
 ],
 "metadata": {
  "kernelspec": {
   "display_name": "enzymetk",
   "language": "python",
   "name": "python3"
  },
  "language_info": {
   "codemirror_mode": {
    "name": "ipython",
    "version": 3
   },
   "file_extension": ".py",
   "mimetype": "text/x-python",
   "name": "python",
   "nbconvert_exporter": "python",
   "pygments_lexer": "ipython3",
   "version": "3.11.8"
  }
 },
 "nbformat": 4,
 "nbformat_minor": 5
}
