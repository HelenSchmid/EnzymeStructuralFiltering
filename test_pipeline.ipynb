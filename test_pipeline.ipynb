{
 "cells": [
  {
   "cell_type": "markdown",
   "id": "b07c14cc",
   "metadata": {},
   "source": [
    "# Testing pipeline"
   ]
  },
  {
   "cell_type": "code",
   "execution_count": 1,
   "id": "9edbab4d",
   "metadata": {},
   "outputs": [],
   "source": [
    "import logging\n",
    "\n",
    "logger = logging.getLogger(__name__)\n",
    "logger.setLevel(logging.INFO)\n",
    "\n",
    "# Add this block to display logs in notebook output\n",
    "if not logger.hasHandlers():\n",
    "    handler = logging.StreamHandler()\n",
    "    handler.setFormatter(logging.Formatter('%(levelname)s - %(message)s'))\n",
    "    logger.addHandler(handler)"
   ]
  },
  {
   "cell_type": "code",
   "execution_count": 2,
   "id": "04aeed06",
   "metadata": {},
   "outputs": [],
   "source": [
    "import logging\n",
    "\n",
    "# Set up the root logger to print to Jupyter output\n",
    "logger = logging.getLogger(__name__)\n",
    "logger.setLevel(logging.INFO)\n",
    "\n",
    "if not logger.hasHandlers():\n",
    "    handler = logging.StreamHandler()\n",
    "    formatter = logging.Formatter('%(levelname)s - %(message)s')\n",
    "    handler.setFormatter(formatter)\n",
    "    logger.addHandler(handler)\n"
   ]
  },
  {
   "cell_type": "markdown",
   "id": "85046672",
   "metadata": {},
   "source": []
  },
  {
   "cell_type": "code",
   "execution_count": 1,
   "id": "e47912a0",
   "metadata": {},
   "outputs": [
    {
     "name": "stderr",
     "output_type": "stream",
     "text": [
      "/home/helen/miniconda3/envs/enzymetk/lib/python3.11/site-packages/tqdm/auto.py:21: TqdmWarning: IProgress not found. Please update jupyter and ipywidgets. See https://ipywidgets.readthedocs.io/en/stable/user_install.html\n",
      "  from .autonotebook import tqdm as notebook_tqdm\n"
     ]
    },
    {
     "name": "stdout",
     "output_type": "stream",
     "text": [
      "run chai\n",
      "B9ZZP0 MAASRANDAPIVLLHGFTGWGREEMFGFKYWGGVRGDIEQWLNDNGYRTYTLAVGPLSSNWDRACEAYAQLVGGTVDYGAAHAAKHGHARFGRTYLGLLPELKRGGRIHIIAHSQGGQTARMLVSLLENGSQEEREYAKAHNVSLSPLFEGGHHFVLSVTTIATPHDGTTLVNMVDFTDRFFDLQKAVLEAAAVASNVPYTSQVYDFKLDQWGLRRQPGESFDHYFERLKRSPVWTSTDTARYDLSVSGAEKLNQWVQASPNTYYLSFATERTYRGALTGNYYPELGMNAFSAVVCAPFLGSYRNPTLGIDDRWLENDGIVNTVSMNGPKRGSSDRIVPYDGALKKGVWNDMGTYNVDHLEIIGVDPNPSFDIRAFYLRLAEQLASLQP CCCCC(CC)COC(=O)C1=CC=CC=C1C(=O)OCC(CC)CCCC\n",
      "CCCCC(CC)COC(=O)C1=CC=CC=C1C(=O)OCC(CC)CCCC\n",
      "chai/B9ZZP0\n"
     ]
    },
    {
     "name": "stderr",
     "output_type": "stream",
     "text": [
      "mkdir: cannot create directory ‘chai/B9ZZP0’: No such file or directory\n"
     ]
    },
    {
     "ename": "FileNotFoundError",
     "evalue": "[Errno 2] No such file or directory: 'chai/B9ZZP0/B9ZZP0.fasta'",
     "output_type": "error",
     "traceback": [
      "\u001b[31m---------------------------------------------------------------------------\u001b[39m",
      "\u001b[31mFileNotFoundError\u001b[39m                         Traceback (most recent call last)",
      "\u001b[36mCell\u001b[39m\u001b[36m \u001b[39m\u001b[32mIn[1]\u001b[39m\u001b[32m, line 17\u001b[39m\n\u001b[32m      7\u001b[39m df = df.head(\u001b[32m5\u001b[39m)\n\u001b[32m      9\u001b[39m docking = Docking(\n\u001b[32m     10\u001b[39m     ligand_name = \u001b[33m'\u001b[39m\u001b[33mTPP\u001b[39m\u001b[33m'\u001b[39m, \n\u001b[32m     11\u001b[39m     ligand_smiles =\u001b[33m'\u001b[39m\u001b[33mCCCCC(CC)COC(=O)C1=CC=CC=C1C(=O)OCC(CC)CCCC\u001b[39m\u001b[33m'\u001b[39m, \n\u001b[32m   (...)\u001b[39m\u001b[32m     14\u001b[39m     squidly_dir = \u001b[33m'\u001b[39m\u001b[33m/home/helen/enzyme-tk/models/squidly_final_models/\u001b[39m\u001b[33m'\u001b[39m\n\u001b[32m     15\u001b[39m )\n\u001b[32m---> \u001b[39m\u001b[32m17\u001b[39m \u001b[43mdocking\u001b[49m\u001b[43m.\u001b[49m\u001b[43mrun\u001b[49m\u001b[43m(\u001b[49m\u001b[43m)\u001b[49m\n",
      "\u001b[36mFile \u001b[39m\u001b[32m/nvme2/helen/EnzymeStructuralFiltering/filtering_pipeline/pipeline.py:55\u001b[39m, in \u001b[36mDocking.run\u001b[39m\u001b[34m(self)\u001b[39m\n\u001b[32m     53\u001b[39m \u001b[38;5;28;01mif\u001b[39;00m \u001b[38;5;28mself\u001b[39m.run_docking: \n\u001b[32m     54\u001b[39m     df_squidly = \u001b[38;5;28mself\u001b[39m._catalytic_residue_prediction()\n\u001b[32m---> \u001b[39m\u001b[32m55\u001b[39m     \u001b[38;5;28;43mself\u001b[39;49m\u001b[43m.\u001b[49m\u001b[43m_run_chai\u001b[49m\u001b[43m(\u001b[49m\u001b[43mdf_squidly\u001b[49m\u001b[43m)\u001b[49m\n\u001b[32m     56\u001b[39m     \u001b[38;5;28mself\u001b[39m._run_vina()\n\u001b[32m     57\u001b[39m     \u001b[38;5;28mself\u001b[39m._run_boltz()\n",
      "\u001b[36mFile \u001b[39m\u001b[32m/nvme2/helen/EnzymeStructuralFiltering/filtering_pipeline/pipeline.py:75\u001b[39m, in \u001b[36mDocking._run_chai\u001b[39m\u001b[34m(self, df_squidly)\u001b[39m\n\u001b[32m     73\u001b[39m \u001b[38;5;28mprint\u001b[39m(\u001b[33m'\u001b[39m\u001b[33mrun chai\u001b[39m\u001b[33m'\u001b[39m)\n\u001b[32m     74\u001b[39m df_squidly.loc[:, \u001b[33m'\u001b[39m\u001b[33msubstrate\u001b[39m\u001b[33m'\u001b[39m] = \u001b[38;5;28mself\u001b[39m.ligand_smiles\n\u001b[32m---> \u001b[39m\u001b[32m75\u001b[39m \u001b[43mdf_squidly\u001b[49m\u001b[43m \u001b[49m\u001b[43m<<\u001b[49m\u001b[43m \u001b[49m\u001b[43m(\u001b[49m\u001b[43mChai\u001b[49m\u001b[43m(\u001b[49m\u001b[33;43m'\u001b[39;49m\u001b[33;43mEntry\u001b[39;49m\u001b[33;43m'\u001b[39;49m\u001b[43m,\u001b[49m\u001b[43m \u001b[49m\u001b[33;43m'\u001b[39;49m\u001b[33;43mSequence\u001b[39;49m\u001b[33;43m'\u001b[39;49m\u001b[43m,\u001b[49m\u001b[43m \u001b[49m\u001b[33;43m'\u001b[39;49m\u001b[33;43msubstrate\u001b[39;49m\u001b[33;43m'\u001b[39;49m\u001b[43m,\u001b[49m\u001b[43m \u001b[49m\u001b[33;43m'\u001b[39;49m\u001b[33;43mchai/\u001b[39;49m\u001b[33;43m'\u001b[39;49m\u001b[43m,\u001b[49m\u001b[43m \u001b[49m\u001b[32;43m1\u001b[39;49m\u001b[43m)\u001b[49m\u001b[43m \u001b[49m\u001b[43m>>\u001b[49m\u001b[43m \u001b[49m\u001b[43mSave\u001b[49m\u001b[43m(\u001b[49m\u001b[33;43m'\u001b[39;49m\u001b[33;43mchai.pkl\u001b[39;49m\u001b[33;43m'\u001b[39;49m\u001b[43m)\u001b[49m\u001b[43m)\u001b[49m\n",
      "\u001b[36mFile \u001b[39m\u001b[32m~/miniconda3/envs/enzymetk/lib/python3.11/site-packages/enzymetk/step.py:26\u001b[39m, in \u001b[36mPipeline.__rlshift__\u001b[39m\u001b[34m(self, other)\u001b[39m\n\u001b[32m     25\u001b[39m \u001b[38;5;28;01mdef\u001b[39;00m\u001b[38;5;250m \u001b[39m\u001b[34m__rlshift__\u001b[39m(\u001b[38;5;28mself\u001b[39m, other: pd.DataFrame) -> pd.DataFrame:\n\u001b[32m---> \u001b[39m\u001b[32m26\u001b[39m     \u001b[38;5;28;01mreturn\u001b[39;00m \u001b[38;5;28;43mself\u001b[39;49m\u001b[43m.\u001b[49m\u001b[43mexecute\u001b[49m\u001b[43m(\u001b[49m\u001b[43mother\u001b[49m\u001b[43m)\u001b[49m\n",
      "\u001b[36mFile \u001b[39m\u001b[32m~/miniconda3/envs/enzymetk/lib/python3.11/site-packages/enzymetk/step.py:22\u001b[39m, in \u001b[36mPipeline.execute\u001b[39m\u001b[34m(self, df)\u001b[39m\n\u001b[32m     18\u001b[39m \u001b[38;5;250m\u001b[39m\u001b[33;03m\"\"\" \u001b[39;00m\n\u001b[32m     19\u001b[39m \u001b[33;03mExecute some shit.\u001b[39;00m\n\u001b[32m     20\u001b[39m \u001b[33;03m\"\"\"\u001b[39;00m      \n\u001b[32m     21\u001b[39m \u001b[38;5;28;01mfor\u001b[39;00m step \u001b[38;5;129;01min\u001b[39;00m \u001b[38;5;28mself\u001b[39m.steps:\n\u001b[32m---> \u001b[39m\u001b[32m22\u001b[39m     df = \u001b[43mstep\u001b[49m\u001b[43m.\u001b[49m\u001b[43mexecute\u001b[49m\u001b[43m(\u001b[49m\u001b[43mdf\u001b[49m\u001b[43m)\u001b[49m\n\u001b[32m     23\u001b[39m \u001b[38;5;28;01mreturn\u001b[39;00m df\n",
      "\u001b[36mFile \u001b[39m\u001b[32m~/miniconda3/envs/enzymetk/lib/python3.11/site-packages/enzymetk/dock_chai_step.py:47\u001b[39m, in \u001b[36mChai.execute\u001b[39m\u001b[34m(self, df)\u001b[39m\n\u001b[32m     44\u001b[39m     \u001b[38;5;28;01mreturn\u001b[39;00m df\n\u001b[32m     46\u001b[39m \u001b[38;5;28;01melse\u001b[39;00m:\n\u001b[32m---> \u001b[39m\u001b[32m47\u001b[39m     output_filenames = \u001b[38;5;28;43mself\u001b[39;49m\u001b[43m.\u001b[49m\u001b[43m__execute\u001b[49m\u001b[43m(\u001b[49m\u001b[43mdf\u001b[49m\u001b[43m,\u001b[49m\u001b[43m \u001b[49m\u001b[38;5;28;43mself\u001b[39;49m\u001b[43m.\u001b[49m\u001b[43moutput_dir\u001b[49m\u001b[43m)\u001b[49m\n\u001b[32m     48\u001b[39m     df[\u001b[33m'\u001b[39m\u001b[33moutput_dir\u001b[39m\u001b[33m'\u001b[39m] = output_filenames\n\u001b[32m     49\u001b[39m     \u001b[38;5;28;01mreturn\u001b[39;00m df\n",
      "\u001b[36mFile \u001b[39m\u001b[32m~/miniconda3/envs/enzymetk/lib/python3.11/site-packages/enzymetk/dock_chai_step.py:28\u001b[39m, in \u001b[36mChai.__execute\u001b[39m\u001b[34m(self, df, tmp_dir)\u001b[39m\n\u001b[32m     26\u001b[39m         substrate = \u001b[33m'\u001b[39m\u001b[33m'\u001b[39m\n\u001b[32m     27\u001b[39m     \u001b[38;5;28mprint\u001b[39m(run_id, seq, substrate)\n\u001b[32m---> \u001b[39m\u001b[32m28\u001b[39m     \u001b[43mrun_chai\u001b[49m\u001b[43m(\u001b[49m\u001b[43mrun_id\u001b[49m\u001b[43m,\u001b[49m\u001b[43m \u001b[49m\u001b[38;5;66;43;03m# name\u001b[39;49;00m\n\u001b[32m     29\u001b[39m \u001b[43m            \u001b[49m\u001b[43mseq\u001b[49m\u001b[43m,\u001b[49m\u001b[43m \u001b[49m\u001b[38;5;66;43;03m# sequence\u001b[39;49;00m\n\u001b[32m     30\u001b[39m \u001b[43m            \u001b[49m\u001b[43msubstrate\u001b[49m\u001b[43m,\u001b[49m\u001b[43m \u001b[49m\u001b[38;5;66;43;03m# ligand as smiles\u001b[39;49;00m\n\u001b[32m     31\u001b[39m \u001b[43m            \u001b[49m\u001b[43mtmp_dir\u001b[49m\u001b[43m)\u001b[49m\n\u001b[32m     32\u001b[39m     output_filenames.append(\u001b[33mf\u001b[39m\u001b[33m'\u001b[39m\u001b[38;5;132;01m{\u001b[39;00mtmp_dir\u001b[38;5;132;01m}\u001b[39;00m\u001b[33m/\u001b[39m\u001b[38;5;132;01m{\u001b[39;00mrun_id\u001b[38;5;132;01m}\u001b[39;00m\u001b[33m/\u001b[39m\u001b[33m'\u001b[39m)\n\u001b[32m     33\u001b[39m \u001b[38;5;28;01mreturn\u001b[39;00m output_filenames\n",
      "\u001b[36mFile \u001b[39m\u001b[32m~/miniconda3/envs/enzymetk/lib/python3.11/site-packages/docko/chai.py:78\u001b[39m, in \u001b[36mrun_chai\u001b[39m\u001b[34m(label, seq, smiles, output_dir, cofactor_smiles, joinsubcofactor)\u001b[39m\n\u001b[32m     76\u001b[39m \u001b[38;5;66;03m# CHeck this is OK\u001b[39;00m\n\u001b[32m     77\u001b[39m fasta_path = Path(\u001b[33mf\u001b[39m\u001b[33m\"\u001b[39m\u001b[38;5;132;01m{\u001b[39;00moutput_subdir\u001b[38;5;132;01m}\u001b[39;00m\u001b[33m/\u001b[39m\u001b[38;5;132;01m{\u001b[39;00mlabel\u001b[38;5;132;01m}\u001b[39;00m\u001b[33m.fasta\u001b[39m\u001b[33m\"\u001b[39m)\n\u001b[32m---> \u001b[39m\u001b[32m78\u001b[39m \u001b[43mfasta_path\u001b[49m\u001b[43m.\u001b[49m\u001b[43mwrite_text\u001b[49m\u001b[43m(\u001b[49m\u001b[43mexample_fasta\u001b[49m\u001b[43m)\u001b[49m\n\u001b[32m     79\u001b[39m os.system(\u001b[33mf\u001b[39m\u001b[33m\"\u001b[39m\u001b[33mmkdir \u001b[39m\u001b[38;5;132;01m{\u001b[39;00moutput_subdir\u001b[38;5;132;01m}\u001b[39;00m\u001b[33m/chai/\u001b[39m\u001b[33m\"\u001b[39m)\n\u001b[32m     80\u001b[39m output_subdir = Path(\u001b[33mf\u001b[39m\u001b[33m\"\u001b[39m\u001b[38;5;132;01m{\u001b[39;00moutput_subdir\u001b[38;5;132;01m}\u001b[39;00m\u001b[33m/chai/\u001b[39m\u001b[33m\"\u001b[39m)\n",
      "\u001b[36mFile \u001b[39m\u001b[32m~/miniconda3/envs/enzymetk/lib/python3.11/pathlib.py:1078\u001b[39m, in \u001b[36mPath.write_text\u001b[39m\u001b[34m(self, data, encoding, errors, newline)\u001b[39m\n\u001b[32m   1075\u001b[39m     \u001b[38;5;28;01mraise\u001b[39;00m \u001b[38;5;167;01mTypeError\u001b[39;00m(\u001b[33m'\u001b[39m\u001b[33mdata must be str, not \u001b[39m\u001b[38;5;132;01m%s\u001b[39;00m\u001b[33m'\u001b[39m %\n\u001b[32m   1076\u001b[39m                     data.\u001b[34m__class__\u001b[39m.\u001b[34m__name__\u001b[39m)\n\u001b[32m   1077\u001b[39m encoding = io.text_encoding(encoding)\n\u001b[32m-> \u001b[39m\u001b[32m1078\u001b[39m \u001b[38;5;28;01mwith\u001b[39;00m \u001b[38;5;28;43mself\u001b[39;49m\u001b[43m.\u001b[49m\u001b[43mopen\u001b[49m\u001b[43m(\u001b[49m\u001b[43mmode\u001b[49m\u001b[43m=\u001b[49m\u001b[33;43m'\u001b[39;49m\u001b[33;43mw\u001b[39;49m\u001b[33;43m'\u001b[39;49m\u001b[43m,\u001b[49m\u001b[43m \u001b[49m\u001b[43mencoding\u001b[49m\u001b[43m=\u001b[49m\u001b[43mencoding\u001b[49m\u001b[43m,\u001b[49m\u001b[43m \u001b[49m\u001b[43merrors\u001b[49m\u001b[43m=\u001b[49m\u001b[43merrors\u001b[49m\u001b[43m,\u001b[49m\u001b[43m \u001b[49m\u001b[43mnewline\u001b[49m\u001b[43m=\u001b[49m\u001b[43mnewline\u001b[49m\u001b[43m)\u001b[49m \u001b[38;5;28;01mas\u001b[39;00m f:\n\u001b[32m   1079\u001b[39m     \u001b[38;5;28;01mreturn\u001b[39;00m f.write(data)\n",
      "\u001b[36mFile \u001b[39m\u001b[32m~/miniconda3/envs/enzymetk/lib/python3.11/pathlib.py:1044\u001b[39m, in \u001b[36mPath.open\u001b[39m\u001b[34m(self, mode, buffering, encoding, errors, newline)\u001b[39m\n\u001b[32m   1042\u001b[39m \u001b[38;5;28;01mif\u001b[39;00m \u001b[33m\"\u001b[39m\u001b[33mb\u001b[39m\u001b[33m\"\u001b[39m \u001b[38;5;129;01mnot\u001b[39;00m \u001b[38;5;129;01min\u001b[39;00m mode:\n\u001b[32m   1043\u001b[39m     encoding = io.text_encoding(encoding)\n\u001b[32m-> \u001b[39m\u001b[32m1044\u001b[39m \u001b[38;5;28;01mreturn\u001b[39;00m io.open(\u001b[38;5;28mself\u001b[39m, mode, buffering, encoding, errors, newline)\n",
      "\u001b[31mFileNotFoundError\u001b[39m: [Errno 2] No such file or directory: 'chai/B9ZZP0/B9ZZP0.fasta'"
     ]
    }
   ],
   "source": [
    "import pandas as pd\n",
    "\n",
    "from filtering_pipeline.pipeline import Docking\n",
    "\n",
    "df = pd.read_pickle('DEHP-MEHP.pkl')\n",
    "df = df.drop_duplicates(subset='Entry', keep='first')\n",
    "df = df.head(5)\n",
    "\n",
    "docking = Docking(\n",
    "    ligand_name = 'TPP', \n",
    "    ligand_smiles ='CCCCC(CC)COC(=O)C1=CC=CC=C1C(=O)OCC(CC)CCCC', \n",
    "    df = df,\n",
    "    output_dir = 'test_pipeline', \n",
    "    squidly_dir = '/home/helen/enzyme-tk/models/squidly_final_models/'\n",
    ")\n",
    "\n",
    "docking.run()"
   ]
  }
 ],
 "metadata": {
  "kernelspec": {
   "display_name": "Python (enzymetk)",
   "language": "python",
   "name": "enzymetk"
  },
  "language_info": {
   "codemirror_mode": {
    "name": "ipython",
    "version": 3
   },
   "file_extension": ".py",
   "mimetype": "text/x-python",
   "name": "python",
   "nbconvert_exporter": "python",
   "pygments_lexer": "ipython3",
   "version": "3.11.8"
  }
 },
 "nbformat": 4,
 "nbformat_minor": 5
}
